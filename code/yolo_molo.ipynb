{
 "cells": [
  {
   "cell_type": "code",
   "execution_count": 1,
   "metadata": {},
   "outputs": [],
   "source": [
    "import os\n",
    "\n",
    "from ultralytics import YOLO"
   ]
  },
  {
   "cell_type": "code",
   "execution_count": 3,
   "metadata": {},
   "outputs": [],
   "source": [
    "ROOT_DIR = r\"C:\\Users\\77019\\Desktop\\kbtu\\5 sem\\tic_tac_toe_cv\\code\""
   ]
  },
  {
   "cell_type": "code",
   "execution_count": 5,
   "metadata": {},
   "outputs": [
    {
     "name": "stdout",
     "output_type": "stream",
     "text": [
      "Ultralytics 8.3.23  Python-3.12.1 torch-2.5.0+cpu CPU (Intel Core(TM) i5-8250U 1.60GHz)\n",
      "\u001b[34m\u001b[1mengine\\trainer: \u001b[0mtask=detect, mode=train, model=yolov8n.yaml, data=C:\\Users\\77019\\Desktop\\kbtu\\5 sem\\tic_tac_toe_cv\\code\\google_colab_config.yaml, epochs=100, time=None, patience=100, batch=16, imgsz=640, save=True, save_period=-1, cache=False, device=None, workers=8, project=None, name=train3, exist_ok=False, pretrained=True, optimizer=auto, verbose=True, seed=0, deterministic=True, single_cls=False, rect=False, cos_lr=False, close_mosaic=10, resume=False, amp=True, fraction=1.0, profile=False, freeze=None, multi_scale=False, overlap_mask=True, mask_ratio=4, dropout=0.0, val=True, split=val, save_json=False, save_hybrid=False, conf=None, iou=0.7, max_det=300, half=False, dnn=False, plots=True, source=None, vid_stride=1, stream_buffer=False, visualize=False, augment=False, agnostic_nms=False, classes=None, retina_masks=False, embed=None, show=False, save_frames=False, save_txt=False, save_conf=False, save_crop=False, show_labels=True, show_conf=True, show_boxes=True, line_width=None, format=torchscript, keras=False, optimize=False, int8=False, dynamic=False, simplify=True, opset=None, workspace=4, nms=False, lr0=0.01, lrf=0.01, momentum=0.937, weight_decay=0.0005, warmup_epochs=3.0, warmup_momentum=0.8, warmup_bias_lr=0.1, box=7.5, cls=0.5, dfl=1.5, pose=12.0, kobj=1.0, label_smoothing=0.0, nbs=64, hsv_h=0.015, hsv_s=0.7, hsv_v=0.4, degrees=0.0, translate=0.1, scale=0.5, shear=0.0, perspective=0.0, flipud=0.0, fliplr=0.5, bgr=0.0, mosaic=1.0, mixup=0.0, copy_paste=0.0, copy_paste_mode=flip, auto_augment=randaugment, erasing=0.4, crop_fraction=1.0, cfg=None, tracker=botsort.yaml, save_dir=c:\\Users\\77019\\Desktop\\kbtu\\5 sem\\tic_tac_toe_cv\\runs\\detect\\train3\n",
      "Overriding model.yaml nc=80 with nc=2\n",
      "\n",
      "                   from  n    params  module                                       arguments                     \n",
      "  0                  -1  1       464  ultralytics.nn.modules.conv.Conv             [3, 16, 3, 2]                 \n",
      "  1                  -1  1      4672  ultralytics.nn.modules.conv.Conv             [16, 32, 3, 2]                \n",
      "  2                  -1  1      7360  ultralytics.nn.modules.block.C2f             [32, 32, 1, True]             \n",
      "  3                  -1  1     18560  ultralytics.nn.modules.conv.Conv             [32, 64, 3, 2]                \n",
      "  4                  -1  2     49664  ultralytics.nn.modules.block.C2f             [64, 64, 2, True]             \n",
      "  5                  -1  1     73984  ultralytics.nn.modules.conv.Conv             [64, 128, 3, 2]               \n",
      "  6                  -1  2    197632  ultralytics.nn.modules.block.C2f             [128, 128, 2, True]           \n",
      "  7                  -1  1    295424  ultralytics.nn.modules.conv.Conv             [128, 256, 3, 2]              \n",
      "  8                  -1  1    460288  ultralytics.nn.modules.block.C2f             [256, 256, 1, True]           \n",
      "  9                  -1  1    164608  ultralytics.nn.modules.block.SPPF            [256, 256, 5]                 \n",
      " 10                  -1  1         0  torch.nn.modules.upsampling.Upsample         [None, 2, 'nearest']          \n",
      " 11             [-1, 6]  1         0  ultralytics.nn.modules.conv.Concat           [1]                           \n",
      " 12                  -1  1    148224  ultralytics.nn.modules.block.C2f             [384, 128, 1]                 \n",
      " 13                  -1  1         0  torch.nn.modules.upsampling.Upsample         [None, 2, 'nearest']          \n",
      " 14             [-1, 4]  1         0  ultralytics.nn.modules.conv.Concat           [1]                           \n",
      " 15                  -1  1     37248  ultralytics.nn.modules.block.C2f             [192, 64, 1]                  \n",
      " 16                  -1  1     36992  ultralytics.nn.modules.conv.Conv             [64, 64, 3, 2]                \n",
      " 17            [-1, 12]  1         0  ultralytics.nn.modules.conv.Concat           [1]                           \n",
      " 18                  -1  1    123648  ultralytics.nn.modules.block.C2f             [192, 128, 1]                 \n",
      " 19                  -1  1    147712  ultralytics.nn.modules.conv.Conv             [128, 128, 3, 2]              \n",
      " 20             [-1, 9]  1         0  ultralytics.nn.modules.conv.Concat           [1]                           \n",
      " 21                  -1  1    493056  ultralytics.nn.modules.block.C2f             [384, 256, 1]                 \n",
      " 22        [15, 18, 21]  1    751702  ultralytics.nn.modules.head.Detect           [2, [64, 128, 256]]           \n",
      "YOLOv8n summary: 225 layers, 3,011,238 parameters, 3,011,222 gradients, 8.2 GFLOPs\n",
      "\n",
      "Freezing layer 'model.22.dfl.conv.weight'\n"
     ]
    },
    {
     "name": "stderr",
     "output_type": "stream",
     "text": [
      "\u001b[34m\u001b[1mtrain: \u001b[0mScanning C:\\Users\\77019\\Desktop\\kbtu\\5 sem\\tic_tac_toe_cv\\new_data\\labels\\train.cache... 57 images, 0 backgrounds, 0 corrupt: 100%|██████████| 57/57 [00:00<?, ?it/s]"
     ]
    },
    {
     "name": "stdout",
     "output_type": "stream",
     "text": [
      "\u001b[34m\u001b[1malbumentations: \u001b[0mBlur(p=0.01, blur_limit=(3, 7)), MedianBlur(p=0.01, blur_limit=(3, 7)), ToGray(p=0.01, num_output_channels=3, method='weighted_average'), CLAHE(p=0.01, clip_limit=(1.0, 4.0), tile_grid_size=(8, 8))\n"
     ]
    },
    {
     "name": "stderr",
     "output_type": "stream",
     "text": [
      "\n",
      "\u001b[34m\u001b[1mval: \u001b[0mScanning C:\\Users\\77019\\Desktop\\kbtu\\5 sem\\tic_tac_toe_cv\\new_data\\labels\\test.cache... 8 images, 0 backgrounds, 0 corrupt: 100%|██████████| 8/8 [00:00<?, ?it/s]"
     ]
    },
    {
     "name": "stdout",
     "output_type": "stream",
     "text": [
      "Plotting labels to c:\\Users\\77019\\Desktop\\kbtu\\5 sem\\tic_tac_toe_cv\\runs\\detect\\train3\\labels.jpg... \n"
     ]
    },
    {
     "name": "stderr",
     "output_type": "stream",
     "text": [
      "\n"
     ]
    },
    {
     "name": "stdout",
     "output_type": "stream",
     "text": [
      "\u001b[34m\u001b[1moptimizer:\u001b[0m 'optimizer=auto' found, ignoring 'lr0=0.01' and 'momentum=0.937' and determining best 'optimizer', 'lr0' and 'momentum' automatically... \n",
      "\u001b[34m\u001b[1moptimizer:\u001b[0m AdamW(lr=0.001667, momentum=0.9) with parameter groups 57 weight(decay=0.0), 64 weight(decay=0.0005), 63 bias(decay=0.0)\n",
      "Image sizes 640 train, 640 val\n",
      "Using 0 dataloader workers\n",
      "Logging results to \u001b[1mc:\\Users\\77019\\Desktop\\kbtu\\5 sem\\tic_tac_toe_cv\\runs\\detect\\train3\u001b[0m\n",
      "Starting training for 100 epochs...\n",
      "\n",
      "      Epoch    GPU_mem   box_loss   cls_loss   dfl_loss  Instances       Size\n"
     ]
    },
    {
     "name": "stderr",
     "output_type": "stream",
     "text": [
      "      1/100         0G      2.652      4.645      4.436         51        640: 100%|██████████| 4/4 [00:36<00:00,  9.20s/it]\n",
      "                 Class     Images  Instances      Box(P          R      mAP50  mAP50-95): 100%|██████████| 1/1 [00:01<00:00,  1.69s/it]"
     ]
    },
    {
     "name": "stdout",
     "output_type": "stream",
     "text": [
      "                   all          8         16          0          0          0          0\n"
     ]
    },
    {
     "name": "stderr",
     "output_type": "stream",
     "text": [
      "\n"
     ]
    },
    {
     "name": "stdout",
     "output_type": "stream",
     "text": [
      "\n",
      "      Epoch    GPU_mem   box_loss   cls_loss   dfl_loss  Instances       Size\n"
     ]
    },
    {
     "name": "stderr",
     "output_type": "stream",
     "text": [
      "      2/100         0G      2.838      4.463      4.368         51        640: 100%|██████████| 4/4 [00:33<00:00,  8.41s/it]\n",
      "                 Class     Images  Instances      Box(P          R      mAP50  mAP50-95): 100%|██████████| 1/1 [00:01<00:00,  1.88s/it]"
     ]
    },
    {
     "name": "stdout",
     "output_type": "stream",
     "text": [
      "                   all          8         16          0          0          0          0\n"
     ]
    },
    {
     "name": "stderr",
     "output_type": "stream",
     "text": [
      "\n"
     ]
    },
    {
     "name": "stdout",
     "output_type": "stream",
     "text": [
      "\n",
      "      Epoch    GPU_mem   box_loss   cls_loss   dfl_loss  Instances       Size\n"
     ]
    },
    {
     "name": "stderr",
     "output_type": "stream",
     "text": [
      "      3/100         0G      3.009      4.214      4.304         31        640: 100%|██████████| 4/4 [00:31<00:00,  7.97s/it]\n",
      "                 Class     Images  Instances      Box(P          R      mAP50  mAP50-95): 100%|██████████| 1/1 [00:01<00:00,  1.72s/it]"
     ]
    },
    {
     "name": "stdout",
     "output_type": "stream",
     "text": [
      "                   all          8         16          0          0          0          0\n"
     ]
    },
    {
     "name": "stderr",
     "output_type": "stream",
     "text": [
      "\n"
     ]
    },
    {
     "name": "stdout",
     "output_type": "stream",
     "text": [
      "\n",
      "      Epoch    GPU_mem   box_loss   cls_loss   dfl_loss  Instances       Size\n"
     ]
    },
    {
     "name": "stderr",
     "output_type": "stream",
     "text": [
      "      4/100         0G      2.753      4.012      4.237         18        640: 100%|██████████| 4/4 [00:33<00:00,  8.39s/it]\n",
      "                 Class     Images  Instances      Box(P          R      mAP50  mAP50-95): 100%|██████████| 1/1 [00:01<00:00,  1.70s/it]"
     ]
    },
    {
     "name": "stdout",
     "output_type": "stream",
     "text": [
      "                   all          8         16          0          0          0          0\n"
     ]
    },
    {
     "name": "stderr",
     "output_type": "stream",
     "text": [
      "\n"
     ]
    },
    {
     "name": "stdout",
     "output_type": "stream",
     "text": [
      "\n",
      "      Epoch    GPU_mem   box_loss   cls_loss   dfl_loss  Instances       Size\n"
     ]
    },
    {
     "name": "stderr",
     "output_type": "stream",
     "text": [
      "      5/100         0G      2.949      3.666      4.132         34        640: 100%|██████████| 4/4 [00:31<00:00,  7.98s/it]\n",
      "                 Class     Images  Instances      Box(P          R      mAP50  mAP50-95): 100%|██████████| 1/1 [00:01<00:00,  1.69s/it]"
     ]
    },
    {
     "name": "stdout",
     "output_type": "stream",
     "text": [
      "                   all          8         16          0          0          0          0\n"
     ]
    },
    {
     "name": "stderr",
     "output_type": "stream",
     "text": [
      "\n"
     ]
    },
    {
     "name": "stdout",
     "output_type": "stream",
     "text": [
      "\n",
      "      Epoch    GPU_mem   box_loss   cls_loss   dfl_loss  Instances       Size\n"
     ]
    },
    {
     "name": "stderr",
     "output_type": "stream",
     "text": [
      "      6/100         0G       3.01      3.208      4.027         42        640: 100%|██████████| 4/4 [00:38<00:00,  9.54s/it]\n",
      "                 Class     Images  Instances      Box(P          R      mAP50  mAP50-95): 100%|██████████| 1/1 [00:02<00:00,  2.19s/it]"
     ]
    },
    {
     "name": "stdout",
     "output_type": "stream",
     "text": [
      "                   all          8         16          0          0          0          0\n"
     ]
    },
    {
     "name": "stderr",
     "output_type": "stream",
     "text": [
      "\n"
     ]
    },
    {
     "name": "stdout",
     "output_type": "stream",
     "text": [
      "\n",
      "      Epoch    GPU_mem   box_loss   cls_loss   dfl_loss  Instances       Size\n"
     ]
    },
    {
     "name": "stderr",
     "output_type": "stream",
     "text": [
      "      7/100         0G      2.885      3.076      3.984         31        640: 100%|██████████| 4/4 [00:33<00:00,  8.29s/it]\n",
      "                 Class     Images  Instances      Box(P          R      mAP50  mAP50-95): 100%|██████████| 1/1 [00:01<00:00,  1.99s/it]"
     ]
    },
    {
     "name": "stdout",
     "output_type": "stream",
     "text": [
      "                   all          8         16          0          0          0          0\n"
     ]
    },
    {
     "name": "stderr",
     "output_type": "stream",
     "text": [
      "\n"
     ]
    },
    {
     "name": "stdout",
     "output_type": "stream",
     "text": [
      "\n",
      "      Epoch    GPU_mem   box_loss   cls_loss   dfl_loss  Instances       Size\n"
     ]
    },
    {
     "name": "stderr",
     "output_type": "stream",
     "text": [
      "      8/100         0G      2.703      2.922      3.925         28        640: 100%|██████████| 4/4 [00:32<00:00,  8.09s/it]\n",
      "                 Class     Images  Instances      Box(P          R      mAP50  mAP50-95): 100%|██████████| 1/1 [00:01<00:00,  1.54s/it]"
     ]
    },
    {
     "name": "stdout",
     "output_type": "stream",
     "text": [
      "                   all          8         16          0          0          0          0\n"
     ]
    },
    {
     "name": "stderr",
     "output_type": "stream",
     "text": [
      "\n"
     ]
    },
    {
     "name": "stdout",
     "output_type": "stream",
     "text": [
      "\n",
      "      Epoch    GPU_mem   box_loss   cls_loss   dfl_loss  Instances       Size\n"
     ]
    },
    {
     "name": "stderr",
     "output_type": "stream",
     "text": [
      "      9/100         0G      2.553      2.498      3.756         37        640: 100%|██████████| 4/4 [00:46<00:00, 11.70s/it]\n",
      "                 Class     Images  Instances      Box(P          R      mAP50  mAP50-95): 100%|██████████| 1/1 [00:01<00:00,  1.49s/it]"
     ]
    },
    {
     "name": "stdout",
     "output_type": "stream",
     "text": [
      "                   all          8         16          0          0          0          0\n"
     ]
    },
    {
     "name": "stderr",
     "output_type": "stream",
     "text": [
      "\n"
     ]
    },
    {
     "name": "stdout",
     "output_type": "stream",
     "text": [
      "\n",
      "      Epoch    GPU_mem   box_loss   cls_loss   dfl_loss  Instances       Size\n"
     ]
    },
    {
     "name": "stderr",
     "output_type": "stream",
     "text": [
      "     10/100         0G      2.583      2.441      3.643         40        640: 100%|██████████| 4/4 [00:34<00:00,  8.57s/it]\n",
      "                 Class     Images  Instances      Box(P          R      mAP50  mAP50-95): 100%|██████████| 1/1 [00:01<00:00,  1.87s/it]"
     ]
    },
    {
     "name": "stdout",
     "output_type": "stream",
     "text": [
      "                   all          8         16          0          0          0          0\n"
     ]
    },
    {
     "name": "stderr",
     "output_type": "stream",
     "text": [
      "\n"
     ]
    },
    {
     "name": "stdout",
     "output_type": "stream",
     "text": [
      "\n",
      "      Epoch    GPU_mem   box_loss   cls_loss   dfl_loss  Instances       Size\n"
     ]
    },
    {
     "name": "stderr",
     "output_type": "stream",
     "text": [
      "     11/100         0G      2.411      2.461      3.547         43        640: 100%|██████████| 4/4 [00:32<00:00,  8.22s/it]\n",
      "                 Class     Images  Instances      Box(P          R      mAP50  mAP50-95): 100%|██████████| 1/1 [00:01<00:00,  1.73s/it]"
     ]
    },
    {
     "name": "stdout",
     "output_type": "stream",
     "text": [
      "                   all          8         16          0          0          0          0\n"
     ]
    },
    {
     "name": "stderr",
     "output_type": "stream",
     "text": [
      "\n"
     ]
    },
    {
     "name": "stdout",
     "output_type": "stream",
     "text": [
      "\n",
      "      Epoch    GPU_mem   box_loss   cls_loss   dfl_loss  Instances       Size\n"
     ]
    },
    {
     "name": "stderr",
     "output_type": "stream",
     "text": [
      "     12/100         0G      2.215      2.494      3.466         38        640: 100%|██████████| 4/4 [00:31<00:00,  7.94s/it]\n",
      "                 Class     Images  Instances      Box(P          R      mAP50  mAP50-95): 100%|██████████| 1/1 [00:01<00:00,  1.56s/it]"
     ]
    },
    {
     "name": "stdout",
     "output_type": "stream",
     "text": [
      "                   all          8         16          0          0          0          0\n"
     ]
    },
    {
     "name": "stderr",
     "output_type": "stream",
     "text": [
      "\n"
     ]
    },
    {
     "name": "stdout",
     "output_type": "stream",
     "text": [
      "\n",
      "      Epoch    GPU_mem   box_loss   cls_loss   dfl_loss  Instances       Size\n"
     ]
    },
    {
     "name": "stderr",
     "output_type": "stream",
     "text": [
      "     13/100         0G      2.477      2.306      3.274         23        640: 100%|██████████| 4/4 [00:32<00:00,  8.19s/it]\n",
      "                 Class     Images  Instances      Box(P          R      mAP50  mAP50-95): 100%|██████████| 1/1 [00:01<00:00,  1.61s/it]"
     ]
    },
    {
     "name": "stdout",
     "output_type": "stream",
     "text": [
      "                   all          8         16          0          0          0          0\n"
     ]
    },
    {
     "name": "stderr",
     "output_type": "stream",
     "text": [
      "\n"
     ]
    },
    {
     "name": "stdout",
     "output_type": "stream",
     "text": [
      "\n",
      "      Epoch    GPU_mem   box_loss   cls_loss   dfl_loss  Instances       Size\n"
     ]
    },
    {
     "name": "stderr",
     "output_type": "stream",
     "text": [
      "     14/100         0G      2.305      2.264      3.208         28        640: 100%|██████████| 4/4 [00:35<00:00,  8.97s/it]\n",
      "                 Class     Images  Instances      Box(P          R      mAP50  mAP50-95): 100%|██████████| 1/1 [00:01<00:00,  1.38s/it]"
     ]
    },
    {
     "name": "stdout",
     "output_type": "stream",
     "text": [
      "                   all          8         16          0          0          0          0\n"
     ]
    },
    {
     "name": "stderr",
     "output_type": "stream",
     "text": [
      "\n"
     ]
    },
    {
     "name": "stdout",
     "output_type": "stream",
     "text": [
      "\n",
      "      Epoch    GPU_mem   box_loss   cls_loss   dfl_loss  Instances       Size\n"
     ]
    },
    {
     "name": "stderr",
     "output_type": "stream",
     "text": [
      "     15/100         0G       2.27      2.287      3.123         20        640: 100%|██████████| 4/4 [00:33<00:00,  8.27s/it]\n",
      "                 Class     Images  Instances      Box(P          R      mAP50  mAP50-95): 100%|██████████| 1/1 [00:01<00:00,  1.23s/it]"
     ]
    },
    {
     "name": "stdout",
     "output_type": "stream",
     "text": [
      "                   all          8         16          0          0          0          0\n"
     ]
    },
    {
     "name": "stderr",
     "output_type": "stream",
     "text": [
      "\n"
     ]
    },
    {
     "name": "stdout",
     "output_type": "stream",
     "text": [
      "\n",
      "      Epoch    GPU_mem   box_loss   cls_loss   dfl_loss  Instances       Size\n"
     ]
    },
    {
     "name": "stderr",
     "output_type": "stream",
     "text": [
      "     16/100         0G      1.943      2.061       2.92         37        640: 100%|██████████| 4/4 [00:31<00:00,  7.81s/it]\n",
      "                 Class     Images  Instances      Box(P          R      mAP50  mAP50-95): 100%|██████████| 1/1 [00:01<00:00,  1.72s/it]"
     ]
    },
    {
     "name": "stdout",
     "output_type": "stream",
     "text": [
      "                   all          8         16          0          0          0          0\n"
     ]
    },
    {
     "name": "stderr",
     "output_type": "stream",
     "text": [
      "\n"
     ]
    },
    {
     "name": "stdout",
     "output_type": "stream",
     "text": [
      "\n",
      "      Epoch    GPU_mem   box_loss   cls_loss   dfl_loss  Instances       Size\n"
     ]
    },
    {
     "name": "stderr",
     "output_type": "stream",
     "text": [
      "     17/100         0G      2.237      2.256      3.022         41        640: 100%|██████████| 4/4 [00:32<00:00,  8.08s/it]\n",
      "                 Class     Images  Instances      Box(P          R      mAP50  mAP50-95): 100%|██████████| 1/1 [00:01<00:00,  1.52s/it]"
     ]
    },
    {
     "name": "stdout",
     "output_type": "stream",
     "text": [
      "                   all          8         16          0          0          0          0\n"
     ]
    },
    {
     "name": "stderr",
     "output_type": "stream",
     "text": [
      "\n"
     ]
    },
    {
     "name": "stdout",
     "output_type": "stream",
     "text": [
      "\n",
      "      Epoch    GPU_mem   box_loss   cls_loss   dfl_loss  Instances       Size\n"
     ]
    },
    {
     "name": "stderr",
     "output_type": "stream",
     "text": [
      "     18/100         0G      2.212      2.186      2.974         25        640: 100%|██████████| 4/4 [00:33<00:00,  8.28s/it]\n",
      "                 Class     Images  Instances      Box(P          R      mAP50  mAP50-95): 100%|██████████| 1/1 [00:01<00:00,  1.84s/it]"
     ]
    },
    {
     "name": "stdout",
     "output_type": "stream",
     "text": [
      "                   all          8         16          0          0          0          0\n"
     ]
    },
    {
     "name": "stderr",
     "output_type": "stream",
     "text": [
      "\n"
     ]
    },
    {
     "name": "stdout",
     "output_type": "stream",
     "text": [
      "\n",
      "      Epoch    GPU_mem   box_loss   cls_loss   dfl_loss  Instances       Size\n"
     ]
    },
    {
     "name": "stderr",
     "output_type": "stream",
     "text": [
      "     19/100         0G      2.158      2.043      2.734         49        640: 100%|██████████| 4/4 [00:32<00:00,  8.03s/it]\n",
      "                 Class     Images  Instances      Box(P          R      mAP50  mAP50-95): 100%|██████████| 1/1 [00:01<00:00,  1.56s/it]"
     ]
    },
    {
     "name": "stdout",
     "output_type": "stream",
     "text": [
      "                   all          8         16          0          0          0          0\n"
     ]
    },
    {
     "name": "stderr",
     "output_type": "stream",
     "text": [
      "\n"
     ]
    },
    {
     "name": "stdout",
     "output_type": "stream",
     "text": [
      "\n",
      "      Epoch    GPU_mem   box_loss   cls_loss   dfl_loss  Instances       Size\n"
     ]
    },
    {
     "name": "stderr",
     "output_type": "stream",
     "text": [
      "     20/100         0G      2.076      1.909      2.738         43        640: 100%|██████████| 4/4 [00:31<00:00,  7.80s/it]\n",
      "                 Class     Images  Instances      Box(P          R      mAP50  mAP50-95): 100%|██████████| 1/1 [00:01<00:00,  1.62s/it]"
     ]
    },
    {
     "name": "stdout",
     "output_type": "stream",
     "text": [
      "                   all          8         16          0          0          0          0\n"
     ]
    },
    {
     "name": "stderr",
     "output_type": "stream",
     "text": [
      "\n"
     ]
    },
    {
     "name": "stdout",
     "output_type": "stream",
     "text": [
      "\n",
      "      Epoch    GPU_mem   box_loss   cls_loss   dfl_loss  Instances       Size\n"
     ]
    },
    {
     "name": "stderr",
     "output_type": "stream",
     "text": [
      "     21/100         0G      1.946      2.119      2.633         49        640: 100%|██████████| 4/4 [00:33<00:00,  8.43s/it]\n",
      "                 Class     Images  Instances      Box(P          R      mAP50  mAP50-95): 100%|██████████| 1/1 [00:01<00:00,  1.39s/it]"
     ]
    },
    {
     "name": "stdout",
     "output_type": "stream",
     "text": [
      "                   all          8         16          0          0          0          0\n"
     ]
    },
    {
     "name": "stderr",
     "output_type": "stream",
     "text": [
      "\n"
     ]
    },
    {
     "name": "stdout",
     "output_type": "stream",
     "text": [
      "\n",
      "      Epoch    GPU_mem   box_loss   cls_loss   dfl_loss  Instances       Size\n"
     ]
    },
    {
     "name": "stderr",
     "output_type": "stream",
     "text": [
      "     22/100         0G      2.076      2.087      2.703         33        640: 100%|██████████| 4/4 [00:31<00:00,  7.85s/it]\n",
      "                 Class     Images  Instances      Box(P          R      mAP50  mAP50-95): 100%|██████████| 1/1 [00:01<00:00,  1.57s/it]"
     ]
    },
    {
     "name": "stdout",
     "output_type": "stream",
     "text": [
      "                   all          8         16          0          0          0          0\n"
     ]
    },
    {
     "name": "stderr",
     "output_type": "stream",
     "text": [
      "\n"
     ]
    },
    {
     "name": "stdout",
     "output_type": "stream",
     "text": [
      "\n",
      "      Epoch    GPU_mem   box_loss   cls_loss   dfl_loss  Instances       Size\n"
     ]
    },
    {
     "name": "stderr",
     "output_type": "stream",
     "text": [
      "     23/100         0G      2.092      2.096      2.704         40        640: 100%|██████████| 4/4 [00:31<00:00,  7.97s/it]\n",
      "                 Class     Images  Instances      Box(P          R      mAP50  mAP50-95): 100%|██████████| 1/1 [00:01<00:00,  1.77s/it]"
     ]
    },
    {
     "name": "stdout",
     "output_type": "stream",
     "text": [
      "                   all          8         16    0.00126        0.2     0.0012   0.000935\n"
     ]
    },
    {
     "name": "stderr",
     "output_type": "stream",
     "text": [
      "\n"
     ]
    },
    {
     "name": "stdout",
     "output_type": "stream",
     "text": [
      "\n",
      "      Epoch    GPU_mem   box_loss   cls_loss   dfl_loss  Instances       Size\n"
     ]
    },
    {
     "name": "stderr",
     "output_type": "stream",
     "text": [
      "     24/100         0G       1.99      1.934      2.686         22        640: 100%|██████████| 4/4 [00:32<00:00,  8.03s/it]\n",
      "                 Class     Images  Instances      Box(P          R      mAP50  mAP50-95): 100%|██████████| 1/1 [00:01<00:00,  1.26s/it]"
     ]
    },
    {
     "name": "stdout",
     "output_type": "stream",
     "text": [
      "                   all          8         16    0.00275        0.4      0.259      0.175\n"
     ]
    },
    {
     "name": "stderr",
     "output_type": "stream",
     "text": [
      "\n"
     ]
    },
    {
     "name": "stdout",
     "output_type": "stream",
     "text": [
      "\n",
      "      Epoch    GPU_mem   box_loss   cls_loss   dfl_loss  Instances       Size\n"
     ]
    },
    {
     "name": "stderr",
     "output_type": "stream",
     "text": [
      "     25/100         0G      1.859      1.776      2.584         23        640: 100%|██████████| 4/4 [00:33<00:00,  8.38s/it]\n",
      "                 Class     Images  Instances      Box(P          R      mAP50  mAP50-95): 100%|██████████| 1/1 [00:01<00:00,  1.09s/it]"
     ]
    },
    {
     "name": "stdout",
     "output_type": "stream",
     "text": [
      "                   all          8         16          1      0.195      0.386      0.248\n"
     ]
    },
    {
     "name": "stderr",
     "output_type": "stream",
     "text": [
      "\n"
     ]
    },
    {
     "name": "stdout",
     "output_type": "stream",
     "text": [
      "\n",
      "      Epoch    GPU_mem   box_loss   cls_loss   dfl_loss  Instances       Size\n"
     ]
    },
    {
     "name": "stderr",
     "output_type": "stream",
     "text": [
      "     26/100         0G      1.702      1.636       2.47         23        640: 100%|██████████| 4/4 [00:32<00:00,  8.07s/it]\n",
      "                 Class     Images  Instances      Box(P          R      mAP50  mAP50-95): 100%|██████████| 1/1 [00:01<00:00,  1.25s/it]"
     ]
    },
    {
     "name": "stdout",
     "output_type": "stream",
     "text": [
      "                   all          8         16      0.916        0.5      0.497      0.348\n"
     ]
    },
    {
     "name": "stderr",
     "output_type": "stream",
     "text": [
      "\n"
     ]
    },
    {
     "name": "stdout",
     "output_type": "stream",
     "text": [
      "\n",
      "      Epoch    GPU_mem   box_loss   cls_loss   dfl_loss  Instances       Size\n"
     ]
    },
    {
     "name": "stderr",
     "output_type": "stream",
     "text": [
      "     27/100         0G      1.814      1.663       2.42         41        640: 100%|██████████| 4/4 [00:31<00:00,  7.95s/it]\n",
      "                 Class     Images  Instances      Box(P          R      mAP50  mAP50-95): 100%|██████████| 1/1 [00:01<00:00,  1.73s/it]"
     ]
    },
    {
     "name": "stdout",
     "output_type": "stream",
     "text": [
      "                   all          8         16          1      0.471      0.497      0.386\n"
     ]
    },
    {
     "name": "stderr",
     "output_type": "stream",
     "text": [
      "\n"
     ]
    },
    {
     "name": "stdout",
     "output_type": "stream",
     "text": [
      "\n",
      "      Epoch    GPU_mem   box_loss   cls_loss   dfl_loss  Instances       Size\n"
     ]
    },
    {
     "name": "stderr",
     "output_type": "stream",
     "text": [
      "     28/100         0G      1.777      1.569      2.374         32        640: 100%|██████████| 4/4 [00:31<00:00,  7.80s/it]\n",
      "                 Class     Images  Instances      Box(P          R      mAP50  mAP50-95): 100%|██████████| 1/1 [00:01<00:00,  1.87s/it]"
     ]
    },
    {
     "name": "stdout",
     "output_type": "stream",
     "text": [
      "                   all          8         16     0.0039        0.5      0.379      0.116\n"
     ]
    },
    {
     "name": "stderr",
     "output_type": "stream",
     "text": [
      "\n"
     ]
    },
    {
     "name": "stdout",
     "output_type": "stream",
     "text": [
      "\n",
      "      Epoch    GPU_mem   box_loss   cls_loss   dfl_loss  Instances       Size\n"
     ]
    },
    {
     "name": "stderr",
     "output_type": "stream",
     "text": [
      "     29/100         0G      1.814      1.865      2.379         25        640: 100%|██████████| 4/4 [00:32<00:00,  8.03s/it]\n",
      "                 Class     Images  Instances      Box(P          R      mAP50  mAP50-95): 100%|██████████| 1/1 [00:01<00:00,  1.59s/it]"
     ]
    },
    {
     "name": "stdout",
     "output_type": "stream",
     "text": [
      "                   all          8         16    0.00396        0.5      0.358        0.1\n"
     ]
    },
    {
     "name": "stderr",
     "output_type": "stream",
     "text": [
      "\n"
     ]
    },
    {
     "name": "stdout",
     "output_type": "stream",
     "text": [
      "\n",
      "      Epoch    GPU_mem   box_loss   cls_loss   dfl_loss  Instances       Size\n"
     ]
    },
    {
     "name": "stderr",
     "output_type": "stream",
     "text": [
      "     30/100         0G      1.614      1.628      2.345         21        640: 100%|██████████| 4/4 [00:31<00:00,  7.88s/it]\n",
      "                 Class     Images  Instances      Box(P          R      mAP50  mAP50-95): 100%|██████████| 1/1 [00:01<00:00,  1.71s/it]"
     ]
    },
    {
     "name": "stdout",
     "output_type": "stream",
     "text": [
      "                   all          8         16    0.00419        0.5      0.497       0.18\n"
     ]
    },
    {
     "name": "stderr",
     "output_type": "stream",
     "text": [
      "\n"
     ]
    },
    {
     "name": "stdout",
     "output_type": "stream",
     "text": [
      "\n",
      "      Epoch    GPU_mem   box_loss   cls_loss   dfl_loss  Instances       Size\n"
     ]
    },
    {
     "name": "stderr",
     "output_type": "stream",
     "text": [
      "     31/100         0G      1.641      1.512      2.331         34        640: 100%|██████████| 4/4 [00:31<00:00,  7.78s/it]\n",
      "                 Class     Images  Instances      Box(P          R      mAP50  mAP50-95): 100%|██████████| 1/1 [00:01<00:00,  1.77s/it]"
     ]
    },
    {
     "name": "stdout",
     "output_type": "stream",
     "text": [
      "                   all          8         16     0.0368        0.5      0.409       0.28\n"
     ]
    },
    {
     "name": "stderr",
     "output_type": "stream",
     "text": [
      "\n"
     ]
    },
    {
     "name": "stdout",
     "output_type": "stream",
     "text": [
      "\n",
      "      Epoch    GPU_mem   box_loss   cls_loss   dfl_loss  Instances       Size\n"
     ]
    },
    {
     "name": "stderr",
     "output_type": "stream",
     "text": [
      "     32/100         0G      1.626      1.662      2.285         25        640: 100%|██████████| 4/4 [00:33<00:00,  8.37s/it]\n",
      "                 Class     Images  Instances      Box(P          R      mAP50  mAP50-95): 100%|██████████| 1/1 [00:00<00:00,  1.05it/s]"
     ]
    },
    {
     "name": "stdout",
     "output_type": "stream",
     "text": [
      "                   all          8         16     0.0043        0.5       0.46      0.235\n"
     ]
    },
    {
     "name": "stderr",
     "output_type": "stream",
     "text": [
      "\n"
     ]
    },
    {
     "name": "stdout",
     "output_type": "stream",
     "text": [
      "\n",
      "      Epoch    GPU_mem   box_loss   cls_loss   dfl_loss  Instances       Size\n"
     ]
    },
    {
     "name": "stderr",
     "output_type": "stream",
     "text": [
      "     33/100         0G      1.578      1.447      2.241         40        640: 100%|██████████| 4/4 [00:33<00:00,  8.34s/it]\n",
      "                 Class     Images  Instances      Box(P          R      mAP50  mAP50-95): 100%|██████████| 1/1 [00:01<00:00,  1.21s/it]"
     ]
    },
    {
     "name": "stdout",
     "output_type": "stream",
     "text": [
      "                   all          8         16    0.00344        0.4      0.204     0.0658\n"
     ]
    },
    {
     "name": "stderr",
     "output_type": "stream",
     "text": [
      "\n"
     ]
    },
    {
     "name": "stdout",
     "output_type": "stream",
     "text": [
      "\n",
      "      Epoch    GPU_mem   box_loss   cls_loss   dfl_loss  Instances       Size\n"
     ]
    },
    {
     "name": "stderr",
     "output_type": "stream",
     "text": [
      "     34/100         0G      1.606      1.538       2.18         32        640: 100%|██████████| 4/4 [00:31<00:00,  7.75s/it]\n",
      "                 Class     Images  Instances      Box(P          R      mAP50  mAP50-95): 100%|██████████| 1/1 [00:01<00:00,  1.24s/it]"
     ]
    },
    {
     "name": "stdout",
     "output_type": "stream",
     "text": [
      "                   all          8         16    0.00453      0.491    0.00479    0.00224\n"
     ]
    },
    {
     "name": "stderr",
     "output_type": "stream",
     "text": [
      "\n"
     ]
    },
    {
     "name": "stdout",
     "output_type": "stream",
     "text": [
      "\n",
      "      Epoch    GPU_mem   box_loss   cls_loss   dfl_loss  Instances       Size\n"
     ]
    },
    {
     "name": "stderr",
     "output_type": "stream",
     "text": [
      "     35/100         0G      1.776      1.485      2.366         26        640: 100%|██████████| 4/4 [00:39<00:00,  9.94s/it]\n",
      "                 Class     Images  Instances      Box(P          R      mAP50  mAP50-95): 100%|██████████| 1/1 [00:01<00:00,  1.89s/it]"
     ]
    },
    {
     "name": "stdout",
     "output_type": "stream",
     "text": [
      "                   all          8         16     0.0062      0.682      0.411      0.189\n"
     ]
    },
    {
     "name": "stderr",
     "output_type": "stream",
     "text": [
      "\n"
     ]
    },
    {
     "name": "stdout",
     "output_type": "stream",
     "text": [
      "\n",
      "      Epoch    GPU_mem   box_loss   cls_loss   dfl_loss  Instances       Size\n"
     ]
    },
    {
     "name": "stderr",
     "output_type": "stream",
     "text": [
      "     36/100         0G      1.581      1.518      2.281         34        640: 100%|██████████| 4/4 [00:33<00:00,  8.48s/it]\n",
      "                 Class     Images  Instances      Box(P          R      mAP50  mAP50-95): 100%|██████████| 1/1 [00:00<00:00,  1.06it/s]"
     ]
    },
    {
     "name": "stdout",
     "output_type": "stream",
     "text": [
      "                   all          8         16       0.48        0.4      0.498      0.389\n"
     ]
    },
    {
     "name": "stderr",
     "output_type": "stream",
     "text": [
      "\n"
     ]
    },
    {
     "name": "stdout",
     "output_type": "stream",
     "text": [
      "\n",
      "      Epoch    GPU_mem   box_loss   cls_loss   dfl_loss  Instances       Size\n"
     ]
    },
    {
     "name": "stderr",
     "output_type": "stream",
     "text": [
      "     37/100         0G      1.589      1.432      2.223         47        640: 100%|██████████| 4/4 [00:31<00:00,  7.92s/it]\n",
      "                 Class     Images  Instances      Box(P          R      mAP50  mAP50-95): 100%|██████████| 1/1 [00:01<00:00,  1.41s/it]"
     ]
    },
    {
     "name": "stdout",
     "output_type": "stream",
     "text": [
      "                   all          8         16      0.536      0.423      0.645      0.491\n"
     ]
    },
    {
     "name": "stderr",
     "output_type": "stream",
     "text": [
      "\n"
     ]
    },
    {
     "name": "stdout",
     "output_type": "stream",
     "text": [
      "\n",
      "      Epoch    GPU_mem   box_loss   cls_loss   dfl_loss  Instances       Size\n"
     ]
    },
    {
     "name": "stderr",
     "output_type": "stream",
     "text": [
      "     38/100         0G      1.579      1.397      2.271         25        640: 100%|██████████| 4/4 [00:33<00:00,  8.25s/it]\n",
      "                 Class     Images  Instances      Box(P          R      mAP50  mAP50-95): 100%|██████████| 1/1 [00:01<00:00,  1.77s/it]"
     ]
    },
    {
     "name": "stdout",
     "output_type": "stream",
     "text": [
      "                   all          8         16      0.768      0.519      0.674      0.563\n"
     ]
    },
    {
     "name": "stderr",
     "output_type": "stream",
     "text": [
      "\n"
     ]
    },
    {
     "name": "stdout",
     "output_type": "stream",
     "text": [
      "\n",
      "      Epoch    GPU_mem   box_loss   cls_loss   dfl_loss  Instances       Size\n"
     ]
    },
    {
     "name": "stderr",
     "output_type": "stream",
     "text": [
      "     39/100         0G      1.613      1.382      2.346         22        640: 100%|██████████| 4/4 [00:31<00:00,  7.91s/it]\n",
      "                 Class     Images  Instances      Box(P          R      mAP50  mAP50-95): 100%|██████████| 1/1 [00:01<00:00,  1.53s/it]"
     ]
    },
    {
     "name": "stdout",
     "output_type": "stream",
     "text": [
      "                   all          8         16      0.877      0.332      0.695      0.524\n"
     ]
    },
    {
     "name": "stderr",
     "output_type": "stream",
     "text": [
      "\n"
     ]
    },
    {
     "name": "stdout",
     "output_type": "stream",
     "text": [
      "\n",
      "      Epoch    GPU_mem   box_loss   cls_loss   dfl_loss  Instances       Size\n"
     ]
    },
    {
     "name": "stderr",
     "output_type": "stream",
     "text": [
      "     40/100         0G      1.685      1.451      2.495         44        640: 100%|██████████| 4/4 [00:32<00:00,  8.23s/it]\n",
      "                 Class     Images  Instances      Box(P          R      mAP50  mAP50-95): 100%|██████████| 1/1 [00:01<00:00,  1.71s/it]"
     ]
    },
    {
     "name": "stdout",
     "output_type": "stream",
     "text": [
      "                   all          8         16      0.791      0.191      0.637       0.43\n"
     ]
    },
    {
     "name": "stderr",
     "output_type": "stream",
     "text": [
      "\n"
     ]
    },
    {
     "name": "stdout",
     "output_type": "stream",
     "text": [
      "\n",
      "      Epoch    GPU_mem   box_loss   cls_loss   dfl_loss  Instances       Size\n"
     ]
    },
    {
     "name": "stderr",
     "output_type": "stream",
     "text": [
      "     41/100         0G      1.828      1.682      2.442         35        640: 100%|██████████| 4/4 [00:29<00:00,  7.26s/it]\n",
      "                 Class     Images  Instances      Box(P          R      mAP50  mAP50-95): 100%|██████████| 1/1 [00:01<00:00,  1.78s/it]"
     ]
    },
    {
     "name": "stdout",
     "output_type": "stream",
     "text": [
      "                   all          8         16      0.829      0.263      0.703      0.488\n"
     ]
    },
    {
     "name": "stderr",
     "output_type": "stream",
     "text": [
      "\n"
     ]
    },
    {
     "name": "stdout",
     "output_type": "stream",
     "text": [
      "\n",
      "      Epoch    GPU_mem   box_loss   cls_loss   dfl_loss  Instances       Size\n"
     ]
    },
    {
     "name": "stderr",
     "output_type": "stream",
     "text": [
      "     42/100         0G      1.765      1.487      2.313         38        640: 100%|██████████| 4/4 [00:31<00:00,  7.88s/it]\n",
      "                 Class     Images  Instances      Box(P          R      mAP50  mAP50-95): 100%|██████████| 1/1 [00:00<00:00,  1.05it/s]"
     ]
    },
    {
     "name": "stdout",
     "output_type": "stream",
     "text": [
      "                   all          8         16      0.792      0.718       0.78      0.599\n"
     ]
    },
    {
     "name": "stderr",
     "output_type": "stream",
     "text": [
      "\n"
     ]
    },
    {
     "name": "stdout",
     "output_type": "stream",
     "text": [
      "\n",
      "      Epoch    GPU_mem   box_loss   cls_loss   dfl_loss  Instances       Size\n"
     ]
    },
    {
     "name": "stderr",
     "output_type": "stream",
     "text": [
      "     43/100         0G      1.605      1.423      2.257         42        640: 100%|██████████| 4/4 [00:31<00:00,  7.86s/it]\n",
      "                 Class     Images  Instances      Box(P          R      mAP50  mAP50-95): 100%|██████████| 1/1 [00:01<00:00,  1.49s/it]"
     ]
    },
    {
     "name": "stdout",
     "output_type": "stream",
     "text": [
      "                   all          8         16      0.801      0.718      0.855      0.597\n"
     ]
    },
    {
     "name": "stderr",
     "output_type": "stream",
     "text": [
      "\n"
     ]
    },
    {
     "name": "stdout",
     "output_type": "stream",
     "text": [
      "\n",
      "      Epoch    GPU_mem   box_loss   cls_loss   dfl_loss  Instances       Size\n"
     ]
    },
    {
     "name": "stderr",
     "output_type": "stream",
     "text": [
      "     44/100         0G      1.505      1.346      2.119         52        640: 100%|██████████| 4/4 [00:33<00:00,  8.26s/it]\n",
      "                 Class     Images  Instances      Box(P          R      mAP50  mAP50-95): 100%|██████████| 1/1 [00:01<00:00,  1.74s/it]"
     ]
    },
    {
     "name": "stdout",
     "output_type": "stream",
     "text": [
      "                   all          8         16      0.842      0.751      0.891      0.592\n"
     ]
    },
    {
     "name": "stderr",
     "output_type": "stream",
     "text": [
      "\n"
     ]
    },
    {
     "name": "stdout",
     "output_type": "stream",
     "text": [
      "\n",
      "      Epoch    GPU_mem   box_loss   cls_loss   dfl_loss  Instances       Size\n"
     ]
    },
    {
     "name": "stderr",
     "output_type": "stream",
     "text": [
      "     45/100         0G      1.759      1.447      2.388         23        640: 100%|██████████| 4/4 [00:31<00:00,  7.83s/it]\n",
      "                 Class     Images  Instances      Box(P          R      mAP50  mAP50-95): 100%|██████████| 1/1 [00:01<00:00,  1.77s/it]"
     ]
    },
    {
     "name": "stdout",
     "output_type": "stream",
     "text": [
      "                   all          8         16      0.851      0.859      0.925      0.623\n"
     ]
    },
    {
     "name": "stderr",
     "output_type": "stream",
     "text": [
      "\n"
     ]
    },
    {
     "name": "stdout",
     "output_type": "stream",
     "text": [
      "\n",
      "      Epoch    GPU_mem   box_loss   cls_loss   dfl_loss  Instances       Size\n"
     ]
    },
    {
     "name": "stderr",
     "output_type": "stream",
     "text": [
      "     46/100         0G      1.383      1.276       2.08         27        640: 100%|██████████| 4/4 [00:32<00:00,  8.16s/it]\n",
      "                 Class     Images  Instances      Box(P          R      mAP50  mAP50-95): 100%|██████████| 1/1 [00:00<00:00,  1.06it/s]"
     ]
    },
    {
     "name": "stdout",
     "output_type": "stream",
     "text": [
      "                   all          8         16      0.947      0.901      0.955      0.636\n"
     ]
    },
    {
     "name": "stderr",
     "output_type": "stream",
     "text": [
      "\n"
     ]
    },
    {
     "name": "stdout",
     "output_type": "stream",
     "text": [
      "\n",
      "      Epoch    GPU_mem   box_loss   cls_loss   dfl_loss  Instances       Size\n"
     ]
    },
    {
     "name": "stderr",
     "output_type": "stream",
     "text": [
      "     47/100         0G      1.747      1.482      2.346         17        640: 100%|██████████| 4/4 [00:31<00:00,  7.75s/it]\n",
      "                 Class     Images  Instances      Box(P          R      mAP50  mAP50-95): 100%|██████████| 1/1 [00:01<00:00,  1.76s/it]"
     ]
    },
    {
     "name": "stdout",
     "output_type": "stream",
     "text": [
      "                   all          8         16      0.981      0.907      0.964      0.709\n"
     ]
    },
    {
     "name": "stderr",
     "output_type": "stream",
     "text": [
      "\n"
     ]
    },
    {
     "name": "stdout",
     "output_type": "stream",
     "text": [
      "\n",
      "      Epoch    GPU_mem   box_loss   cls_loss   dfl_loss  Instances       Size\n"
     ]
    },
    {
     "name": "stderr",
     "output_type": "stream",
     "text": [
      "     48/100         0G      1.703      1.348      2.301         42        640: 100%|██████████| 4/4 [00:32<00:00,  8.25s/it]\n",
      "                 Class     Images  Instances      Box(P          R      mAP50  mAP50-95): 100%|██████████| 1/1 [00:01<00:00,  1.62s/it]"
     ]
    },
    {
     "name": "stdout",
     "output_type": "stream",
     "text": [
      "                   all          8         16      0.954        0.9      0.979      0.802\n"
     ]
    },
    {
     "name": "stderr",
     "output_type": "stream",
     "text": [
      "\n"
     ]
    },
    {
     "name": "stdout",
     "output_type": "stream",
     "text": [
      "\n",
      "      Epoch    GPU_mem   box_loss   cls_loss   dfl_loss  Instances       Size\n"
     ]
    },
    {
     "name": "stderr",
     "output_type": "stream",
     "text": [
      "     49/100         0G      1.607      1.394      2.179         39        640: 100%|██████████| 4/4 [00:31<00:00,  7.95s/it]\n",
      "                 Class     Images  Instances      Box(P          R      mAP50  mAP50-95): 100%|██████████| 1/1 [00:01<00:00,  1.72s/it]"
     ]
    },
    {
     "name": "stdout",
     "output_type": "stream",
     "text": [
      "                   all          8         16      0.945      0.897      0.977      0.753\n"
     ]
    },
    {
     "name": "stderr",
     "output_type": "stream",
     "text": [
      "\n"
     ]
    },
    {
     "name": "stdout",
     "output_type": "stream",
     "text": [
      "\n",
      "      Epoch    GPU_mem   box_loss   cls_loss   dfl_loss  Instances       Size\n"
     ]
    },
    {
     "name": "stderr",
     "output_type": "stream",
     "text": [
      "     50/100         0G      1.343      1.135          2         34        640: 100%|██████████| 4/4 [00:31<00:00,  7.99s/it]\n",
      "                 Class     Images  Instances      Box(P          R      mAP50  mAP50-95): 100%|██████████| 1/1 [00:01<00:00,  1.44s/it]"
     ]
    },
    {
     "name": "stdout",
     "output_type": "stream",
     "text": [
      "                   all          8         16      0.969      0.864      0.952      0.678\n"
     ]
    },
    {
     "name": "stderr",
     "output_type": "stream",
     "text": [
      "\n"
     ]
    },
    {
     "name": "stdout",
     "output_type": "stream",
     "text": [
      "\n",
      "      Epoch    GPU_mem   box_loss   cls_loss   dfl_loss  Instances       Size\n"
     ]
    },
    {
     "name": "stderr",
     "output_type": "stream",
     "text": [
      "     51/100         0G      1.516      1.272      2.175         32        640: 100%|██████████| 4/4 [00:30<00:00,  7.69s/it]\n",
      "                 Class     Images  Instances      Box(P          R      mAP50  mAP50-95): 100%|██████████| 1/1 [00:01<00:00,  1.86s/it]"
     ]
    },
    {
     "name": "stdout",
     "output_type": "stream",
     "text": [
      "                   all          8         16       0.99      0.864      0.953      0.685\n"
     ]
    },
    {
     "name": "stderr",
     "output_type": "stream",
     "text": [
      "\n"
     ]
    },
    {
     "name": "stdout",
     "output_type": "stream",
     "text": [
      "\n",
      "      Epoch    GPU_mem   box_loss   cls_loss   dfl_loss  Instances       Size\n"
     ]
    },
    {
     "name": "stderr",
     "output_type": "stream",
     "text": [
      "     52/100         0G      1.467      1.237      2.125         42        640: 100%|██████████| 4/4 [00:33<00:00,  8.28s/it]\n",
      "                 Class     Images  Instances      Box(P          R      mAP50  mAP50-95): 100%|██████████| 1/1 [00:01<00:00,  1.77s/it]"
     ]
    },
    {
     "name": "stdout",
     "output_type": "stream",
     "text": [
      "                   all          8         16      0.942      0.902      0.978      0.804\n"
     ]
    },
    {
     "name": "stderr",
     "output_type": "stream",
     "text": [
      "\n"
     ]
    },
    {
     "name": "stdout",
     "output_type": "stream",
     "text": [
      "\n",
      "      Epoch    GPU_mem   box_loss   cls_loss   dfl_loss  Instances       Size\n"
     ]
    },
    {
     "name": "stderr",
     "output_type": "stream",
     "text": [
      "     53/100         0G      1.459      1.205      2.145         27        640: 100%|██████████| 4/4 [00:31<00:00,  7.93s/it]\n",
      "                 Class     Images  Instances      Box(P          R      mAP50  mAP50-95): 100%|██████████| 1/1 [00:01<00:00,  1.71s/it]"
     ]
    },
    {
     "name": "stdout",
     "output_type": "stream",
     "text": [
      "                   all          8         16       0.92          1      0.995      0.847\n"
     ]
    },
    {
     "name": "stderr",
     "output_type": "stream",
     "text": [
      "\n"
     ]
    },
    {
     "name": "stdout",
     "output_type": "stream",
     "text": [
      "\n",
      "      Epoch    GPU_mem   box_loss   cls_loss   dfl_loss  Instances       Size\n"
     ]
    },
    {
     "name": "stderr",
     "output_type": "stream",
     "text": [
      "     54/100         0G      1.507      1.271      2.045         42        640: 100%|██████████| 4/4 [00:31<00:00,  7.94s/it]\n",
      "                 Class     Images  Instances      Box(P          R      mAP50  mAP50-95): 100%|██████████| 1/1 [00:01<00:00,  1.60s/it]"
     ]
    },
    {
     "name": "stdout",
     "output_type": "stream",
     "text": [
      "                   all          8         16      0.929          1      0.995      0.736\n"
     ]
    },
    {
     "name": "stderr",
     "output_type": "stream",
     "text": [
      "\n"
     ]
    },
    {
     "name": "stdout",
     "output_type": "stream",
     "text": [
      "\n",
      "      Epoch    GPU_mem   box_loss   cls_loss   dfl_loss  Instances       Size\n"
     ]
    },
    {
     "name": "stderr",
     "output_type": "stream",
     "text": [
      "     55/100         0G      1.202     0.9873      1.824         65        640: 100%|██████████| 4/4 [00:31<00:00,  8.00s/it]\n",
      "                 Class     Images  Instances      Box(P          R      mAP50  mAP50-95): 100%|██████████| 1/1 [00:01<00:00,  1.35s/it]"
     ]
    },
    {
     "name": "stdout",
     "output_type": "stream",
     "text": [
      "                   all          8         16       0.92          1      0.995      0.764\n"
     ]
    },
    {
     "name": "stderr",
     "output_type": "stream",
     "text": [
      "\n"
     ]
    },
    {
     "name": "stdout",
     "output_type": "stream",
     "text": [
      "\n",
      "      Epoch    GPU_mem   box_loss   cls_loss   dfl_loss  Instances       Size\n"
     ]
    },
    {
     "name": "stderr",
     "output_type": "stream",
     "text": [
      "     56/100         0G       1.47      1.225      2.013         23        640: 100%|██████████| 4/4 [00:32<00:00,  8.22s/it]\n",
      "                 Class     Images  Instances      Box(P          R      mAP50  mAP50-95): 100%|██████████| 1/1 [00:01<00:00,  1.32s/it]"
     ]
    },
    {
     "name": "stdout",
     "output_type": "stream",
     "text": [
      "                   all          8         16      0.933          1      0.995      0.814\n"
     ]
    },
    {
     "name": "stderr",
     "output_type": "stream",
     "text": [
      "\n"
     ]
    },
    {
     "name": "stdout",
     "output_type": "stream",
     "text": [
      "\n",
      "      Epoch    GPU_mem   box_loss   cls_loss   dfl_loss  Instances       Size\n"
     ]
    },
    {
     "name": "stderr",
     "output_type": "stream",
     "text": [
      "     57/100         0G      1.317      1.079      1.948         37        640: 100%|██████████| 4/4 [00:31<00:00,  7.99s/it]\n",
      "                 Class     Images  Instances      Box(P          R      mAP50  mAP50-95): 100%|██████████| 1/1 [00:01<00:00,  1.15s/it]"
     ]
    },
    {
     "name": "stdout",
     "output_type": "stream",
     "text": [
      "                   all          8         16      0.941          1      0.995      0.821\n"
     ]
    },
    {
     "name": "stderr",
     "output_type": "stream",
     "text": [
      "\n"
     ]
    },
    {
     "name": "stdout",
     "output_type": "stream",
     "text": [
      "\n",
      "      Epoch    GPU_mem   box_loss   cls_loss   dfl_loss  Instances       Size\n"
     ]
    },
    {
     "name": "stderr",
     "output_type": "stream",
     "text": [
      "     58/100         0G      1.337      1.058      1.975         31        640: 100%|██████████| 4/4 [00:32<00:00,  8.14s/it]\n",
      "                 Class     Images  Instances      Box(P          R      mAP50  mAP50-95): 100%|██████████| 1/1 [00:01<00:00,  1.85s/it]"
     ]
    },
    {
     "name": "stdout",
     "output_type": "stream",
     "text": [
      "                   all          8         16      0.921      0.992      0.995      0.854\n"
     ]
    },
    {
     "name": "stderr",
     "output_type": "stream",
     "text": [
      "\n"
     ]
    },
    {
     "name": "stdout",
     "output_type": "stream",
     "text": [
      "\n",
      "      Epoch    GPU_mem   box_loss   cls_loss   dfl_loss  Instances       Size\n"
     ]
    },
    {
     "name": "stderr",
     "output_type": "stream",
     "text": [
      "     59/100         0G       1.53      1.222      2.123         32        640: 100%|██████████| 4/4 [00:31<00:00,  7.96s/it]\n",
      "                 Class     Images  Instances      Box(P          R      mAP50  mAP50-95): 100%|██████████| 1/1 [00:00<00:00,  1.04it/s]"
     ]
    },
    {
     "name": "stdout",
     "output_type": "stream",
     "text": [
      "                   all          8         16      0.937          1      0.995      0.836\n"
     ]
    },
    {
     "name": "stderr",
     "output_type": "stream",
     "text": [
      "\n"
     ]
    },
    {
     "name": "stdout",
     "output_type": "stream",
     "text": [
      "\n",
      "      Epoch    GPU_mem   box_loss   cls_loss   dfl_loss  Instances       Size\n"
     ]
    },
    {
     "name": "stderr",
     "output_type": "stream",
     "text": [
      "     60/100         0G      1.261      1.095       1.84         41        640: 100%|██████████| 4/4 [00:31<00:00,  8.00s/it]\n",
      "                 Class     Images  Instances      Box(P          R      mAP50  mAP50-95): 100%|██████████| 1/1 [00:01<00:00,  1.45s/it]"
     ]
    },
    {
     "name": "stdout",
     "output_type": "stream",
     "text": [
      "                   all          8         16      0.968          1      0.995      0.893\n"
     ]
    },
    {
     "name": "stderr",
     "output_type": "stream",
     "text": [
      "\n"
     ]
    },
    {
     "name": "stdout",
     "output_type": "stream",
     "text": [
      "\n",
      "      Epoch    GPU_mem   box_loss   cls_loss   dfl_loss  Instances       Size\n"
     ]
    },
    {
     "name": "stderr",
     "output_type": "stream",
     "text": [
      "     61/100         0G      1.209       1.03      1.842         47        640: 100%|██████████| 4/4 [00:31<00:00,  7.99s/it]\n",
      "                 Class     Images  Instances      Box(P          R      mAP50  mAP50-95): 100%|██████████| 1/1 [00:01<00:00,  1.75s/it]"
     ]
    },
    {
     "name": "stdout",
     "output_type": "stream",
     "text": [
      "                   all          8         16      0.981          1      0.995      0.792\n"
     ]
    },
    {
     "name": "stderr",
     "output_type": "stream",
     "text": [
      "\n"
     ]
    },
    {
     "name": "stdout",
     "output_type": "stream",
     "text": [
      "\n",
      "      Epoch    GPU_mem   box_loss   cls_loss   dfl_loss  Instances       Size\n"
     ]
    },
    {
     "name": "stderr",
     "output_type": "stream",
     "text": [
      "     62/100         0G      1.314      1.063      1.879         28        640: 100%|██████████| 4/4 [00:40<00:00, 10.05s/it]\n",
      "                 Class     Images  Instances      Box(P          R      mAP50  mAP50-95): 100%|██████████| 1/1 [00:01<00:00,  1.11s/it]"
     ]
    },
    {
     "name": "stdout",
     "output_type": "stream",
     "text": [
      "                   all          8         16      0.983          1      0.995      0.822\n"
     ]
    },
    {
     "name": "stderr",
     "output_type": "stream",
     "text": [
      "\n"
     ]
    },
    {
     "name": "stdout",
     "output_type": "stream",
     "text": [
      "\n",
      "      Epoch    GPU_mem   box_loss   cls_loss   dfl_loss  Instances       Size\n"
     ]
    },
    {
     "name": "stderr",
     "output_type": "stream",
     "text": [
      "     63/100         0G      1.271      1.026      1.843         34        640: 100%|██████████| 4/4 [00:34<00:00,  8.73s/it]\n",
      "                 Class     Images  Instances      Box(P          R      mAP50  mAP50-95): 100%|██████████| 1/1 [00:01<00:00,  1.26s/it]"
     ]
    },
    {
     "name": "stdout",
     "output_type": "stream",
     "text": [
      "                   all          8         16      0.962      0.995      0.995      0.834\n"
     ]
    },
    {
     "name": "stderr",
     "output_type": "stream",
     "text": [
      "\n"
     ]
    },
    {
     "name": "stdout",
     "output_type": "stream",
     "text": [
      "\n",
      "      Epoch    GPU_mem   box_loss   cls_loss   dfl_loss  Instances       Size\n"
     ]
    },
    {
     "name": "stderr",
     "output_type": "stream",
     "text": [
      "     64/100         0G      1.287     0.9947       1.91         29        640: 100%|██████████| 4/4 [00:33<00:00,  8.27s/it]\n",
      "                 Class     Images  Instances      Box(P          R      mAP50  mAP50-95): 100%|██████████| 1/1 [00:00<00:00,  1.05it/s]"
     ]
    },
    {
     "name": "stdout",
     "output_type": "stream",
     "text": [
      "                   all          8         16       0.93      0.993      0.995      0.845\n"
     ]
    },
    {
     "name": "stderr",
     "output_type": "stream",
     "text": [
      "\n"
     ]
    },
    {
     "name": "stdout",
     "output_type": "stream",
     "text": [
      "\n",
      "      Epoch    GPU_mem   box_loss   cls_loss   dfl_loss  Instances       Size\n"
     ]
    },
    {
     "name": "stderr",
     "output_type": "stream",
     "text": [
      "     65/100         0G      1.257      1.053      1.889         37        640: 100%|██████████| 4/4 [00:32<00:00,  8.17s/it]\n",
      "                 Class     Images  Instances      Box(P          R      mAP50  mAP50-95): 100%|██████████| 1/1 [00:01<00:00,  1.77s/it]"
     ]
    },
    {
     "name": "stdout",
     "output_type": "stream",
     "text": [
      "                   all          8         16      0.923       0.99      0.995      0.864\n"
     ]
    },
    {
     "name": "stderr",
     "output_type": "stream",
     "text": [
      "\n"
     ]
    },
    {
     "name": "stdout",
     "output_type": "stream",
     "text": [
      "\n",
      "      Epoch    GPU_mem   box_loss   cls_loss   dfl_loss  Instances       Size\n"
     ]
    },
    {
     "name": "stderr",
     "output_type": "stream",
     "text": [
      "     66/100         0G      1.108      1.007       1.71         23        640: 100%|██████████| 4/4 [00:32<00:00,  8.04s/it]\n",
      "                 Class     Images  Instances      Box(P          R      mAP50  mAP50-95): 100%|██████████| 1/1 [00:01<00:00,  1.21s/it]"
     ]
    },
    {
     "name": "stdout",
     "output_type": "stream",
     "text": [
      "                   all          8         16      0.926      0.987      0.995      0.857\n"
     ]
    },
    {
     "name": "stderr",
     "output_type": "stream",
     "text": [
      "\n"
     ]
    },
    {
     "name": "stdout",
     "output_type": "stream",
     "text": [
      "\n",
      "      Epoch    GPU_mem   box_loss   cls_loss   dfl_loss  Instances       Size\n"
     ]
    },
    {
     "name": "stderr",
     "output_type": "stream",
     "text": [
      "     67/100         0G      1.154     0.9723      1.743         25        640: 100%|██████████| 4/4 [00:32<00:00,  8.10s/it]\n",
      "                 Class     Images  Instances      Box(P          R      mAP50  mAP50-95): 100%|██████████| 1/1 [00:00<00:00,  1.04it/s]"
     ]
    },
    {
     "name": "stdout",
     "output_type": "stream",
     "text": [
      "                   all          8         16      0.928          1      0.995      0.854\n"
     ]
    },
    {
     "name": "stderr",
     "output_type": "stream",
     "text": [
      "\n"
     ]
    },
    {
     "name": "stdout",
     "output_type": "stream",
     "text": [
      "\n",
      "      Epoch    GPU_mem   box_loss   cls_loss   dfl_loss  Instances       Size\n"
     ]
    },
    {
     "name": "stderr",
     "output_type": "stream",
     "text": [
      "     68/100         0G      1.253      1.129      1.852         21        640: 100%|██████████| 4/4 [00:30<00:00,  7.58s/it]\n",
      "                 Class     Images  Instances      Box(P          R      mAP50  mAP50-95): 100%|██████████| 1/1 [00:01<00:00,  1.71s/it]"
     ]
    },
    {
     "name": "stdout",
     "output_type": "stream",
     "text": [
      "                   all          8         16       0.95          1      0.995      0.856\n"
     ]
    },
    {
     "name": "stderr",
     "output_type": "stream",
     "text": [
      "\n"
     ]
    },
    {
     "name": "stdout",
     "output_type": "stream",
     "text": [
      "\n",
      "      Epoch    GPU_mem   box_loss   cls_loss   dfl_loss  Instances       Size\n"
     ]
    },
    {
     "name": "stderr",
     "output_type": "stream",
     "text": [
      "     69/100         0G      1.274      1.087        1.9         54        640: 100%|██████████| 4/4 [00:30<00:00,  7.69s/it]\n",
      "                 Class     Images  Instances      Box(P          R      mAP50  mAP50-95): 100%|██████████| 1/1 [00:01<00:00,  1.65s/it]"
     ]
    },
    {
     "name": "stdout",
     "output_type": "stream",
     "text": [
      "                   all          8         16       0.97      0.996      0.995      0.829\n"
     ]
    },
    {
     "name": "stderr",
     "output_type": "stream",
     "text": [
      "\n"
     ]
    },
    {
     "name": "stdout",
     "output_type": "stream",
     "text": [
      "\n",
      "      Epoch    GPU_mem   box_loss   cls_loss   dfl_loss  Instances       Size\n"
     ]
    },
    {
     "name": "stderr",
     "output_type": "stream",
     "text": [
      "     70/100         0G      1.094     0.9708      1.752         22        640: 100%|██████████| 4/4 [00:30<00:00,  7.72s/it]\n",
      "                 Class     Images  Instances      Box(P          R      mAP50  mAP50-95): 100%|██████████| 1/1 [00:01<00:00,  1.63s/it]"
     ]
    },
    {
     "name": "stdout",
     "output_type": "stream",
     "text": [
      "                   all          8         16      0.969      0.998      0.995      0.824\n"
     ]
    },
    {
     "name": "stderr",
     "output_type": "stream",
     "text": [
      "\n"
     ]
    },
    {
     "name": "stdout",
     "output_type": "stream",
     "text": [
      "\n",
      "      Epoch    GPU_mem   box_loss   cls_loss   dfl_loss  Instances       Size\n"
     ]
    },
    {
     "name": "stderr",
     "output_type": "stream",
     "text": [
      "     71/100         0G      1.147     0.9451      1.733         36        640: 100%|██████████| 4/4 [00:30<00:00,  7.73s/it]\n",
      "                 Class     Images  Instances      Box(P          R      mAP50  mAP50-95): 100%|██████████| 1/1 [00:00<00:00,  1.05it/s]"
     ]
    },
    {
     "name": "stdout",
     "output_type": "stream",
     "text": [
      "                   all          8         16      0.946          1      0.995       0.79\n"
     ]
    },
    {
     "name": "stderr",
     "output_type": "stream",
     "text": [
      "\n"
     ]
    },
    {
     "name": "stdout",
     "output_type": "stream",
     "text": [
      "\n",
      "      Epoch    GPU_mem   box_loss   cls_loss   dfl_loss  Instances       Size\n"
     ]
    },
    {
     "name": "stderr",
     "output_type": "stream",
     "text": [
      "     72/100         0G       1.12      1.014      1.752         22        640: 100%|██████████| 4/4 [00:31<00:00,  7.93s/it]\n",
      "                 Class     Images  Instances      Box(P          R      mAP50  mAP50-95): 100%|██████████| 1/1 [00:00<00:00,  1.02it/s]"
     ]
    },
    {
     "name": "stdout",
     "output_type": "stream",
     "text": [
      "                   all          8         16      0.947          1      0.995      0.844\n"
     ]
    },
    {
     "name": "stderr",
     "output_type": "stream",
     "text": [
      "\n"
     ]
    },
    {
     "name": "stdout",
     "output_type": "stream",
     "text": [
      "\n",
      "      Epoch    GPU_mem   box_loss   cls_loss   dfl_loss  Instances       Size\n"
     ]
    },
    {
     "name": "stderr",
     "output_type": "stream",
     "text": [
      "     73/100         0G      1.238     0.9766      1.818         33        640: 100%|██████████| 4/4 [00:30<00:00,  7.68s/it]\n",
      "                 Class     Images  Instances      Box(P          R      mAP50  mAP50-95): 100%|██████████| 1/1 [00:01<00:00,  1.30s/it]"
     ]
    },
    {
     "name": "stdout",
     "output_type": "stream",
     "text": [
      "                   all          8         16      0.952      0.999      0.995      0.879\n"
     ]
    },
    {
     "name": "stderr",
     "output_type": "stream",
     "text": [
      "\n"
     ]
    },
    {
     "name": "stdout",
     "output_type": "stream",
     "text": [
      "\n",
      "      Epoch    GPU_mem   box_loss   cls_loss   dfl_loss  Instances       Size\n"
     ]
    },
    {
     "name": "stderr",
     "output_type": "stream",
     "text": [
      "     74/100         0G      1.176     0.9213      1.805         26        640: 100%|██████████| 4/4 [00:34<00:00,  8.58s/it]\n",
      "                 Class     Images  Instances      Box(P          R      mAP50  mAP50-95): 100%|██████████| 1/1 [00:01<00:00,  1.59s/it]"
     ]
    },
    {
     "name": "stdout",
     "output_type": "stream",
     "text": [
      "                   all          8         16      0.951          1      0.995      0.895\n"
     ]
    },
    {
     "name": "stderr",
     "output_type": "stream",
     "text": [
      "\n"
     ]
    },
    {
     "name": "stdout",
     "output_type": "stream",
     "text": [
      "\n",
      "      Epoch    GPU_mem   box_loss   cls_loss   dfl_loss  Instances       Size\n"
     ]
    },
    {
     "name": "stderr",
     "output_type": "stream",
     "text": [
      "     75/100         0G      1.236     0.9112      1.807         53        640: 100%|██████████| 4/4 [00:32<00:00,  8.24s/it]\n",
      "                 Class     Images  Instances      Box(P          R      mAP50  mAP50-95): 100%|██████████| 1/1 [00:01<00:00,  1.45s/it]"
     ]
    },
    {
     "name": "stdout",
     "output_type": "stream",
     "text": [
      "                   all          8         16      0.954      0.997      0.995      0.852\n"
     ]
    },
    {
     "name": "stderr",
     "output_type": "stream",
     "text": [
      "\n"
     ]
    },
    {
     "name": "stdout",
     "output_type": "stream",
     "text": [
      "\n",
      "      Epoch    GPU_mem   box_loss   cls_loss   dfl_loss  Instances       Size\n"
     ]
    },
    {
     "name": "stderr",
     "output_type": "stream",
     "text": [
      "     76/100         0G      1.142     0.9749      1.756         32        640: 100%|██████████| 4/4 [00:32<00:00,  8.19s/it]\n",
      "                 Class     Images  Instances      Box(P          R      mAP50  mAP50-95): 100%|██████████| 1/1 [00:00<00:00,  1.03it/s]"
     ]
    },
    {
     "name": "stdout",
     "output_type": "stream",
     "text": [
      "                   all          8         16      0.955          1      0.995      0.821\n"
     ]
    },
    {
     "name": "stderr",
     "output_type": "stream",
     "text": [
      "\n"
     ]
    },
    {
     "name": "stdout",
     "output_type": "stream",
     "text": [
      "\n",
      "      Epoch    GPU_mem   box_loss   cls_loss   dfl_loss  Instances       Size\n"
     ]
    },
    {
     "name": "stderr",
     "output_type": "stream",
     "text": [
      "     77/100         0G      1.126     0.8998      1.729         42        640: 100%|██████████| 4/4 [00:30<00:00,  7.63s/it]\n",
      "                 Class     Images  Instances      Box(P          R      mAP50  mAP50-95): 100%|██████████| 1/1 [00:01<00:00,  1.85s/it]"
     ]
    },
    {
     "name": "stdout",
     "output_type": "stream",
     "text": [
      "                   all          8         16      0.963          1      0.995      0.864\n"
     ]
    },
    {
     "name": "stderr",
     "output_type": "stream",
     "text": [
      "\n"
     ]
    },
    {
     "name": "stdout",
     "output_type": "stream",
     "text": [
      "\n",
      "      Epoch    GPU_mem   box_loss   cls_loss   dfl_loss  Instances       Size\n"
     ]
    },
    {
     "name": "stderr",
     "output_type": "stream",
     "text": [
      "     78/100         0G       1.08     0.8486      1.706         36        640: 100%|██████████| 4/4 [00:32<00:00,  8.07s/it]\n",
      "                 Class     Images  Instances      Box(P          R      mAP50  mAP50-95): 100%|██████████| 1/1 [00:01<00:00,  1.74s/it]"
     ]
    },
    {
     "name": "stdout",
     "output_type": "stream",
     "text": [
      "                   all          8         16      0.966      0.999      0.995      0.953\n"
     ]
    },
    {
     "name": "stderr",
     "output_type": "stream",
     "text": [
      "\n"
     ]
    },
    {
     "name": "stdout",
     "output_type": "stream",
     "text": [
      "\n",
      "      Epoch    GPU_mem   box_loss   cls_loss   dfl_loss  Instances       Size\n"
     ]
    },
    {
     "name": "stderr",
     "output_type": "stream",
     "text": [
      "     79/100         0G      1.241     0.9393      1.853         23        640: 100%|██████████| 4/4 [00:34<00:00,  8.60s/it]\n",
      "                 Class     Images  Instances      Box(P          R      mAP50  mAP50-95): 100%|██████████| 1/1 [00:00<00:00,  1.04it/s]"
     ]
    },
    {
     "name": "stdout",
     "output_type": "stream",
     "text": [
      "                   all          8         16      0.967      0.997      0.995      0.973\n"
     ]
    },
    {
     "name": "stderr",
     "output_type": "stream",
     "text": [
      "\n"
     ]
    },
    {
     "name": "stdout",
     "output_type": "stream",
     "text": [
      "\n",
      "      Epoch    GPU_mem   box_loss   cls_loss   dfl_loss  Instances       Size\n"
     ]
    },
    {
     "name": "stderr",
     "output_type": "stream",
     "text": [
      "     80/100         0G      1.149      0.944      1.769         25        640: 100%|██████████| 4/4 [00:32<00:00,  8.20s/it]\n",
      "                 Class     Images  Instances      Box(P          R      mAP50  mAP50-95): 100%|██████████| 1/1 [00:01<00:00,  1.56s/it]"
     ]
    },
    {
     "name": "stdout",
     "output_type": "stream",
     "text": [
      "                   all          8         16       0.97      0.996      0.995      0.922\n"
     ]
    },
    {
     "name": "stderr",
     "output_type": "stream",
     "text": [
      "\n"
     ]
    },
    {
     "name": "stdout",
     "output_type": "stream",
     "text": [
      "\n",
      "      Epoch    GPU_mem   box_loss   cls_loss   dfl_loss  Instances       Size\n"
     ]
    },
    {
     "name": "stderr",
     "output_type": "stream",
     "text": [
      "     81/100         0G      1.194     0.9662       1.77         28        640: 100%|██████████| 4/4 [00:32<00:00,  8.00s/it]\n",
      "                 Class     Images  Instances      Box(P          R      mAP50  mAP50-95): 100%|██████████| 1/1 [00:01<00:00,  1.75s/it]"
     ]
    },
    {
     "name": "stdout",
     "output_type": "stream",
     "text": [
      "                   all          8         16      0.973      0.996      0.995      0.896\n"
     ]
    },
    {
     "name": "stderr",
     "output_type": "stream",
     "text": [
      "\n"
     ]
    },
    {
     "name": "stdout",
     "output_type": "stream",
     "text": [
      "\n",
      "      Epoch    GPU_mem   box_loss   cls_loss   dfl_loss  Instances       Size\n"
     ]
    },
    {
     "name": "stderr",
     "output_type": "stream",
     "text": [
      "     82/100         0G      1.174     0.8887      1.775         25        640: 100%|██████████| 4/4 [00:33<00:00,  8.30s/it]\n",
      "                 Class     Images  Instances      Box(P          R      mAP50  mAP50-95): 100%|██████████| 1/1 [00:01<00:00,  1.15s/it]"
     ]
    },
    {
     "name": "stdout",
     "output_type": "stream",
     "text": [
      "                   all          8         16      0.977      0.998      0.995      0.896\n"
     ]
    },
    {
     "name": "stderr",
     "output_type": "stream",
     "text": [
      "\n"
     ]
    },
    {
     "name": "stdout",
     "output_type": "stream",
     "text": [
      "\n",
      "      Epoch    GPU_mem   box_loss   cls_loss   dfl_loss  Instances       Size\n"
     ]
    },
    {
     "name": "stderr",
     "output_type": "stream",
     "text": [
      "     83/100         0G        1.2     0.9582      1.789         30        640: 100%|██████████| 4/4 [00:32<00:00,  8.19s/it]\n",
      "                 Class     Images  Instances      Box(P          R      mAP50  mAP50-95): 100%|██████████| 1/1 [00:01<00:00,  1.02s/it]"
     ]
    },
    {
     "name": "stdout",
     "output_type": "stream",
     "text": [
      "                   all          8         16      0.978          1      0.995      0.944\n"
     ]
    },
    {
     "name": "stderr",
     "output_type": "stream",
     "text": [
      "\n"
     ]
    },
    {
     "name": "stdout",
     "output_type": "stream",
     "text": [
      "\n",
      "      Epoch    GPU_mem   box_loss   cls_loss   dfl_loss  Instances       Size\n"
     ]
    },
    {
     "name": "stderr",
     "output_type": "stream",
     "text": [
      "     84/100         0G     0.9723     0.8219      1.572         27        640: 100%|██████████| 4/4 [00:32<00:00,  8.07s/it]\n",
      "                 Class     Images  Instances      Box(P          R      mAP50  mAP50-95): 100%|██████████| 1/1 [00:01<00:00,  1.50s/it]"
     ]
    },
    {
     "name": "stdout",
     "output_type": "stream",
     "text": [
      "                   all          8         16      0.977          1      0.995      0.939\n"
     ]
    },
    {
     "name": "stderr",
     "output_type": "stream",
     "text": [
      "\n"
     ]
    },
    {
     "name": "stdout",
     "output_type": "stream",
     "text": [
      "\n",
      "      Epoch    GPU_mem   box_loss   cls_loss   dfl_loss  Instances       Size\n"
     ]
    },
    {
     "name": "stderr",
     "output_type": "stream",
     "text": [
      "     85/100         0G       1.15     0.9734      1.687         22        640: 100%|██████████| 4/4 [00:31<00:00,  7.83s/it]\n",
      "                 Class     Images  Instances      Box(P          R      mAP50  mAP50-95): 100%|██████████| 1/1 [00:01<00:00,  1.58s/it]"
     ]
    },
    {
     "name": "stdout",
     "output_type": "stream",
     "text": [
      "                   all          8         16      0.976          1      0.995      0.935\n"
     ]
    },
    {
     "name": "stderr",
     "output_type": "stream",
     "text": [
      "\n"
     ]
    },
    {
     "name": "stdout",
     "output_type": "stream",
     "text": [
      "\n",
      "      Epoch    GPU_mem   box_loss   cls_loss   dfl_loss  Instances       Size\n"
     ]
    },
    {
     "name": "stderr",
     "output_type": "stream",
     "text": [
      "     86/100         0G     0.8746     0.8816      1.521         18        640: 100%|██████████| 4/4 [00:31<00:00,  7.93s/it]\n",
      "                 Class     Images  Instances      Box(P          R      mAP50  mAP50-95): 100%|██████████| 1/1 [00:01<00:00,  1.55s/it]"
     ]
    },
    {
     "name": "stdout",
     "output_type": "stream",
     "text": [
      "                   all          8         16      0.977          1      0.995      0.947\n"
     ]
    },
    {
     "name": "stderr",
     "output_type": "stream",
     "text": [
      "\n"
     ]
    },
    {
     "name": "stdout",
     "output_type": "stream",
     "text": [
      "\n",
      "      Epoch    GPU_mem   box_loss   cls_loss   dfl_loss  Instances       Size\n"
     ]
    },
    {
     "name": "stderr",
     "output_type": "stream",
     "text": [
      "     87/100         0G     0.9765     0.8461      1.533         31        640: 100%|██████████| 4/4 [00:32<00:00,  8.08s/it]\n",
      "                 Class     Images  Instances      Box(P          R      mAP50  mAP50-95): 100%|██████████| 1/1 [00:01<00:00,  1.44s/it]"
     ]
    },
    {
     "name": "stdout",
     "output_type": "stream",
     "text": [
      "                   all          8         16      0.981          1      0.995      0.883\n"
     ]
    },
    {
     "name": "stderr",
     "output_type": "stream",
     "text": [
      "\n"
     ]
    },
    {
     "name": "stdout",
     "output_type": "stream",
     "text": [
      "\n",
      "      Epoch    GPU_mem   box_loss   cls_loss   dfl_loss  Instances       Size\n"
     ]
    },
    {
     "name": "stderr",
     "output_type": "stream",
     "text": [
      "     88/100         0G      1.015      0.808      1.608         56        640: 100%|██████████| 4/4 [00:32<00:00,  8.22s/it]\n",
      "                 Class     Images  Instances      Box(P          R      mAP50  mAP50-95): 100%|██████████| 1/1 [00:01<00:00,  1.74s/it]"
     ]
    },
    {
     "name": "stdout",
     "output_type": "stream",
     "text": [
      "                   all          8         16      0.984          1      0.995      0.839\n"
     ]
    },
    {
     "name": "stderr",
     "output_type": "stream",
     "text": [
      "\n"
     ]
    },
    {
     "name": "stdout",
     "output_type": "stream",
     "text": [
      "\n",
      "      Epoch    GPU_mem   box_loss   cls_loss   dfl_loss  Instances       Size\n"
     ]
    },
    {
     "name": "stderr",
     "output_type": "stream",
     "text": [
      "     89/100         0G     0.9575     0.8227      1.546         64        640: 100%|██████████| 4/4 [00:39<00:00,  9.84s/it]\n",
      "                 Class     Images  Instances      Box(P          R      mAP50  mAP50-95): 100%|██████████| 1/1 [00:01<00:00,  1.72s/it]"
     ]
    },
    {
     "name": "stdout",
     "output_type": "stream",
     "text": [
      "                   all          8         16      0.984          1      0.995      0.824\n"
     ]
    },
    {
     "name": "stderr",
     "output_type": "stream",
     "text": [
      "\n"
     ]
    },
    {
     "name": "stdout",
     "output_type": "stream",
     "text": [
      "\n",
      "      Epoch    GPU_mem   box_loss   cls_loss   dfl_loss  Instances       Size\n"
     ]
    },
    {
     "name": "stderr",
     "output_type": "stream",
     "text": [
      "     90/100         0G      1.023     0.9384      1.622         18        640: 100%|██████████| 4/4 [00:33<00:00,  8.36s/it]\n",
      "                 Class     Images  Instances      Box(P          R      mAP50  mAP50-95): 100%|██████████| 1/1 [00:00<00:00,  1.06it/s]"
     ]
    },
    {
     "name": "stdout",
     "output_type": "stream",
     "text": [
      "                   all          8         16      0.985          1      0.995      0.869\n"
     ]
    },
    {
     "name": "stderr",
     "output_type": "stream",
     "text": [
      "\n"
     ]
    },
    {
     "name": "stdout",
     "output_type": "stream",
     "text": [
      "Closing dataloader mosaic\n",
      "\u001b[34m\u001b[1malbumentations: \u001b[0mBlur(p=0.01, blur_limit=(3, 7)), MedianBlur(p=0.01, blur_limit=(3, 7)), ToGray(p=0.01, num_output_channels=3, method='weighted_average'), CLAHE(p=0.01, clip_limit=(1.0, 4.0), tile_grid_size=(8, 8))\n",
      "\n",
      "      Epoch    GPU_mem   box_loss   cls_loss   dfl_loss  Instances       Size\n"
     ]
    },
    {
     "name": "stderr",
     "output_type": "stream",
     "text": [
      "     91/100         0G     0.8344      0.987      1.454         19        640: 100%|██████████| 4/4 [00:33<00:00,  8.47s/it]\n",
      "                 Class     Images  Instances      Box(P          R      mAP50  mAP50-95): 100%|██████████| 1/1 [00:00<00:00,  1.04it/s]"
     ]
    },
    {
     "name": "stdout",
     "output_type": "stream",
     "text": [
      "                   all          8         16      0.984          1      0.995      0.897\n"
     ]
    },
    {
     "name": "stderr",
     "output_type": "stream",
     "text": [
      "\n"
     ]
    },
    {
     "name": "stdout",
     "output_type": "stream",
     "text": [
      "\n",
      "      Epoch    GPU_mem   box_loss   cls_loss   dfl_loss  Instances       Size\n"
     ]
    },
    {
     "name": "stderr",
     "output_type": "stream",
     "text": [
      "     92/100         0G     0.7293     0.9444      1.389         19        640: 100%|██████████| 4/4 [00:36<00:00,  9.11s/it]\n",
      "                 Class     Images  Instances      Box(P          R      mAP50  mAP50-95): 100%|██████████| 1/1 [00:01<00:00,  1.89s/it]"
     ]
    },
    {
     "name": "stdout",
     "output_type": "stream",
     "text": [
      "                   all          8         16      0.978      0.997      0.995      0.935\n"
     ]
    },
    {
     "name": "stderr",
     "output_type": "stream",
     "text": [
      "\n"
     ]
    },
    {
     "name": "stdout",
     "output_type": "stream",
     "text": [
      "\n",
      "      Epoch    GPU_mem   box_loss   cls_loss   dfl_loss  Instances       Size\n"
     ]
    },
    {
     "name": "stderr",
     "output_type": "stream",
     "text": [
      "     93/100         0G     0.6957      1.046      1.417         19        640: 100%|██████████| 4/4 [00:34<00:00,  8.54s/it]\n",
      "                 Class     Images  Instances      Box(P          R      mAP50  mAP50-95): 100%|██████████| 1/1 [00:01<00:00,  1.31s/it]"
     ]
    },
    {
     "name": "stdout",
     "output_type": "stream",
     "text": [
      "                   all          8         16      0.975      0.997      0.995      0.939\n"
     ]
    },
    {
     "name": "stderr",
     "output_type": "stream",
     "text": [
      "\n"
     ]
    },
    {
     "name": "stdout",
     "output_type": "stream",
     "text": [
      "\n",
      "      Epoch    GPU_mem   box_loss   cls_loss   dfl_loss  Instances       Size\n"
     ]
    },
    {
     "name": "stderr",
     "output_type": "stream",
     "text": [
      "     94/100         0G     0.6267       0.88      1.292         13        640: 100%|██████████| 4/4 [00:30<00:00,  7.62s/it]\n",
      "                 Class     Images  Instances      Box(P          R      mAP50  mAP50-95): 100%|██████████| 1/1 [00:01<00:00,  1.78s/it]"
     ]
    },
    {
     "name": "stdout",
     "output_type": "stream",
     "text": [
      "                   all          8         16      0.975          1      0.995      0.912\n"
     ]
    },
    {
     "name": "stderr",
     "output_type": "stream",
     "text": [
      "\n"
     ]
    },
    {
     "name": "stdout",
     "output_type": "stream",
     "text": [
      "\n",
      "      Epoch    GPU_mem   box_loss   cls_loss   dfl_loss  Instances       Size\n"
     ]
    },
    {
     "name": "stderr",
     "output_type": "stream",
     "text": [
      "     95/100         0G     0.6652     0.9559      1.317         15        640: 100%|██████████| 4/4 [00:31<00:00,  7.83s/it]\n",
      "                 Class     Images  Instances      Box(P          R      mAP50  mAP50-95): 100%|██████████| 1/1 [00:01<00:00,  1.84s/it]"
     ]
    },
    {
     "name": "stdout",
     "output_type": "stream",
     "text": [
      "                   all          8         16      0.976          1      0.995      0.918\n"
     ]
    },
    {
     "name": "stderr",
     "output_type": "stream",
     "text": [
      "\n"
     ]
    },
    {
     "name": "stdout",
     "output_type": "stream",
     "text": [
      "\n",
      "      Epoch    GPU_mem   box_loss   cls_loss   dfl_loss  Instances       Size\n"
     ]
    },
    {
     "name": "stderr",
     "output_type": "stream",
     "text": [
      "     96/100         0G     0.6152     0.9516      1.306         23        640: 100%|██████████| 4/4 [00:34<00:00,  8.50s/it]\n",
      "                 Class     Images  Instances      Box(P          R      mAP50  mAP50-95): 100%|██████████| 1/1 [00:01<00:00,  1.58s/it]"
     ]
    },
    {
     "name": "stdout",
     "output_type": "stream",
     "text": [
      "                   all          8         16      0.979          1      0.995      0.932\n"
     ]
    },
    {
     "name": "stderr",
     "output_type": "stream",
     "text": [
      "\n"
     ]
    },
    {
     "name": "stdout",
     "output_type": "stream",
     "text": [
      "\n",
      "      Epoch    GPU_mem   box_loss   cls_loss   dfl_loss  Instances       Size\n"
     ]
    },
    {
     "name": "stderr",
     "output_type": "stream",
     "text": [
      "     97/100         0G      0.648     0.8933      1.242         17        640: 100%|██████████| 4/4 [00:32<00:00,  8.12s/it]\n",
      "                 Class     Images  Instances      Box(P          R      mAP50  mAP50-95): 100%|██████████| 1/1 [00:01<00:00,  1.39s/it]"
     ]
    },
    {
     "name": "stdout",
     "output_type": "stream",
     "text": [
      "                   all          8         16      0.981          1      0.995      0.929\n"
     ]
    },
    {
     "name": "stderr",
     "output_type": "stream",
     "text": [
      "\n"
     ]
    },
    {
     "name": "stdout",
     "output_type": "stream",
     "text": [
      "\n",
      "      Epoch    GPU_mem   box_loss   cls_loss   dfl_loss  Instances       Size\n"
     ]
    },
    {
     "name": "stderr",
     "output_type": "stream",
     "text": [
      "     98/100         0G     0.5813     0.8542      1.243         17        640: 100%|██████████| 4/4 [00:32<00:00,  8.16s/it]\n",
      "                 Class     Images  Instances      Box(P          R      mAP50  mAP50-95): 100%|██████████| 1/1 [00:01<00:00,  1.02s/it]"
     ]
    },
    {
     "name": "stdout",
     "output_type": "stream",
     "text": [
      "                   all          8         16      0.984          1      0.995      0.917\n"
     ]
    },
    {
     "name": "stderr",
     "output_type": "stream",
     "text": [
      "\n"
     ]
    },
    {
     "name": "stdout",
     "output_type": "stream",
     "text": [
      "\n",
      "      Epoch    GPU_mem   box_loss   cls_loss   dfl_loss  Instances       Size\n"
     ]
    },
    {
     "name": "stderr",
     "output_type": "stream",
     "text": [
      "     99/100         0G     0.5462     0.8435      1.203         19        640: 100%|██████████| 4/4 [00:31<00:00,  7.80s/it]\n",
      "                 Class     Images  Instances      Box(P          R      mAP50  mAP50-95): 100%|██████████| 1/1 [00:01<00:00,  1.75s/it]"
     ]
    },
    {
     "name": "stdout",
     "output_type": "stream",
     "text": [
      "                   all          8         16      0.986          1      0.995      0.926\n"
     ]
    },
    {
     "name": "stderr",
     "output_type": "stream",
     "text": [
      "\n"
     ]
    },
    {
     "name": "stdout",
     "output_type": "stream",
     "text": [
      "\n",
      "      Epoch    GPU_mem   box_loss   cls_loss   dfl_loss  Instances       Size\n"
     ]
    },
    {
     "name": "stderr",
     "output_type": "stream",
     "text": [
      "    100/100         0G     0.5899     0.9396      1.274          9        640: 100%|██████████| 4/4 [00:32<00:00,  8.21s/it]\n",
      "                 Class     Images  Instances      Box(P          R      mAP50  mAP50-95): 100%|██████████| 1/1 [00:01<00:00,  1.04s/it]"
     ]
    },
    {
     "name": "stdout",
     "output_type": "stream",
     "text": [
      "                   all          8         16      0.987          1      0.995      0.926\n"
     ]
    },
    {
     "name": "stderr",
     "output_type": "stream",
     "text": [
      "\n"
     ]
    },
    {
     "name": "stdout",
     "output_type": "stream",
     "text": [
      "\n",
      "100 epochs completed in 0.974 hours.\n",
      "Optimizer stripped from c:\\Users\\77019\\Desktop\\kbtu\\5 sem\\tic_tac_toe_cv\\runs\\detect\\train3\\weights\\last.pt, 6.2MB\n",
      "Optimizer stripped from c:\\Users\\77019\\Desktop\\kbtu\\5 sem\\tic_tac_toe_cv\\runs\\detect\\train3\\weights\\best.pt, 6.2MB\n",
      "\n",
      "Validating c:\\Users\\77019\\Desktop\\kbtu\\5 sem\\tic_tac_toe_cv\\runs\\detect\\train3\\weights\\best.pt...\n",
      "WARNING  validating an untrained model YAML will result in 0 mAP.\n",
      "Ultralytics 8.3.23  Python-3.12.1 torch-2.5.0+cpu CPU (Intel Core(TM) i5-8250U 1.60GHz)\n",
      "YOLOv8n summary (fused): 168 layers, 3,006,038 parameters, 0 gradients, 8.1 GFLOPs\n"
     ]
    },
    {
     "name": "stderr",
     "output_type": "stream",
     "text": [
      "                 Class     Images  Instances      Box(P          R      mAP50  mAP50-95): 100%|██████████| 1/1 [00:01<00:00,  1.58s/it]\n"
     ]
    },
    {
     "name": "stdout",
     "output_type": "stream",
     "text": [
      "                   all          8         16      0.967      0.997      0.995      0.973\n",
      "                     x          2          5      0.934          1      0.995      0.995\n",
      "                     o          7         11          1      0.995      0.995       0.95\n",
      "Speed: 13.3ms preprocess, 126.2ms inference, 0.0ms loss, 4.0ms postprocess per image\n",
      "Results saved to \u001b[1mc:\\Users\\77019\\Desktop\\kbtu\\5 sem\\tic_tac_toe_cv\\runs\\detect\\train3\u001b[0m\n"
     ]
    }
   ],
   "source": [
    "# Load a model\n",
    "model = YOLO(\"yolov8n.yaml\")  # build a new model from scratch\n",
    "\n",
    "# Use the model\n",
    "results = model.train(data=os.path.join(ROOT_DIR, \"google_colab_config.yaml\"), epochs=100)  # train the model"
   ]
  },
  {
   "cell_type": "code",
   "execution_count": 2,
   "metadata": {},
   "outputs": [],
   "source": [
    "from ultralytics import YOLO\n",
    "\n",
    "model = YOLO(r\"C:\\Users\\77019\\Desktop\\kbtu\\5 sem\\tic_tac_toe_cv\\runs\\detect\\train3\\weights\\best.pt\")\n"
   ]
  },
  {
   "cell_type": "code",
   "execution_count": 8,
   "metadata": {},
   "outputs": [
    {
     "name": "stdout",
     "output_type": "stream",
     "text": [
      "\n",
      "image 1/1 C:\\Users\\77019\\Downloads\\Telegram Desktop\\photo_2024-10-27_14-05-05.jpg: 640x608 4 xs, 5 os, 143.0ms\n",
      "Speed: 5.0ms preprocess, 143.0ms inference, 0.0ms postprocess per image at shape (1, 3, 640, 608)\n",
      "Results saved to \u001b[1mc:\\Users\\77019\\Desktop\\kbtu\\5 sem\\tic_tac_toe_cv\\runs\\detect\\predict2\u001b[0m\n"
     ]
    },
    {
     "data": {
      "text/plain": [
       "[ultralytics.engine.results.Results object with attributes:\n",
       " \n",
       " boxes: ultralytics.engine.results.Boxes object\n",
       " keypoints: None\n",
       " masks: None\n",
       " names: {0: 'x', 1: 'o'}\n",
       " obb: None\n",
       " orig_img: array([[[ 59,  73,  92],\n",
       "         [ 59,  73,  92],\n",
       "         [ 59,  73,  92],\n",
       "         ...,\n",
       "         [140, 139, 141],\n",
       "         [140, 139, 141],\n",
       "         [140, 139, 141]],\n",
       " \n",
       "        [[ 59,  73,  92],\n",
       "         [ 59,  73,  92],\n",
       "         [ 59,  73,  92],\n",
       "         ...,\n",
       "         [140, 139, 141],\n",
       "         [140, 139, 141],\n",
       "         [140, 139, 141]],\n",
       " \n",
       "        [[ 59,  73,  92],\n",
       "         [ 59,  73,  92],\n",
       "         [ 59,  73,  92],\n",
       "         ...,\n",
       "         [140, 139, 141],\n",
       "         [139, 138, 140],\n",
       "         [139, 138, 140]],\n",
       " \n",
       "        ...,\n",
       " \n",
       "        [[160, 157, 159],\n",
       "         [160, 157, 159],\n",
       "         [159, 156, 158],\n",
       "         ...,\n",
       "         [124, 127, 132],\n",
       "         [121, 124, 129],\n",
       "         [121, 124, 129]],\n",
       " \n",
       "        [[160, 157, 159],\n",
       "         [160, 157, 159],\n",
       "         [159, 156, 158],\n",
       "         ...,\n",
       "         [123, 126, 131],\n",
       "         [121, 124, 129],\n",
       "         [121, 124, 129]],\n",
       " \n",
       "        [[160, 157, 159],\n",
       "         [160, 157, 159],\n",
       "         [159, 156, 158],\n",
       "         ...,\n",
       "         [123, 126, 131],\n",
       "         [122, 125, 130],\n",
       "         [122, 125, 130]]], dtype=uint8)\n",
       " orig_shape: (1280, 1162)\n",
       " path: 'C:\\\\Users\\\\77019\\\\Downloads\\\\Telegram Desktop\\\\photo_2024-10-27_14-05-05.jpg'\n",
       " probs: None\n",
       " save_dir: 'c:\\\\Users\\\\77019\\\\Desktop\\\\kbtu\\\\5 sem\\\\tic_tac_toe_cv\\\\runs\\\\detect\\\\predict2'\n",
       " speed: {'preprocess': 4.987001419067383, 'inference': 142.95148849487305, 'postprocess': 0.0}]"
      ]
     },
     "execution_count": 8,
     "metadata": {},
     "output_type": "execute_result"
    }
   ],
   "source": [
    "\n",
    "results = model.predict(source=r\"C:\\Users\\77019\\Downloads\\Telegram Desktop\\photo_2024-10-27_14-05-05.jpg\", save=True)  # Set `save=True` to save the output with bounding boxes\n",
    "results"
   ]
  },
  {
   "cell_type": "code",
   "execution_count": 7,
   "metadata": {},
   "outputs": [
    {
     "name": "stdout",
     "output_type": "stream",
     "text": [
      "\n",
      "1/1: 0... Success  (inf frames of shape 640x480 at 30.00 FPS)\n",
      "\n",
      "\n",
      "WARNING  inference results will accumulate in RAM unless `stream=True` is passed, causing potential out-of-memory\n",
      "errors for large sources or long-running streams and videos. See https://docs.ultralytics.com/modes/predict/ for help.\n",
      "\n",
      "Example:\n",
      "    results = model(source=..., stream=True)  # generator of Results objects\n",
      "    for r in results:\n",
      "        boxes = r.boxes  # Boxes object for bbox outputs\n",
      "        masks = r.masks  # Masks object for segment masks outputs\n",
      "        probs = r.probs  # Class probabilities for classification outputs\n",
      "\n",
      "0: 480x640 1 x, 119.7ms\n",
      "0: 480x640 1 x, 103.7ms\n",
      "0: 480x640 (no detections), 108.9ms\n",
      "0: 480x640 (no detections), 94.0ms\n",
      "0: 480x640 3 xs, 85.0ms\n",
      "0: 480x640 2 xs, 107.8ms\n",
      "0: 480x640 3 xs, 115.6ms\n",
      "0: 480x640 4 xs, 100.1ms\n",
      "0: 480x640 1 x, 99.7ms\n",
      "0: 480x640 (no detections), 119.8ms\n",
      "0: 480x640 (no detections), 119.2ms\n",
      "0: 480x640 1 x, 114.3ms\n",
      "0: 480x640 1 x, 105.5ms\n",
      "0: 480x640 1 x, 118.8ms\n",
      "0: 480x640 (no detections), 119.7ms\n",
      "0: 480x640 1 x, 119.6ms\n",
      "0: 480x640 2 xs, 113.5ms\n",
      "0: 480x640 2 xs, 129.6ms\n",
      "0: 480x640 3 xs, 144.1ms\n",
      "0: 480x640 2 xs, 118.9ms\n",
      "0: 480x640 3 xs, 110.6ms\n",
      "0: 480x640 1 x, 98.9ms\n",
      "0: 480x640 1 x, 96.2ms\n",
      "0: 480x640 2 xs, 100.0ms\n",
      "0: 480x640 2 xs, 183.4ms\n",
      "0: 480x640 2 xs, 198.7ms\n",
      "0: 480x640 4 xs, 221.3ms\n",
      "0: 480x640 3 xs, 195.0ms\n",
      "0: 480x640 3 xs, 215.9ms\n",
      "0: 480x640 1 x, 213.4ms\n",
      "0: 480x640 1 x, 220.1ms\n",
      "0: 480x640 (no detections), 199.7ms\n",
      "0: 480x640 1 x, 200.1ms\n",
      "0: 480x640 1 x, 218.1ms\n",
      "0: 480x640 3 xs, 205.8ms\n",
      "0: 480x640 2 xs, 215.3ms\n",
      "0: 480x640 2 xs, 203.3ms\n",
      "0: 480x640 4 xs, 187.4ms\n",
      "0: 480x640 1 x, 116.0ms\n",
      "0: 480x640 3 xs, 119.0ms\n",
      "0: 480x640 2 xs, 121.4ms\n",
      "0: 480x640 2 xs, 110.5ms\n",
      "0: 480x640 2 xs, 115.2ms\n",
      "0: 480x640 2 xs, 113.8ms\n",
      "0: 480x640 2 xs, 119.9ms\n",
      "0: 480x640 2 xs, 115.0ms\n",
      "0: 480x640 2 xs, 113.8ms\n",
      "0: 480x640 2 xs, 206.6ms\n",
      "0: 480x640 3 xs, 224.2ms\n",
      "0: 480x640 2 xs, 224.7ms\n",
      "0: 480x640 1 x, 269.7ms\n",
      "0: 480x640 1 x, 306.7ms\n",
      "0: 480x640 2 xs, 300.1ms\n",
      "0: 480x640 4 xs, 306.6ms\n",
      "0: 480x640 3 xs, 300.2ms\n",
      "0: 480x640 2 xs, 302.1ms\n",
      "0: 480x640 1 x, 312.3ms\n",
      "0: 480x640 2 xs, 308.3ms\n",
      "0: 480x640 1 x, 304.6ms\n",
      "0: 480x640 5 xs, 302.3ms\n",
      "0: 480x640 1 x, 306.4ms\n",
      "0: 480x640 9 xs, 1 o, 302.3ms\n",
      "0: 480x640 7 xs, 1 o, 307.2ms\n",
      "0: 480x640 9 xs, 303.5ms\n",
      "0: 480x640 7 xs, 300.1ms\n",
      "0: 480x640 3 xs, 301.0ms\n",
      "0: 480x640 5 xs, 305.7ms\n",
      "0: 480x640 7 xs, 1 o, 302.5ms\n",
      "0: 480x640 4 xs, 298.8ms\n",
      "0: 480x640 7 xs, 1 o, 303.8ms\n",
      "0: 480x640 3 xs, 304.1ms\n",
      "0: 480x640 3 xs, 1 o, 294.5ms\n",
      "0: 480x640 2 xs, 1 o, 281.0ms\n",
      "0: 480x640 2 xs, 1 o, 283.7ms\n",
      "0: 480x640 2 xs, 1 o, 301.6ms\n",
      "0: 480x640 2 xs, 315.8ms\n",
      "0: 480x640 1 x, 1 o, 303.6ms\n",
      "0: 480x640 2 xs, 289.3ms\n",
      "0: 480x640 1 x, 1 o, 292.4ms\n",
      "0: 480x640 2 xs, 1 o, 277.4ms\n",
      "0: 480x640 3 xs, 275.2ms\n",
      "0: 480x640 2 xs, 285.9ms\n",
      "0: 480x640 2 xs, 319.8ms\n",
      "0: 480x640 1 x, 313.2ms\n",
      "0: 480x640 4 xs, 1 o, 319.4ms\n",
      "0: 480x640 2 xs, 1 o, 291.7ms\n",
      "0: 480x640 1 o, 278.2ms\n",
      "0: 480x640 (no detections), 312.5ms\n",
      "0: 480x640 1 x, 1 o, 311.4ms\n",
      "0: 480x640 2 xs, 316.0ms\n",
      "0: 480x640 1 x, 1 o, 322.1ms\n",
      "0: 480x640 1 x, 1 o, 308.5ms\n",
      "0: 480x640 1 x, 1 o, 291.6ms\n",
      "0: 480x640 1 x, 1 o, 311.4ms\n",
      "0: 480x640 1 x, 306.4ms\n",
      "0: 480x640 1 o, 308.9ms\n",
      "0: 480x640 (no detections), 304.2ms\n",
      "0: 480x640 1 x, 1 o, 285.8ms\n",
      "0: 480x640 1 x, 1 o, 296.2ms\n",
      "0: 480x640 1 o, 303.8ms\n",
      "0: 480x640 1 x, 1 o, 292.3ms\n",
      "0: 480x640 1 o, 285.2ms\n",
      "0: 480x640 1 o, 283.6ms\n",
      "0: 480x640 1 o, 282.9ms\n",
      "0: 480x640 1 x, 1 o, 319.8ms\n",
      "0: 480x640 1 o, 320.7ms\n",
      "0: 480x640 1 o, 324.7ms\n",
      "0: 480x640 1 o, 315.8ms\n",
      "0: 480x640 1 o, 321.2ms\n",
      "0: 480x640 1 o, 298.8ms\n",
      "0: 480x640 1 o, 287.2ms\n",
      "0: 480x640 1 o, 283.1ms\n",
      "0: 480x640 1 o, 284.8ms\n",
      "0: 480x640 1 x, 1 o, 286.0ms\n",
      "0: 480x640 (no detections), 293.7ms\n",
      "0: 480x640 3 xs, 319.0ms\n",
      "0: 480x640 3 xs, 301.4ms\n",
      "0: 480x640 5 xs, 296.1ms\n",
      "0: 480x640 5 xs, 298.8ms\n",
      "0: 480x640 9 xs, 297.7ms\n",
      "0: 480x640 10 xs, 314.6ms\n",
      "0: 480x640 9 xs, 312.2ms\n",
      "0: 480x640 5 xs, 325.0ms\n",
      "0: 480x640 3 xs, 331.1ms\n",
      "0: 480x640 2 xs, 370.5ms\n",
      "0: 480x640 1 x, 325.1ms\n",
      "0: 480x640 1 x, 327.9ms\n",
      "0: 480x640 1 x, 324.9ms\n",
      "0: 480x640 (no detections), 317.4ms\n",
      "0: 480x640 (no detections), 312.3ms\n",
      "0: 480x640 (no detections), 310.7ms\n",
      "0: 480x640 (no detections), 326.1ms\n",
      "0: 480x640 (no detections), 319.4ms\n",
      "0: 480x640 (no detections), 316.9ms\n",
      "0: 480x640 (no detections), 218.6ms\n",
      "0: 480x640 (no detections), 276.7ms\n",
      "0: 480x640 (no detections), 346.0ms\n",
      "0: 480x640 (no detections), 339.8ms\n",
      "0: 480x640 (no detections), 318.2ms\n",
      "0: 480x640 (no detections), 221.9ms\n",
      "0: 480x640 (no detections), 341.6ms\n",
      "0: 480x640 1 x, 346.3ms\n",
      "0: 480x640 2 xs, 302.0ms\n",
      "0: 480x640 2 xs, 317.4ms\n",
      "0: 480x640 3 xs, 261.9ms\n",
      "0: 480x640 8 xs, 368.2ms\n",
      "0: 480x640 6 xs, 326.0ms\n",
      "0: 480x640 5 xs, 310.5ms\n",
      "0: 480x640 8 xs, 328.0ms\n",
      "0: 480x640 7 xs, 344.1ms\n",
      "0: 480x640 10 xs, 315.9ms\n",
      "0: 480x640 7 xs, 321.9ms\n",
      "0: 480x640 8 xs, 274.3ms\n",
      "0: 480x640 7 xs, 315.9ms\n",
      "0: 480x640 8 xs, 317.3ms\n",
      "0: 480x640 8 xs, 313.3ms\n",
      "0: 480x640 7 xs, 318.4ms\n",
      "0: 480x640 8 xs, 311.8ms\n",
      "0: 480x640 8 xs, 317.3ms\n",
      "0: 480x640 8 xs, 318.1ms\n",
      "0: 480x640 7 xs, 318.2ms\n",
      "0: 480x640 7 xs, 323.4ms\n",
      "0: 480x640 7 xs, 315.7ms\n",
      "0: 480x640 6 xs, 319.2ms\n",
      "0: 480x640 6 xs, 334.3ms\n",
      "0: 480x640 8 xs, 280.8ms\n",
      "0: 480x640 8 xs, 331.8ms\n",
      "0: 480x640 6 xs, 321.4ms\n",
      "0: 480x640 6 xs, 327.3ms\n",
      "0: 480x640 7 xs, 320.1ms\n",
      "0: 480x640 7 xs, 325.1ms\n",
      "0: 480x640 7 xs, 244.1ms\n",
      "0: 480x640 6 xs, 290.3ms\n",
      "0: 480x640 8 xs, 338.1ms\n",
      "0: 480x640 6 xs, 358.4ms\n",
      "0: 480x640 8 xs, 330.6ms\n",
      "0: 480x640 7 xs, 364.9ms\n",
      "0: 480x640 8 xs, 318.9ms\n",
      "0: 480x640 6 xs, 336.6ms\n",
      "0: 480x640 7 xs, 337.8ms\n",
      "0: 480x640 6 xs, 326.4ms\n",
      "0: 480x640 8 xs, 336.4ms\n",
      "0: 480x640 6 xs, 327.1ms\n",
      "0: 480x640 7 xs, 332.2ms\n",
      "0: 480x640 7 xs, 327.8ms\n",
      "0: 480x640 7 xs, 342.0ms\n",
      "0: 480x640 8 xs, 330.3ms\n",
      "0: 480x640 7 xs, 339.3ms\n",
      "0: 480x640 7 xs, 352.9ms\n",
      "0: 480x640 7 xs, 352.8ms\n",
      "0: 480x640 7 xs, 348.3ms\n",
      "0: 480x640 7 xs, 341.5ms\n",
      "0: 480x640 9 xs, 336.1ms\n",
      "0: 480x640 7 xs, 341.6ms\n",
      "0: 480x640 6 xs, 337.4ms\n",
      "0: 480x640 7 xs, 328.3ms\n",
      "0: 480x640 5 xs, 209.9ms\n",
      "0: 480x640 8 xs, 271.8ms\n",
      "0: 480x640 7 xs, 354.5ms\n",
      "0: 480x640 9 xs, 347.3ms\n",
      "0: 480x640 8 xs, 337.1ms\n",
      "0: 480x640 6 xs, 222.0ms\n",
      "0: 480x640 6 xs, 307.6ms\n",
      "0: 480x640 7 xs, 334.2ms\n",
      "0: 480x640 9 xs, 352.4ms\n",
      "0: 480x640 6 xs, 338.5ms\n",
      "0: 480x640 8 xs, 329.9ms\n",
      "0: 480x640 5 xs, 327.4ms\n",
      "0: 480x640 9 xs, 320.5ms\n",
      "0: 480x640 8 xs, 333.3ms\n",
      "0: 480x640 8 xs, 322.0ms\n",
      "0: 480x640 9 xs, 319.4ms\n",
      "0: 480x640 8 xs, 386.3ms\n",
      "0: 480x640 11 xs, 338.4ms\n",
      "0: 480x640 9 xs, 337.6ms\n",
      "0: 480x640 7 xs, 329.4ms\n",
      "0: 480x640 7 xs, 340.4ms\n",
      "0: 480x640 8 xs, 328.2ms\n",
      "0: 480x640 8 xs, 332.9ms\n",
      "0: 480x640 7 xs, 330.2ms\n",
      "0: 480x640 9 xs, 335.6ms\n",
      "0: 480x640 7 xs, 331.5ms\n",
      "0: 480x640 8 xs, 322.8ms\n",
      "0: 480x640 8 xs, 336.2ms\n",
      "0: 480x640 7 xs, 329.8ms\n",
      "0: 480x640 11 xs, 323.5ms\n",
      "0: 480x640 8 xs, 339.1ms\n",
      "0: 480x640 6 xs, 333.9ms\n",
      "0: 480x640 6 xs, 353.3ms\n",
      "0: 480x640 6 xs, 337.4ms\n",
      "0: 480x640 4 xs, 336.4ms\n",
      "0: 480x640 1 x, 338.1ms\n",
      "0: 480x640 1 x, 332.4ms\n",
      "0: 480x640 5 xs, 337.3ms\n",
      "0: 480x640 2 xs, 330.6ms\n",
      "0: 480x640 4 xs, 332.1ms\n",
      "0: 480x640 3 xs, 334.0ms\n",
      "0: 480x640 (no detections), 338.5ms\n",
      "0: 480x640 1 x, 328.6ms\n",
      "0: 480x640 1 x, 329.3ms\n",
      "0: 480x640 (no detections), 331.6ms\n",
      "0: 480x640 (no detections), 332.2ms\n",
      "0: 480x640 1 x, 322.1ms\n",
      "0: 480x640 1 x, 318.0ms\n",
      "0: 480x640 (no detections), 339.2ms\n",
      "0: 480x640 1 x, 314.7ms\n",
      "0: 480x640 1 x, 315.7ms\n",
      "0: 480x640 1 x, 325.8ms\n",
      "0: 480x640 1 x, 323.5ms\n",
      "0: 480x640 3 xs, 316.9ms\n",
      "0: 480x640 2 xs, 312.2ms\n",
      "0: 480x640 1 x, 315.3ms\n",
      "0: 480x640 1 x, 320.7ms\n",
      "0: 480x640 1 x, 324.4ms\n",
      "0: 480x640 1 x, 333.8ms\n",
      "0: 480x640 1 x, 319.7ms\n",
      "0: 480x640 1 x, 322.9ms\n",
      "0: 480x640 1 x, 319.2ms\n",
      "0: 480x640 1 x, 327.5ms\n",
      "0: 480x640 1 x, 331.8ms\n",
      "0: 480x640 1 x, 326.2ms\n",
      "0: 480x640 1 x, 333.3ms\n",
      "0: 480x640 1 x, 333.2ms\n",
      "0: 480x640 1 x, 327.2ms\n",
      "0: 480x640 1 x, 331.8ms\n",
      "0: 480x640 1 x, 332.9ms\n",
      "0: 480x640 1 x, 324.1ms\n",
      "0: 480x640 1 x, 336.9ms\n",
      "0: 480x640 1 x, 321.4ms\n",
      "0: 480x640 1 x, 338.3ms\n",
      "0: 480x640 1 x, 328.0ms\n",
      "0: 480x640 1 x, 334.1ms\n",
      "0: 480x640 2 xs, 335.8ms\n",
      "0: 480x640 1 x, 332.2ms\n",
      "0: 480x640 1 x, 326.7ms\n",
      "0: 480x640 1 x, 320.3ms\n",
      "0: 480x640 1 x, 318.2ms\n",
      "0: 480x640 1 x, 314.0ms\n",
      "0: 480x640 1 x, 316.6ms\n",
      "0: 480x640 1 x, 308.3ms\n",
      "0: 480x640 1 x, 310.2ms\n",
      "0: 480x640 1 x, 323.5ms\n",
      "0: 480x640 1 x, 321.1ms\n",
      "0: 480x640 1 x, 319.0ms\n",
      "0: 480x640 1 x, 319.8ms\n",
      "0: 480x640 2 xs, 335.9ms\n",
      "0: 480x640 5 xs, 350.5ms\n",
      "0: 480x640 4 xs, 337.5ms\n",
      "0: 480x640 3 xs, 343.5ms\n",
      "0: 480x640 4 xs, 344.5ms\n",
      "0: 480x640 4 xs, 336.9ms\n",
      "0: 480x640 4 xs, 336.9ms\n",
      "0: 480x640 5 xs, 333.9ms\n",
      "0: 480x640 4 xs, 322.4ms\n",
      "0: 480x640 4 xs, 305.4ms\n",
      "0: 480x640 4 xs, 295.8ms\n",
      "0: 480x640 4 xs, 327.1ms\n",
      "0: 480x640 4 xs, 308.3ms\n",
      "0: 480x640 4 xs, 299.7ms\n",
      "0: 480x640 2 xs, 327.8ms\n",
      "0: 480x640 1 x, 326.6ms\n",
      "0: 480x640 1 x, 316.9ms\n",
      "0: 480x640 2 xs, 291.6ms\n",
      "0: 480x640 1 x, 302.9ms\n",
      "0: 480x640 1 x, 302.8ms\n",
      "0: 480x640 1 x, 297.3ms\n",
      "0: 480x640 1 x, 301.2ms\n",
      "0: 480x640 1 x, 308.2ms\n",
      "0: 480x640 2 xs, 315.4ms\n",
      "0: 480x640 2 xs, 303.9ms\n",
      "0: 480x640 1 x, 305.4ms\n",
      "0: 480x640 1 x, 329.9ms\n",
      "0: 480x640 1 x, 328.2ms\n",
      "0: 480x640 1 x, 312.8ms\n",
      "0: 480x640 1 x, 326.5ms\n",
      "0: 480x640 1 x, 323.7ms\n",
      "0: 480x640 2 xs, 301.0ms\n",
      "0: 480x640 2 xs, 318.3ms\n",
      "0: 480x640 1 x, 311.4ms\n",
      "0: 480x640 1 x, 333.3ms\n",
      "0: 480x640 1 x, 332.1ms\n",
      "0: 480x640 1 x, 310.7ms\n",
      "0: 480x640 1 x, 299.9ms\n",
      "0: 480x640 1 x, 328.9ms\n",
      "0: 480x640 1 x, 333.9ms\n",
      "0: 480x640 1 x, 333.2ms\n",
      "0: 480x640 1 x, 309.0ms\n",
      "0: 480x640 1 x, 299.3ms\n",
      "0: 480x640 1 x, 305.7ms\n",
      "0: 480x640 1 x, 301.2ms\n",
      "0: 480x640 1 x, 298.2ms\n",
      "0: 480x640 1 x, 294.5ms\n",
      "0: 480x640 1 x, 296.3ms\n",
      "0: 480x640 1 x, 294.7ms\n",
      "0: 480x640 1 x, 302.4ms\n",
      "0: 480x640 1 x, 302.3ms\n",
      "0: 480x640 1 x, 303.0ms\n",
      "0: 480x640 1 x, 310.8ms\n",
      "0: 480x640 1 x, 294.2ms\n",
      "0: 480x640 1 x, 291.4ms\n",
      "0: 480x640 1 x, 305.9ms\n",
      "0: 480x640 1 x, 318.5ms\n",
      "0: 480x640 1 x, 300.8ms\n",
      "0: 480x640 1 x, 297.0ms\n",
      "0: 480x640 1 x, 300.8ms\n",
      "0: 480x640 1 x, 306.4ms\n",
      "0: 480x640 1 x, 304.1ms\n",
      "0: 480x640 1 x, 1 o, 305.9ms\n",
      "0: 480x640 1 x, 296.0ms\n",
      "0: 480x640 1 x, 295.7ms\n",
      "0: 480x640 1 x, 298.5ms\n",
      "0: 480x640 1 x, 315.3ms\n",
      "0: 480x640 5 xs, 1 o, 297.8ms\n",
      "0: 480x640 5 xs, 298.9ms\n",
      "0: 480x640 5 xs, 295.3ms\n",
      "0: 480x640 6 xs, 303.7ms\n",
      "0: 480x640 3 xs, 312.9ms\n",
      "0: 480x640 5 xs, 317.6ms\n",
      "0: 480x640 5 xs, 309.1ms\n",
      "0: 480x640 4 xs, 295.3ms\n",
      "0: 480x640 7 xs, 300.8ms\n",
      "0: 480x640 4 xs, 313.5ms\n",
      "0: 480x640 5 xs, 276.5ms\n",
      "0: 480x640 4 xs, 285.3ms\n",
      "0: 480x640 2 xs, 277.0ms\n",
      "0: 480x640 4 xs, 305.6ms\n",
      "0: 480x640 4 xs, 278.3ms\n",
      "0: 480x640 5 xs, 287.3ms\n",
      "0: 480x640 5 xs, 273.4ms\n",
      "0: 480x640 5 xs, 294.0ms\n",
      "0: 480x640 5 xs, 290.6ms\n",
      "0: 480x640 6 xs, 283.7ms\n",
      "0: 480x640 5 xs, 277.8ms\n",
      "0: 480x640 5 xs, 284.8ms\n",
      "0: 480x640 6 xs, 291.9ms\n",
      "0: 480x640 7 xs, 279.4ms\n",
      "0: 480x640 6 xs, 279.0ms\n",
      "0: 480x640 7 xs, 309.0ms\n",
      "0: 480x640 6 xs, 290.8ms\n",
      "0: 480x640 8 xs, 277.0ms\n",
      "0: 480x640 7 xs, 280.5ms\n",
      "0: 480x640 6 xs, 276.6ms\n",
      "0: 480x640 7 xs, 271.1ms\n",
      "0: 480x640 9 xs, 282.1ms\n",
      "0: 480x640 8 xs, 283.0ms\n",
      "0: 480x640 8 xs, 280.1ms\n",
      "0: 480x640 8 xs, 290.2ms\n",
      "0: 480x640 8 xs, 298.6ms\n",
      "0: 480x640 7 xs, 282.9ms\n",
      "0: 480x640 8 xs, 271.0ms\n",
      "0: 480x640 9 xs, 300.0ms\n",
      "0: 480x640 8 xs, 276.5ms\n",
      "0: 480x640 7 xs, 279.9ms\n",
      "0: 480x640 9 xs, 273.9ms\n",
      "0: 480x640 9 xs, 288.9ms\n",
      "0: 480x640 8 xs, 276.2ms\n",
      "0: 480x640 7 xs, 273.8ms\n",
      "0: 480x640 9 xs, 278.8ms\n",
      "0: 480x640 9 xs, 284.5ms\n",
      "0: 480x640 7 xs, 284.0ms\n",
      "0: 480x640 9 xs, 285.9ms\n",
      "0: 480x640 8 xs, 301.7ms\n",
      "0: 480x640 8 xs, 299.9ms\n",
      "0: 480x640 8 xs, 275.2ms\n",
      "0: 480x640 7 xs, 280.6ms\n",
      "0: 480x640 7 xs, 280.2ms\n",
      "0: 480x640 7 xs, 284.1ms\n",
      "0: 480x640 8 xs, 278.2ms\n",
      "0: 480x640 9 xs, 280.5ms\n",
      "0: 480x640 8 xs, 285.2ms\n",
      "0: 480x640 8 xs, 281.6ms\n",
      "0: 480x640 8 xs, 270.1ms\n",
      "0: 480x640 8 xs, 282.3ms\n",
      "0: 480x640 8 xs, 299.4ms\n",
      "0: 480x640 9 xs, 333.1ms\n",
      "0: 480x640 8 xs, 296.0ms\n",
      "0: 480x640 7 xs, 279.4ms\n",
      "0: 480x640 6 xs, 275.1ms\n",
      "0: 480x640 4 xs, 278.2ms\n",
      "0: 480x640 3 xs, 274.8ms\n",
      "0: 480x640 5 xs, 279.1ms\n",
      "0: 480x640 3 xs, 285.0ms\n",
      "0: 480x640 4 xs, 297.4ms\n",
      "0: 480x640 3 xs, 283.2ms\n",
      "0: 480x640 4 xs, 309.9ms\n",
      "0: 480x640 4 xs, 296.9ms\n",
      "0: 480x640 4 xs, 290.4ms\n",
      "0: 480x640 4 xs, 282.9ms\n",
      "0: 480x640 3 xs, 285.2ms\n",
      "0: 480x640 3 xs, 296.4ms\n",
      "0: 480x640 3 xs, 280.8ms\n",
      "0: 480x640 3 xs, 279.8ms\n",
      "0: 480x640 3 xs, 282.9ms\n",
      "0: 480x640 5 xs, 280.2ms\n",
      "0: 480x640 4 xs, 281.8ms\n",
      "0: 480x640 4 xs, 277.7ms\n",
      "0: 480x640 5 xs, 275.4ms\n",
      "0: 480x640 3 xs, 275.9ms\n",
      "0: 480x640 4 xs, 277.2ms\n",
      "0: 480x640 3 xs, 280.0ms\n",
      "0: 480x640 3 xs, 271.2ms\n",
      "0: 480x640 3 xs, 281.1ms\n",
      "0: 480x640 3 xs, 273.1ms\n",
      "0: 480x640 4 xs, 279.2ms\n",
      "0: 480x640 3 xs, 279.8ms\n",
      "0: 480x640 4 xs, 291.4ms\n",
      "0: 480x640 3 xs, 280.4ms\n",
      "0: 480x640 4 xs, 276.5ms\n",
      "0: 480x640 3 xs, 302.9ms\n",
      "0: 480x640 4 xs, 309.2ms\n",
      "0: 480x640 3 xs, 293.5ms\n",
      "0: 480x640 3 xs, 293.2ms\n",
      "0: 480x640 3 xs, 296.6ms\n",
      "0: 480x640 3 xs, 305.8ms\n",
      "0: 480x640 3 xs, 285.5ms\n",
      "0: 480x640 3 xs, 282.4ms\n",
      "0: 480x640 3 xs, 282.1ms\n",
      "0: 480x640 3 xs, 278.7ms\n",
      "0: 480x640 4 xs, 278.9ms\n",
      "0: 480x640 4 xs, 301.3ms\n",
      "0: 480x640 4 xs, 332.7ms\n",
      "0: 480x640 4 xs, 311.0ms\n",
      "0: 480x640 5 xs, 274.5ms\n",
      "0: 480x640 7 xs, 283.4ms\n",
      "0: 480x640 8 xs, 300.7ms\n",
      "0: 480x640 7 xs, 284.9ms\n",
      "0: 480x640 4 xs, 277.3ms\n",
      "0: 480x640 7 xs, 275.5ms\n",
      "0: 480x640 5 xs, 286.1ms\n",
      "0: 480x640 6 xs, 278.9ms\n",
      "0: 480x640 6 xs, 277.0ms\n",
      "0: 480x640 4 xs, 277.5ms\n",
      "0: 480x640 4 xs, 272.8ms\n",
      "0: 480x640 5 xs, 281.4ms\n",
      "0: 480x640 4 xs, 312.5ms\n",
      "0: 480x640 5 xs, 301.3ms\n",
      "0: 480x640 4 xs, 277.4ms\n",
      "0: 480x640 5 xs, 269.0ms\n",
      "0: 480x640 5 xs, 283.5ms\n",
      "0: 480x640 6 xs, 276.2ms\n",
      "0: 480x640 5 xs, 281.1ms\n",
      "0: 480x640 6 xs, 280.7ms\n",
      "0: 480x640 6 xs, 276.8ms\n",
      "0: 480x640 6 xs, 289.9ms\n",
      "0: 480x640 5 xs, 284.1ms\n",
      "0: 480x640 4 xs, 303.7ms\n",
      "0: 480x640 5 xs, 313.9ms\n",
      "0: 480x640 5 xs, 296.3ms\n",
      "0: 480x640 4 xs, 285.8ms\n",
      "0: 480x640 6 xs, 268.6ms\n",
      "0: 480x640 5 xs, 277.5ms\n",
      "0: 480x640 3 xs, 283.6ms\n",
      "0: 480x640 5 xs, 277.9ms\n",
      "0: 480x640 6 xs, 276.8ms\n",
      "0: 480x640 6 xs, 299.8ms\n",
      "0: 480x640 4 xs, 310.6ms\n",
      "0: 480x640 5 xs, 297.5ms\n",
      "0: 480x640 5 xs, 276.6ms\n",
      "0: 480x640 5 xs, 288.8ms\n",
      "0: 480x640 5 xs, 284.6ms\n",
      "0: 480x640 5 xs, 280.9ms\n",
      "0: 480x640 5 xs, 293.2ms\n",
      "0: 480x640 5 xs, 279.1ms\n",
      "0: 480x640 5 xs, 276.0ms\n",
      "0: 480x640 5 xs, 274.6ms\n",
      "0: 480x640 5 xs, 271.5ms\n",
      "0: 480x640 4 xs, 282.1ms\n",
      "0: 480x640 5 xs, 305.4ms\n",
      "0: 480x640 6 xs, 313.0ms\n",
      "0: 480x640 4 xs, 308.4ms\n",
      "0: 480x640 6 xs, 299.7ms\n",
      "0: 480x640 4 xs, 304.5ms\n",
      "0: 480x640 5 xs, 310.4ms\n",
      "0: 480x640 5 xs, 307.9ms\n",
      "0: 480x640 5 xs, 280.5ms\n",
      "0: 480x640 5 xs, 310.0ms\n",
      "0: 480x640 5 xs, 310.9ms\n",
      "0: 480x640 6 xs, 296.2ms\n",
      "0: 480x640 6 xs, 283.3ms\n",
      "0: 480x640 5 xs, 283.1ms\n",
      "0: 480x640 6 xs, 305.3ms\n",
      "0: 480x640 5 xs, 316.1ms\n",
      "0: 480x640 5 xs, 322.0ms\n",
      "0: 480x640 5 xs, 287.2ms\n",
      "0: 480x640 7 xs, 277.6ms\n",
      "0: 480x640 6 xs, 279.6ms\n",
      "0: 480x640 6 xs, 288.6ms\n",
      "0: 480x640 7 xs, 300.9ms\n",
      "0: 480x640 7 xs, 302.6ms\n",
      "0: 480x640 8 xs, 284.3ms\n",
      "0: 480x640 7 xs, 274.5ms\n",
      "0: 480x640 4 xs, 282.1ms\n",
      "0: 480x640 4 xs, 281.4ms\n",
      "0: 480x640 4 xs, 291.8ms\n",
      "0: 480x640 3 xs, 299.6ms\n",
      "0: 480x640 4 xs, 286.1ms\n",
      "0: 480x640 3 xs, 285.7ms\n",
      "0: 480x640 4 xs, 274.6ms\n",
      "0: 480x640 3 xs, 281.5ms\n",
      "0: 480x640 4 xs, 270.2ms\n",
      "0: 480x640 6 xs, 276.3ms\n",
      "0: 480x640 5 xs, 293.0ms\n",
      "0: 480x640 4 xs, 277.3ms\n",
      "0: 480x640 4 xs, 278.5ms\n",
      "0: 480x640 4 xs, 284.5ms\n",
      "0: 480x640 7 xs, 289.2ms\n",
      "0: 480x640 4 xs, 285.9ms\n",
      "0: 480x640 4 xs, 270.7ms\n",
      "0: 480x640 4 xs, 280.2ms\n",
      "0: 480x640 4 xs, 281.5ms\n",
      "0: 480x640 4 xs, 289.5ms\n",
      "0: 480x640 5 xs, 278.2ms\n",
      "0: 480x640 5 xs, 291.2ms\n",
      "0: 480x640 4 xs, 269.2ms\n",
      "0: 480x640 5 xs, 280.6ms\n",
      "0: 480x640 5 xs, 278.8ms\n",
      "0: 480x640 4 xs, 282.4ms\n",
      "0: 480x640 5 xs, 277.0ms\n",
      "0: 480x640 4 xs, 273.5ms\n",
      "0: 480x640 4 xs, 281.7ms\n",
      "0: 480x640 5 xs, 315.3ms\n",
      "0: 480x640 5 xs, 303.8ms\n",
      "0: 480x640 4 xs, 279.2ms\n",
      "0: 480x640 8 xs, 291.7ms\n",
      "0: 480x640 5 xs, 353.0ms\n",
      "0: 480x640 8 xs, 297.4ms\n",
      "0: 480x640 6 xs, 302.8ms\n",
      "0: 480x640 6 xs, 331.8ms\n",
      "0: 480x640 7 xs, 312.0ms\n",
      "0: 480x640 5 xs, 279.3ms\n",
      "0: 480x640 4 xs, 282.7ms\n",
      "0: 480x640 4 xs, 310.1ms\n",
      "0: 480x640 3 xs, 302.2ms\n",
      "0: 480x640 3 xs, 332.5ms\n",
      "0: 480x640 4 xs, 307.6ms\n",
      "0: 480x640 5 xs, 277.7ms\n",
      "0: 480x640 5 xs, 294.6ms\n",
      "0: 480x640 3 xs, 284.9ms\n",
      "0: 480x640 5 xs, 277.3ms\n",
      "0: 480x640 3 xs, 280.9ms\n",
      "0: 480x640 4 xs, 283.5ms\n",
      "0: 480x640 5 xs, 283.2ms\n",
      "0: 480x640 4 xs, 282.2ms\n",
      "0: 480x640 4 xs, 276.8ms\n",
      "0: 480x640 4 xs, 278.2ms\n",
      "0: 480x640 4 xs, 275.3ms\n",
      "0: 480x640 4 xs, 293.0ms\n",
      "0: 480x640 4 xs, 287.5ms\n",
      "0: 480x640 4 xs, 295.1ms\n",
      "0: 480x640 4 xs, 313.1ms\n",
      "0: 480x640 4 xs, 274.8ms\n",
      "0: 480x640 4 xs, 274.7ms\n",
      "0: 480x640 3 xs, 281.1ms\n",
      "0: 480x640 4 xs, 286.9ms\n",
      "0: 480x640 3 xs, 271.8ms\n",
      "0: 480x640 3 xs, 273.6ms\n",
      "0: 480x640 5 xs, 303.1ms\n",
      "0: 480x640 5 xs, 273.7ms\n",
      "0: 480x640 6 xs, 282.6ms\n",
      "0: 480x640 4 xs, 289.3ms\n",
      "0: 480x640 5 xs, 285.2ms\n",
      "0: 480x640 6 xs, 283.6ms\n",
      "0: 480x640 6 xs, 278.3ms\n",
      "0: 480x640 7 xs, 277.7ms\n",
      "0: 480x640 6 xs, 319.7ms\n",
      "0: 480x640 6 xs, 322.5ms\n",
      "0: 480x640 4 xs, 313.9ms\n",
      "0: 480x640 4 xs, 285.3ms\n",
      "0: 480x640 3 xs, 287.4ms\n",
      "0: 480x640 7 xs, 289.3ms\n",
      "0: 480x640 4 xs, 284.8ms\n",
      "0: 480x640 5 xs, 288.4ms\n",
      "0: 480x640 4 xs, 283.1ms\n",
      "0: 480x640 3 xs, 303.1ms\n",
      "0: 480x640 3 xs, 298.0ms\n",
      "0: 480x640 3 xs, 309.0ms\n",
      "0: 480x640 4 xs, 298.9ms\n",
      "0: 480x640 3 xs, 298.4ms\n",
      "0: 480x640 3 xs, 314.3ms\n",
      "0: 480x640 3 xs, 307.9ms\n",
      "0: 480x640 3 xs, 302.9ms\n",
      "0: 480x640 3 xs, 295.2ms\n",
      "0: 480x640 3 xs, 285.8ms\n",
      "0: 480x640 3 xs, 273.8ms\n",
      "0: 480x640 3 xs, 294.3ms\n",
      "0: 480x640 3 xs, 276.1ms\n",
      "0: 480x640 3 xs, 289.1ms\n",
      "0: 480x640 1 x, 298.7ms\n",
      "0: 480x640 3 xs, 282.3ms\n",
      "0: 480x640 3 xs, 275.1ms\n",
      "0: 480x640 3 xs, 275.0ms\n",
      "0: 480x640 4 xs, 288.3ms\n",
      "0: 480x640 3 xs, 280.7ms\n",
      "0: 480x640 2 xs, 278.0ms\n",
      "0: 480x640 3 xs, 288.3ms\n",
      "0: 480x640 3 xs, 295.2ms\n",
      "0: 480x640 3 xs, 283.4ms\n",
      "0: 480x640 4 xs, 283.2ms\n",
      "0: 480x640 4 xs, 285.3ms\n",
      "0: 480x640 3 xs, 278.1ms\n",
      "0: 480x640 3 xs, 283.2ms\n",
      "0: 480x640 3 xs, 283.4ms\n",
      "0: 480x640 3 xs, 317.2ms\n",
      "0: 480x640 4 xs, 309.0ms\n",
      "0: 480x640 6 xs, 303.2ms\n",
      "0: 480x640 8 xs, 301.2ms\n",
      "0: 480x640 6 xs, 312.3ms\n",
      "0: 480x640 8 xs, 297.9ms\n",
      "0: 480x640 6 xs, 275.4ms\n",
      "0: 480x640 8 xs, 276.4ms\n",
      "0: 480x640 6 xs, 273.9ms\n",
      "0: 480x640 4 xs, 275.2ms\n",
      "0: 480x640 3 xs, 272.5ms\n",
      "0: 480x640 4 xs, 276.7ms\n",
      "0: 480x640 3 xs, 288.8ms\n",
      "0: 480x640 3 xs, 274.8ms\n",
      "0: 480x640 4 xs, 288.8ms\n",
      "0: 480x640 4 xs, 282.8ms\n",
      "0: 480x640 4 xs, 280.4ms\n",
      "0: 480x640 4 xs, 310.6ms\n",
      "0: 480x640 5 xs, 297.0ms\n",
      "0: 480x640 4 xs, 303.4ms\n",
      "0: 480x640 4 xs, 282.3ms\n",
      "0: 480x640 4 xs, 271.4ms\n",
      "0: 480x640 3 xs, 289.9ms\n",
      "0: 480x640 3 xs, 275.1ms\n",
      "0: 480x640 4 xs, 288.8ms\n",
      "0: 480x640 4 xs, 279.1ms\n",
      "0: 480x640 3 xs, 274.0ms\n",
      "0: 480x640 3 xs, 284.0ms\n",
      "0: 480x640 3 xs, 293.7ms\n",
      "0: 480x640 3 xs, 271.4ms\n",
      "0: 480x640 2 xs, 280.0ms\n",
      "0: 480x640 3 xs, 282.6ms\n",
      "0: 480x640 2 xs, 280.7ms\n",
      "0: 480x640 4 xs, 272.7ms\n",
      "0: 480x640 5 xs, 294.6ms\n",
      "0: 480x640 4 xs, 292.1ms\n",
      "0: 480x640 4 xs, 276.4ms\n",
      "0: 480x640 6 xs, 272.2ms\n",
      "0: 480x640 6 xs, 288.3ms\n",
      "0: 480x640 6 xs, 325.3ms\n",
      "0: 480x640 7 xs, 310.3ms\n",
      "0: 480x640 5 xs, 287.5ms\n",
      "0: 480x640 4 xs, 280.9ms\n",
      "0: 480x640 5 xs, 310.2ms\n",
      "0: 480x640 4 xs, 303.7ms\n",
      "0: 480x640 3 xs, 306.4ms\n",
      "0: 480x640 5 xs, 291.7ms\n",
      "0: 480x640 6 xs, 271.2ms\n",
      "0: 480x640 6 xs, 281.4ms\n",
      "0: 480x640 5 xs, 280.9ms\n",
      "0: 480x640 5 xs, 275.3ms\n",
      "0: 480x640 6 xs, 282.7ms\n",
      "0: 480x640 6 xs, 276.7ms\n",
      "0: 480x640 8 xs, 288.0ms\n",
      "0: 480x640 5 xs, 276.0ms\n",
      "0: 480x640 4 xs, 284.3ms\n",
      "0: 480x640 3 xs, 278.3ms\n",
      "0: 480x640 4 xs, 276.4ms\n",
      "0: 480x640 3 xs, 277.3ms\n",
      "0: 480x640 4 xs, 278.5ms\n",
      "0: 480x640 4 xs, 308.4ms\n",
      "0: 480x640 4 xs, 304.2ms\n",
      "0: 480x640 4 xs, 281.4ms\n",
      "0: 480x640 4 xs, 283.7ms\n",
      "0: 480x640 4 xs, 278.0ms\n",
      "0: 480x640 3 xs, 282.6ms\n",
      "0: 480x640 4 xs, 280.4ms\n",
      "0: 480x640 5 xs, 290.9ms\n",
      "0: 480x640 4 xs, 318.5ms\n",
      "0: 480x640 4 xs, 303.0ms\n",
      "0: 480x640 4 xs, 314.1ms\n",
      "0: 480x640 4 xs, 310.7ms\n",
      "0: 480x640 4 xs, 325.9ms\n",
      "0: 480x640 4 xs, 299.1ms\n",
      "0: 480x640 3 xs, 300.1ms\n",
      "0: 480x640 4 xs, 289.3ms\n",
      "0: 480x640 4 xs, 297.6ms\n",
      "0: 480x640 4 xs, 309.8ms\n",
      "0: 480x640 4 xs, 302.0ms\n",
      "0: 480x640 5 xs, 301.8ms\n",
      "0: 480x640 3 xs, 303.8ms\n",
      "0: 480x640 4 xs, 307.4ms\n",
      "0: 480x640 5 xs, 300.3ms\n",
      "0: 480x640 4 xs, 312.6ms\n",
      "0: 480x640 5 xs, 303.1ms\n",
      "0: 480x640 4 xs, 313.8ms\n",
      "0: 480x640 4 xs, 314.6ms\n",
      "0: 480x640 3 xs, 314.1ms\n",
      "0: 480x640 4 xs, 306.3ms\n",
      "0: 480x640 4 xs, 307.1ms\n",
      "0: 480x640 4 xs, 297.8ms\n",
      "0: 480x640 4 xs, 301.2ms\n",
      "0: 480x640 6 xs, 308.7ms\n",
      "0: 480x640 5 xs, 306.2ms\n",
      "0: 480x640 5 xs, 319.4ms\n",
      "0: 480x640 3 xs, 297.8ms\n",
      "0: 480x640 3 xs, 306.5ms\n",
      "0: 480x640 1 x, 308.3ms\n",
      "0: 480x640 2 xs, 298.3ms\n",
      "0: 480x640 2 xs, 301.8ms\n",
      "0: 480x640 3 xs, 294.9ms\n",
      "0: 480x640 2 xs, 299.9ms\n",
      "0: 480x640 2 xs, 304.0ms\n",
      "0: 480x640 2 xs, 298.0ms\n",
      "0: 480x640 2 xs, 296.9ms\n",
      "0: 480x640 4 xs, 308.7ms\n",
      "0: 480x640 6 xs, 305.7ms\n",
      "0: 480x640 4 xs, 303.0ms\n",
      "0: 480x640 5 xs, 308.5ms\n",
      "0: 480x640 3 xs, 295.8ms\n",
      "0: 480x640 2 xs, 300.5ms\n",
      "0: 480x640 1 x, 304.9ms\n",
      "0: 480x640 2 xs, 291.7ms\n",
      "0: 480x640 2 xs, 1 o, 291.6ms\n",
      "0: 480x640 3 xs, 309.7ms\n",
      "0: 480x640 3 xs, 315.4ms\n",
      "0: 480x640 4 xs, 300.6ms\n",
      "0: 480x640 5 xs, 318.7ms\n",
      "0: 480x640 6 xs, 294.9ms\n",
      "0: 480x640 3 xs, 297.9ms\n",
      "0: 480x640 1 x, 321.6ms\n",
      "0: 480x640 1 x, 299.0ms\n",
      "0: 480x640 1 x, 290.4ms\n",
      "0: 480x640 1 x, 277.8ms\n",
      "0: 480x640 1 x, 284.1ms\n",
      "0: 480x640 1 x, 292.6ms\n",
      "0: 480x640 3 xs, 295.4ms\n",
      "0: 480x640 1 x, 285.8ms\n",
      "0: 480x640 1 x, 280.2ms\n",
      "0: 480x640 1 x, 271.0ms\n",
      "0: 480x640 1 x, 295.8ms\n",
      "0: 480x640 1 x, 274.7ms\n",
      "0: 480x640 1 x, 299.9ms\n",
      "0: 480x640 1 x, 319.8ms\n",
      "0: 480x640 1 x, 312.2ms\n",
      "0: 480x640 1 x, 300.9ms\n",
      "0: 480x640 1 x, 286.2ms\n",
      "0: 480x640 1 x, 301.0ms\n",
      "0: 480x640 (no detections), 291.9ms\n",
      "0: 480x640 (no detections), 294.8ms\n",
      "0: 480x640 (no detections), 293.5ms\n",
      "0: 480x640 (no detections), 285.2ms\n",
      "0: 480x640 (no detections), 277.7ms\n",
      "0: 480x640 (no detections), 274.8ms\n",
      "0: 480x640 (no detections), 276.7ms\n",
      "0: 480x640 (no detections), 274.5ms\n",
      "0: 480x640 (no detections), 279.4ms\n",
      "0: 480x640 (no detections), 279.6ms\n",
      "0: 480x640 (no detections), 275.9ms\n",
      "0: 480x640 (no detections), 278.8ms\n",
      "0: 480x640 (no detections), 327.8ms\n",
      "0: 480x640 (no detections), 284.0ms\n",
      "0: 480x640 (no detections), 276.5ms\n",
      "0: 480x640 1 x, 281.0ms\n",
      "0: 480x640 1 x, 286.8ms\n",
      "0: 480x640 1 x, 285.5ms\n",
      "0: 480x640 1 x, 279.5ms\n",
      "0: 480x640 1 x, 307.7ms\n",
      "0: 480x640 2 xs, 307.5ms\n",
      "0: 480x640 3 xs, 306.8ms\n",
      "0: 480x640 5 xs, 279.6ms\n",
      "0: 480x640 2 xs, 274.1ms\n",
      "0: 480x640 2 xs, 275.5ms\n",
      "0: 480x640 1 x, 281.7ms\n",
      "0: 480x640 1 x, 298.3ms\n",
      "0: 480x640 1 x, 285.7ms\n",
      "0: 480x640 1 x, 1 o, 292.8ms\n",
      "0: 480x640 1 x, 277.3ms\n",
      "0: 480x640 1 x, 276.2ms\n",
      "0: 480x640 1 x, 297.9ms\n",
      "0: 480x640 1 x, 292.5ms\n",
      "0: 480x640 1 x, 1 o, 318.6ms\n",
      "0: 480x640 1 x, 294.2ms\n",
      "0: 480x640 1 x, 296.9ms\n",
      "0: 480x640 1 x, 279.3ms\n",
      "0: 480x640 1 x, 290.6ms\n",
      "0: 480x640 1 x, 277.8ms\n",
      "0: 480x640 (no detections), 277.1ms\n",
      "0: 480x640 (no detections), 276.6ms\n",
      "0: 480x640 (no detections), 286.1ms\n",
      "0: 480x640 (no detections), 273.5ms\n",
      "0: 480x640 (no detections), 276.8ms\n",
      "0: 480x640 (no detections), 287.1ms\n",
      "0: 480x640 (no detections), 276.9ms\n",
      "0: 480x640 (no detections), 303.1ms\n",
      "0: 480x640 (no detections), 278.4ms\n",
      "0: 480x640 (no detections), 271.9ms\n",
      "0: 480x640 (no detections), 273.9ms\n",
      "0: 480x640 (no detections), 274.1ms\n",
      "0: 480x640 (no detections), 279.5ms\n",
      "0: 480x640 (no detections), 276.8ms\n",
      "0: 480x640 (no detections), 279.1ms\n",
      "0: 480x640 1 x, 287.7ms\n",
      "0: 480x640 1 x, 324.4ms\n",
      "0: 480x640 1 x, 327.4ms\n",
      "0: 480x640 1 x, 314.3ms\n",
      "0: 480x640 1 x, 319.3ms\n",
      "0: 480x640 1 x, 1 o, 311.5ms\n",
      "0: 480x640 1 x, 316.0ms\n",
      "0: 480x640 1 x, 297.8ms\n",
      "0: 480x640 3 xs, 299.7ms\n",
      "0: 480x640 1 x, 295.3ms\n",
      "0: 480x640 3 xs, 299.3ms\n",
      "0: 480x640 1 x, 292.7ms\n",
      "0: 480x640 2 xs, 294.4ms\n",
      "0: 480x640 2 xs, 295.6ms\n",
      "0: 480x640 2 xs, 298.2ms\n",
      "0: 480x640 2 xs, 287.3ms\n",
      "0: 480x640 2 xs, 290.9ms\n",
      "0: 480x640 3 xs, 289.6ms\n",
      "0: 480x640 3 xs, 295.6ms\n",
      "0: 480x640 3 xs, 295.1ms\n",
      "0: 480x640 3 xs, 294.5ms\n",
      "0: 480x640 3 xs, 308.3ms\n",
      "0: 480x640 3 xs, 288.4ms\n",
      "0: 480x640 3 xs, 276.8ms\n",
      "0: 480x640 3 xs, 277.5ms\n",
      "0: 480x640 3 xs, 295.8ms\n",
      "0: 480x640 3 xs, 280.3ms\n",
      "0: 480x640 3 xs, 277.4ms\n",
      "0: 480x640 3 xs, 276.8ms\n",
      "0: 480x640 3 xs, 283.4ms\n",
      "0: 480x640 3 xs, 283.3ms\n",
      "0: 480x640 3 xs, 283.1ms\n",
      "0: 480x640 3 xs, 276.4ms\n",
      "0: 480x640 3 xs, 280.2ms\n",
      "0: 480x640 3 xs, 277.3ms\n",
      "0: 480x640 3 xs, 284.2ms\n",
      "0: 480x640 3 xs, 280.5ms\n",
      "0: 480x640 3 xs, 295.8ms\n",
      "0: 480x640 3 xs, 272.6ms\n",
      "0: 480x640 3 xs, 287.7ms\n",
      "0: 480x640 3 xs, 282.4ms\n",
      "0: 480x640 3 xs, 275.1ms\n",
      "0: 480x640 3 xs, 280.9ms\n",
      "0: 480x640 3 xs, 288.6ms\n",
      "0: 480x640 4 xs, 282.8ms\n",
      "0: 480x640 4 xs, 280.7ms\n",
      "0: 480x640 3 xs, 288.7ms\n",
      "0: 480x640 3 xs, 279.9ms\n",
      "0: 480x640 3 xs, 279.0ms\n",
      "0: 480x640 3 xs, 281.5ms\n",
      "0: 480x640 4 xs, 280.9ms\n",
      "0: 480x640 3 xs, 284.8ms\n",
      "0: 480x640 3 xs, 279.1ms\n",
      "0: 480x640 3 xs, 273.5ms\n",
      "0: 480x640 3 xs, 290.3ms\n",
      "0: 480x640 3 xs, 273.9ms\n",
      "0: 480x640 3 xs, 278.1ms\n",
      "0: 480x640 3 xs, 272.2ms\n",
      "0: 480x640 3 xs, 276.2ms\n",
      "0: 480x640 3 xs, 278.9ms\n",
      "0: 480x640 7 xs, 277.5ms\n",
      "0: 480x640 7 xs, 281.2ms\n",
      "0: 480x640 7 xs, 276.0ms\n",
      "0: 480x640 6 xs, 283.5ms\n",
      "0: 480x640 6 xs, 289.1ms\n",
      "0: 480x640 2 xs, 289.6ms\n",
      "0: 480x640 2 xs, 292.7ms\n",
      "0: 480x640 4 xs, 271.4ms\n",
      "0: 480x640 2 xs, 270.7ms\n",
      "0: 480x640 6 xs, 273.5ms\n",
      "0: 480x640 5 xs, 272.0ms\n",
      "0: 480x640 8 xs, 285.9ms\n",
      "0: 480x640 8 xs, 272.7ms\n",
      "0: 480x640 5 xs, 279.5ms\n",
      "0: 480x640 4 xs, 279.6ms\n",
      "0: 480x640 4 xs, 279.7ms\n",
      "0: 480x640 4 xs, 289.6ms\n",
      "0: 480x640 3 xs, 274.2ms\n",
      "0: 480x640 2 xs, 277.9ms\n",
      "0: 480x640 3 xs, 280.2ms\n",
      "0: 480x640 3 xs, 283.5ms\n",
      "0: 480x640 3 xs, 274.6ms\n",
      "0: 480x640 (no detections), 283.3ms\n",
      "0: 480x640 4 xs, 270.2ms\n",
      "0: 480x640 3 xs, 276.1ms\n",
      "0: 480x640 3 xs, 286.9ms\n",
      "0: 480x640 4 xs, 277.7ms\n",
      "0: 480x640 5 xs, 282.2ms\n",
      "0: 480x640 5 xs, 280.8ms\n",
      "0: 480x640 5 xs, 298.7ms\n",
      "0: 480x640 5 xs, 320.7ms\n",
      "0: 480x640 6 xs, 284.4ms\n",
      "0: 480x640 5 xs, 317.8ms\n",
      "0: 480x640 4 xs, 281.6ms\n",
      "0: 480x640 1 x, 279.5ms\n",
      "0: 480x640 4 xs, 276.0ms\n",
      "0: 480x640 3 xs, 279.2ms\n",
      "0: 480x640 1 x, 280.2ms\n",
      "0: 480x640 (no detections), 276.8ms\n",
      "0: 480x640 1 x, 274.1ms\n",
      "0: 480x640 7 xs, 276.2ms\n",
      "0: 480x640 4 xs, 273.6ms\n",
      "0: 480x640 10 xs, 274.1ms\n",
      "0: 480x640 14 xs, 277.3ms\n",
      "0: 480x640 15 xs, 285.4ms\n",
      "0: 480x640 21 xs, 285.6ms\n",
      "0: 480x640 20 xs, 294.6ms\n",
      "0: 480x640 13 xs, 287.2ms\n",
      "0: 480x640 6 xs, 274.1ms\n",
      "0: 480x640 16 xs, 280.2ms\n",
      "0: 480x640 9 xs, 277.9ms\n",
      "0: 480x640 9 xs, 276.0ms\n",
      "0: 480x640 9 xs, 289.7ms\n",
      "0: 480x640 10 xs, 278.6ms\n",
      "0: 480x640 11 xs, 274.9ms\n",
      "0: 480x640 13 xs, 282.1ms\n",
      "0: 480x640 7 xs, 281.7ms\n",
      "0: 480x640 6 xs, 283.1ms\n",
      "0: 480x640 17 xs, 277.4ms\n",
      "0: 480x640 28 xs, 281.0ms\n",
      "0: 480x640 18 xs, 283.0ms\n",
      "0: 480x640 14 xs, 280.2ms\n",
      "0: 480x640 14 xs, 282.2ms\n",
      "0: 480x640 12 xs, 274.1ms\n",
      "0: 480x640 13 xs, 275.3ms\n",
      "0: 480x640 13 xs, 284.3ms\n",
      "0: 480x640 7 xs, 281.8ms\n",
      "0: 480x640 5 xs, 278.7ms\n",
      "0: 480x640 6 xs, 275.6ms\n",
      "0: 480x640 (no detections), 281.3ms\n",
      "0: 480x640 (no detections), 276.0ms\n",
      "0: 480x640 1 x, 286.4ms\n",
      "0: 480x640 6 xs, 277.1ms\n",
      "0: 480x640 (no detections), 273.5ms\n",
      "0: 480x640 5 xs, 270.9ms\n",
      "0: 480x640 (no detections), 284.2ms\n",
      "0: 480x640 4 xs, 275.0ms\n",
      "0: 480x640 4 xs, 277.7ms\n",
      "0: 480x640 6 xs, 278.0ms\n",
      "0: 480x640 4 xs, 284.9ms\n",
      "0: 480x640 3 xs, 273.9ms\n",
      "0: 480x640 3 xs, 300.3ms\n",
      "0: 480x640 3 xs, 289.7ms\n",
      "0: 480x640 4 xs, 300.2ms\n",
      "0: 480x640 3 xs, 282.1ms\n",
      "0: 480x640 3 xs, 282.7ms\n",
      "0: 480x640 2 xs, 275.8ms\n",
      "0: 480x640 2 xs, 281.0ms\n",
      "0: 480x640 2 xs, 278.9ms\n",
      "0: 480x640 2 xs, 270.4ms\n",
      "0: 480x640 3 xs, 277.7ms\n",
      "0: 480x640 3 xs, 282.9ms\n",
      "0: 480x640 3 xs, 272.7ms\n",
      "0: 480x640 3 xs, 274.4ms\n",
      "0: 480x640 3 xs, 271.4ms\n",
      "0: 480x640 3 xs, 284.8ms\n",
      "0: 480x640 3 xs, 282.3ms\n",
      "0: 480x640 3 xs, 281.2ms\n",
      "0: 480x640 3 xs, 318.2ms\n",
      "0: 480x640 2 xs, 302.5ms\n",
      "0: 480x640 2 xs, 287.9ms\n",
      "0: 480x640 5 xs, 272.7ms\n",
      "0: 480x640 7 xs, 278.2ms\n",
      "0: 480x640 9 xs, 281.6ms\n",
      "0: 480x640 8 xs, 277.8ms\n",
      "0: 480x640 8 xs, 283.0ms\n",
      "0: 480x640 11 xs, 283.3ms\n",
      "0: 480x640 8 xs, 284.0ms\n",
      "0: 480x640 8 xs, 1 o, 279.1ms\n",
      "0: 480x640 7 xs, 1 o, 277.5ms\n",
      "0: 480x640 6 xs, 277.3ms\n",
      "0: 480x640 7 xs, 281.7ms\n",
      "0: 480x640 5 xs, 1 o, 282.5ms\n",
      "0: 480x640 8 xs, 281.5ms\n",
      "0: 480x640 9 xs, 283.5ms\n",
      "0: 480x640 7 xs, 280.8ms\n",
      "0: 480x640 7 xs, 275.3ms\n",
      "0: 480x640 6 xs, 274.6ms\n",
      "0: 480x640 7 xs, 277.9ms\n",
      "0: 480x640 8 xs, 275.1ms\n",
      "0: 480x640 7 xs, 280.3ms\n",
      "0: 480x640 9 xs, 274.1ms\n",
      "0: 480x640 7 xs, 1 o, 281.3ms\n",
      "0: 480x640 8 xs, 1 o, 283.8ms\n",
      "0: 480x640 6 xs, 2 os, 285.7ms\n",
      "0: 480x640 6 xs, 1 o, 284.5ms\n",
      "0: 480x640 5 xs, 1 o, 277.5ms\n",
      "0: 480x640 7 xs, 284.0ms\n",
      "0: 480x640 5 xs, 276.7ms\n",
      "0: 480x640 6 xs, 1 o, 282.8ms\n",
      "0: 480x640 11 xs, 279.6ms\n",
      "0: 480x640 12 xs, 278.1ms\n",
      "0: 480x640 10 xs, 272.1ms\n",
      "0: 480x640 10 xs, 269.5ms\n",
      "0: 480x640 11 xs, 1 o, 284.8ms\n",
      "0: 480x640 11 xs, 3 os, 278.3ms\n",
      "0: 480x640 11 xs, 3 os, 272.0ms\n",
      "0: 480x640 9 xs, 3 os, 280.5ms\n",
      "0: 480x640 8 xs, 3 os, 295.7ms\n",
      "0: 480x640 7 xs, 5 os, 341.3ms\n",
      "0: 480x640 10 xs, 3 os, 331.8ms\n",
      "0: 480x640 9 xs, 4 os, 323.5ms\n",
      "0: 480x640 9 xs, 4 os, 328.5ms\n",
      "0: 480x640 7 xs, 4 os, 318.5ms\n",
      "0: 480x640 8 xs, 4 os, 325.9ms\n",
      "0: 480x640 8 xs, 4 os, 325.9ms\n",
      "0: 480x640 7 xs, 4 os, 314.9ms\n",
      "0: 480x640 9 xs, 3 os, 302.2ms\n",
      "0: 480x640 8 xs, 2 os, 296.7ms\n",
      "0: 480x640 6 xs, 2 os, 291.6ms\n",
      "0: 480x640 9 xs, 3 os, 307.5ms\n",
      "0: 480x640 9 xs, 3 os, 273.5ms\n",
      "0: 480x640 9 xs, 2 os, 285.4ms\n",
      "0: 480x640 9 xs, 2 os, 279.5ms\n",
      "0: 480x640 8 xs, 1 o, 288.6ms\n",
      "0: 480x640 7 xs, 2 os, 273.0ms\n",
      "0: 480x640 8 xs, 2 os, 279.7ms\n",
      "0: 480x640 8 xs, 2 os, 286.2ms\n",
      "0: 480x640 11 xs, 2 os, 307.2ms\n",
      "0: 480x640 12 xs, 3 os, 302.8ms\n",
      "0: 480x640 9 xs, 3 os, 292.4ms\n",
      "0: 480x640 8 xs, 2 os, 311.0ms\n",
      "0: 480x640 9 xs, 2 os, 282.5ms\n",
      "0: 480x640 9 xs, 2 os, 285.5ms\n",
      "0: 480x640 11 xs, 1 o, 273.7ms\n",
      "0: 480x640 12 xs, 1 o, 275.0ms\n",
      "0: 480x640 10 xs, 1 o, 278.2ms\n",
      "0: 480x640 9 xs, 3 os, 276.8ms\n",
      "0: 480x640 8 xs, 3 os, 279.3ms\n",
      "0: 480x640 7 xs, 3 os, 285.2ms\n",
      "0: 480x640 7 xs, 3 os, 279.8ms\n",
      "0: 480x640 7 xs, 2 os, 277.8ms\n",
      "0: 480x640 8 xs, 2 os, 283.0ms\n",
      "0: 480x640 6 xs, 3 os, 273.9ms\n",
      "0: 480x640 6 xs, 2 os, 281.7ms\n",
      "0: 480x640 7 xs, 2 os, 278.0ms\n",
      "0: 480x640 8 xs, 2 os, 285.8ms\n",
      "0: 480x640 8 xs, 2 os, 296.0ms\n",
      "0: 480x640 7 xs, 2 os, 273.6ms\n",
      "0: 480x640 9 xs, 3 os, 278.5ms\n",
      "0: 480x640 7 xs, 3 os, 278.0ms\n",
      "0: 480x640 9 xs, 3 os, 277.0ms\n",
      "0: 480x640 8 xs, 3 os, 280.9ms\n",
      "0: 480x640 8 xs, 3 os, 279.2ms\n",
      "0: 480x640 7 xs, 2 os, 276.8ms\n",
      "0: 480x640 7 xs, 3 os, 277.6ms\n",
      "0: 480x640 7 xs, 2 os, 280.7ms\n",
      "0: 480x640 7 xs, 2 os, 282.0ms\n",
      "0: 480x640 9 xs, 2 os, 284.6ms\n",
      "0: 480x640 9 xs, 3 os, 288.7ms\n",
      "0: 480x640 8 xs, 2 os, 290.4ms\n",
      "0: 480x640 7 xs, 2 os, 278.8ms\n",
      "0: 480x640 7 xs, 2 os, 284.0ms\n",
      "0: 480x640 8 xs, 3 os, 278.3ms\n",
      "0: 480x640 7 xs, 4 os, 279.6ms\n",
      "0: 480x640 8 xs, 3 os, 282.2ms\n",
      "0: 480x640 7 xs, 3 os, 285.5ms\n",
      "0: 480x640 7 xs, 3 os, 281.8ms\n",
      "0: 480x640 8 xs, 3 os, 281.0ms\n",
      "0: 480x640 8 xs, 3 os, 279.2ms\n",
      "0: 480x640 8 xs, 3 os, 276.0ms\n",
      "0: 480x640 10 xs, 2 os, 277.5ms\n",
      "0: 480x640 10 xs, 2 os, 287.5ms\n",
      "0: 480x640 10 xs, 2 os, 277.6ms\n",
      "0: 480x640 8 xs, 2 os, 273.7ms\n",
      "0: 480x640 9 xs, 2 os, 302.0ms\n",
      "0: 480x640 8 xs, 4 os, 278.7ms\n",
      "0: 480x640 7 xs, 3 os, 277.5ms\n",
      "0: 480x640 7 xs, 3 os, 283.5ms\n",
      "0: 480x640 7 xs, 3 os, 277.8ms\n",
      "0: 480x640 7 xs, 2 os, 280.7ms\n",
      "0: 480x640 7 xs, 2 os, 274.4ms\n",
      "0: 480x640 9 xs, 2 os, 283.8ms\n",
      "0: 480x640 9 xs, 2 os, 283.4ms\n",
      "0: 480x640 10 xs, 2 os, 279.5ms\n",
      "0: 480x640 9 xs, 2 os, 283.0ms\n",
      "0: 480x640 8 xs, 2 os, 287.4ms\n",
      "0: 480x640 6 xs, 3 os, 271.5ms\n",
      "0: 480x640 5 xs, 2 os, 279.7ms\n",
      "0: 480x640 8 xs, 2 os, 288.2ms\n",
      "0: 480x640 8 xs, 2 os, 276.5ms\n",
      "0: 480x640 7 xs, 2 os, 290.7ms\n",
      "0: 480x640 7 xs, 3 os, 274.4ms\n",
      "0: 480x640 8 xs, 2 os, 278.1ms\n",
      "0: 480x640 7 xs, 2 os, 276.4ms\n",
      "0: 480x640 9 xs, 2 os, 293.5ms\n",
      "0: 480x640 11 xs, 2 os, 283.7ms\n",
      "0: 480x640 8 xs, 2 os, 288.0ms\n",
      "0: 480x640 8 xs, 2 os, 280.9ms\n",
      "0: 480x640 7 xs, 2 os, 282.1ms\n",
      "0: 480x640 9 xs, 2 os, 314.2ms\n",
      "0: 480x640 6 xs, 338.9ms\n",
      "0: 480x640 5 xs, 280.9ms\n",
      "0: 480x640 (no detections), 279.4ms\n",
      "0: 480x640 (no detections), 284.6ms\n",
      "0: 480x640 1 x, 292.6ms\n",
      "0: 480x640 3 xs, 281.9ms\n",
      "0: 480x640 3 xs, 269.0ms\n",
      "0: 480x640 3 xs, 285.1ms\n",
      "0: 480x640 3 xs, 306.6ms\n",
      "0: 480x640 4 xs, 289.6ms\n",
      "0: 480x640 4 xs, 298.9ms\n",
      "0: 480x640 4 xs, 284.8ms\n",
      "0: 480x640 4 xs, 296.6ms\n",
      "0: 480x640 4 xs, 282.5ms\n",
      "0: 480x640 4 xs, 272.2ms\n",
      "0: 480x640 4 xs, 277.2ms\n",
      "0: 480x640 4 xs, 274.0ms\n",
      "0: 480x640 3 xs, 285.2ms\n",
      "0: 480x640 3 xs, 282.2ms\n",
      "0: 480x640 3 xs, 285.4ms\n",
      "0: 480x640 3 xs, 298.4ms\n",
      "0: 480x640 3 xs, 309.0ms\n",
      "0: 480x640 2 xs, 298.9ms\n",
      "0: 480x640 5 xs, 314.4ms\n",
      "0: 480x640 4 xs, 311.9ms\n",
      "0: 480x640 4 xs, 300.1ms\n",
      "0: 480x640 4 xs, 280.6ms\n",
      "0: 480x640 4 xs, 283.2ms\n",
      "0: 480x640 4 xs, 319.0ms\n",
      "0: 480x640 3 xs, 300.7ms\n",
      "0: 480x640 3 xs, 308.1ms\n",
      "0: 480x640 4 xs, 318.7ms\n",
      "0: 480x640 3 xs, 328.2ms\n",
      "0: 480x640 4 xs, 319.6ms\n",
      "0: 480x640 4 xs, 298.0ms\n",
      "0: 480x640 3 xs, 314.8ms\n",
      "0: 480x640 3 xs, 295.8ms\n",
      "0: 480x640 3 xs, 305.6ms\n",
      "0: 480x640 4 xs, 335.5ms\n",
      "0: 480x640 3 xs, 328.9ms\n",
      "0: 480x640 4 xs, 301.8ms\n",
      "0: 480x640 5 xs, 306.2ms\n",
      "0: 480x640 4 xs, 311.7ms\n",
      "0: 480x640 4 xs, 303.0ms\n",
      "0: 480x640 4 xs, 313.5ms\n",
      "0: 480x640 5 xs, 296.7ms\n",
      "0: 480x640 4 xs, 302.2ms\n",
      "0: 480x640 4 xs, 315.2ms\n",
      "0: 480x640 3 xs, 310.8ms\n",
      "0: 480x640 3 xs, 295.9ms\n",
      "0: 480x640 4 xs, 323.4ms\n",
      "0: 480x640 9 xs, 300.7ms\n",
      "0: 480x640 11 xs, 303.4ms\n",
      "0: 480x640 13 xs, 315.4ms\n",
      "0: 480x640 10 xs, 313.2ms\n",
      "0: 480x640 11 xs, 299.1ms\n",
      "0: 480x640 10 xs, 310.0ms\n",
      "0: 480x640 10 xs, 290.4ms\n",
      "0: 480x640 3 xs, 294.8ms\n",
      "0: 480x640 3 xs, 304.8ms\n",
      "0: 480x640 4 xs, 298.2ms\n",
      "0: 480x640 5 xs, 297.1ms\n",
      "0: 480x640 5 xs, 302.7ms\n",
      "0: 480x640 5 xs, 304.5ms\n",
      "0: 480x640 6 xs, 300.3ms\n",
      "0: 480x640 5 xs, 305.1ms\n",
      "0: 480x640 5 xs, 307.0ms\n",
      "0: 480x640 5 xs, 304.4ms\n",
      "0: 480x640 5 xs, 305.1ms\n",
      "0: 480x640 6 xs, 365.3ms\n",
      "0: 480x640 4 xs, 344.4ms\n",
      "0: 480x640 6 xs, 360.5ms\n",
      "0: 480x640 5 xs, 363.1ms\n",
      "0: 480x640 4 xs, 477.0ms\n",
      "0: 480x640 5 xs, 431.6ms\n",
      "0: 480x640 5 xs, 381.4ms\n",
      "0: 480x640 6 xs, 363.5ms\n",
      "0: 480x640 6 xs, 548.7ms\n",
      "0: 480x640 5 xs, 423.8ms\n"
     ]
    },
    {
     "ename": "KeyboardInterrupt",
     "evalue": "",
     "output_type": "error",
     "traceback": [
      "\u001b[1;31m---------------------------------------------------------------------------\u001b[0m",
      "\u001b[1;31mKeyboardInterrupt\u001b[0m                         Traceback (most recent call last)",
      "Cell \u001b[1;32mIn[7], line 1\u001b[0m\n\u001b[1;32m----> 1\u001b[0m results \u001b[38;5;241m=\u001b[39m \u001b[43mmodel\u001b[49m\u001b[38;5;241;43m.\u001b[39;49m\u001b[43mpredict\u001b[49m\u001b[43m(\u001b[49m\u001b[43msource\u001b[49m\u001b[38;5;241;43m=\u001b[39;49m\u001b[38;5;241;43m0\u001b[39;49m\u001b[43m,\u001b[49m\u001b[43m \u001b[49m\u001b[43mshow\u001b[49m\u001b[38;5;241;43m=\u001b[39;49m\u001b[38;5;28;43;01mTrue\u001b[39;49;00m\u001b[43m)\u001b[49m\n",
      "File \u001b[1;32mc:\\Users\\77019\\Desktop\\kbtu\\5 sem\\tic_tac_toe_cv\\env\\Lib\\site-packages\\ultralytics\\engine\\model.py:554\u001b[0m, in \u001b[0;36mModel.predict\u001b[1;34m(self, source, stream, predictor, **kwargs)\u001b[0m\n\u001b[0;32m    552\u001b[0m \u001b[38;5;28;01mif\u001b[39;00m prompts \u001b[38;5;129;01mand\u001b[39;00m \u001b[38;5;28mhasattr\u001b[39m(\u001b[38;5;28mself\u001b[39m\u001b[38;5;241m.\u001b[39mpredictor, \u001b[38;5;124m\"\u001b[39m\u001b[38;5;124mset_prompts\u001b[39m\u001b[38;5;124m\"\u001b[39m):  \u001b[38;5;66;03m# for SAM-type models\u001b[39;00m\n\u001b[0;32m    553\u001b[0m     \u001b[38;5;28mself\u001b[39m\u001b[38;5;241m.\u001b[39mpredictor\u001b[38;5;241m.\u001b[39mset_prompts(prompts)\n\u001b[1;32m--> 554\u001b[0m \u001b[38;5;28;01mreturn\u001b[39;00m \u001b[38;5;28mself\u001b[39m\u001b[38;5;241m.\u001b[39mpredictor\u001b[38;5;241m.\u001b[39mpredict_cli(source\u001b[38;5;241m=\u001b[39msource) \u001b[38;5;28;01mif\u001b[39;00m is_cli \u001b[38;5;28;01melse\u001b[39;00m \u001b[38;5;28;43mself\u001b[39;49m\u001b[38;5;241;43m.\u001b[39;49m\u001b[43mpredictor\u001b[49m\u001b[43m(\u001b[49m\u001b[43msource\u001b[49m\u001b[38;5;241;43m=\u001b[39;49m\u001b[43msource\u001b[49m\u001b[43m,\u001b[49m\u001b[43m \u001b[49m\u001b[43mstream\u001b[49m\u001b[38;5;241;43m=\u001b[39;49m\u001b[43mstream\u001b[49m\u001b[43m)\u001b[49m\n",
      "File \u001b[1;32mc:\\Users\\77019\\Desktop\\kbtu\\5 sem\\tic_tac_toe_cv\\env\\Lib\\site-packages\\ultralytics\\engine\\predictor.py:168\u001b[0m, in \u001b[0;36mBasePredictor.__call__\u001b[1;34m(self, source, model, stream, *args, **kwargs)\u001b[0m\n\u001b[0;32m    166\u001b[0m     \u001b[38;5;28;01mreturn\u001b[39;00m \u001b[38;5;28mself\u001b[39m\u001b[38;5;241m.\u001b[39mstream_inference(source, model, \u001b[38;5;241m*\u001b[39margs, \u001b[38;5;241m*\u001b[39m\u001b[38;5;241m*\u001b[39mkwargs)\n\u001b[0;32m    167\u001b[0m \u001b[38;5;28;01melse\u001b[39;00m:\n\u001b[1;32m--> 168\u001b[0m     \u001b[38;5;28;01mreturn\u001b[39;00m \u001b[38;5;28;43mlist\u001b[39;49m\u001b[43m(\u001b[49m\u001b[38;5;28;43mself\u001b[39;49m\u001b[38;5;241;43m.\u001b[39;49m\u001b[43mstream_inference\u001b[49m\u001b[43m(\u001b[49m\u001b[43msource\u001b[49m\u001b[43m,\u001b[49m\u001b[43m \u001b[49m\u001b[43mmodel\u001b[49m\u001b[43m,\u001b[49m\u001b[43m \u001b[49m\u001b[38;5;241;43m*\u001b[39;49m\u001b[43margs\u001b[49m\u001b[43m,\u001b[49m\u001b[43m \u001b[49m\u001b[38;5;241;43m*\u001b[39;49m\u001b[38;5;241;43m*\u001b[39;49m\u001b[43mkwargs\u001b[49m\u001b[43m)\u001b[49m\u001b[43m)\u001b[49m\n",
      "File \u001b[1;32mc:\\Users\\77019\\Desktop\\kbtu\\5 sem\\tic_tac_toe_cv\\env\\Lib\\site-packages\\torch\\utils\\_contextlib.py:57\u001b[0m, in \u001b[0;36m_wrap_generator.<locals>.generator_context\u001b[1;34m(*args, **kwargs)\u001b[0m\n\u001b[0;32m     54\u001b[0m         \u001b[38;5;28;01melse\u001b[39;00m:\n\u001b[0;32m     55\u001b[0m             \u001b[38;5;66;03m# Pass the last request to the generator and get its response\u001b[39;00m\n\u001b[0;32m     56\u001b[0m             \u001b[38;5;28;01mwith\u001b[39;00m ctx_factory():\n\u001b[1;32m---> 57\u001b[0m                 response \u001b[38;5;241m=\u001b[39m \u001b[43mgen\u001b[49m\u001b[38;5;241;43m.\u001b[39;49m\u001b[43msend\u001b[49m\u001b[43m(\u001b[49m\u001b[43mrequest\u001b[49m\u001b[43m)\u001b[49m\n\u001b[0;32m     59\u001b[0m \u001b[38;5;66;03m# We let the exceptions raised above by the generator's `.throw` or\u001b[39;00m\n\u001b[0;32m     60\u001b[0m \u001b[38;5;66;03m# `.send` methods bubble up to our caller, except for StopIteration\u001b[39;00m\n\u001b[0;32m     61\u001b[0m \u001b[38;5;28;01mexcept\u001b[39;00m \u001b[38;5;167;01mStopIteration\u001b[39;00m \u001b[38;5;28;01mas\u001b[39;00m e:\n\u001b[0;32m     62\u001b[0m     \u001b[38;5;66;03m# The generator informed us that it is done: take whatever its\u001b[39;00m\n\u001b[0;32m     63\u001b[0m     \u001b[38;5;66;03m# returned value (if any) was and indicate that we're done too\u001b[39;00m\n\u001b[0;32m     64\u001b[0m     \u001b[38;5;66;03m# by returning it (see docs for python's return-statement).\u001b[39;00m\n",
      "File \u001b[1;32mc:\\Users\\77019\\Desktop\\kbtu\\5 sem\\tic_tac_toe_cv\\env\\Lib\\site-packages\\ultralytics\\engine\\predictor.py:254\u001b[0m, in \u001b[0;36mBasePredictor.stream_inference\u001b[1;34m(self, source, model, *args, **kwargs)\u001b[0m\n\u001b[0;32m    252\u001b[0m \u001b[38;5;66;03m# Inference\u001b[39;00m\n\u001b[0;32m    253\u001b[0m \u001b[38;5;28;01mwith\u001b[39;00m profilers[\u001b[38;5;241m1\u001b[39m]:\n\u001b[1;32m--> 254\u001b[0m     preds \u001b[38;5;241m=\u001b[39m \u001b[38;5;28;43mself\u001b[39;49m\u001b[38;5;241;43m.\u001b[39;49m\u001b[43minference\u001b[49m\u001b[43m(\u001b[49m\u001b[43mim\u001b[49m\u001b[43m,\u001b[49m\u001b[43m \u001b[49m\u001b[38;5;241;43m*\u001b[39;49m\u001b[43margs\u001b[49m\u001b[43m,\u001b[49m\u001b[43m \u001b[49m\u001b[38;5;241;43m*\u001b[39;49m\u001b[38;5;241;43m*\u001b[39;49m\u001b[43mkwargs\u001b[49m\u001b[43m)\u001b[49m\n\u001b[0;32m    255\u001b[0m     \u001b[38;5;28;01mif\u001b[39;00m \u001b[38;5;28mself\u001b[39m\u001b[38;5;241m.\u001b[39margs\u001b[38;5;241m.\u001b[39membed:\n\u001b[0;32m    256\u001b[0m         \u001b[38;5;28;01myield from\u001b[39;00m [preds] \u001b[38;5;28;01mif\u001b[39;00m \u001b[38;5;28misinstance\u001b[39m(preds, torch\u001b[38;5;241m.\u001b[39mTensor) \u001b[38;5;28;01melse\u001b[39;00m preds  \u001b[38;5;66;03m# yield embedding tensors\u001b[39;00m\n",
      "File \u001b[1;32mc:\\Users\\77019\\Desktop\\kbtu\\5 sem\\tic_tac_toe_cv\\env\\Lib\\site-packages\\ultralytics\\engine\\predictor.py:142\u001b[0m, in \u001b[0;36mBasePredictor.inference\u001b[1;34m(self, im, *args, **kwargs)\u001b[0m\n\u001b[0;32m    136\u001b[0m \u001b[38;5;250m\u001b[39m\u001b[38;5;124;03m\"\"\"Runs inference on a given image using the specified model and arguments.\"\"\"\u001b[39;00m\n\u001b[0;32m    137\u001b[0m visualize \u001b[38;5;241m=\u001b[39m (\n\u001b[0;32m    138\u001b[0m     increment_path(\u001b[38;5;28mself\u001b[39m\u001b[38;5;241m.\u001b[39msave_dir \u001b[38;5;241m/\u001b[39m Path(\u001b[38;5;28mself\u001b[39m\u001b[38;5;241m.\u001b[39mbatch[\u001b[38;5;241m0\u001b[39m][\u001b[38;5;241m0\u001b[39m])\u001b[38;5;241m.\u001b[39mstem, mkdir\u001b[38;5;241m=\u001b[39m\u001b[38;5;28;01mTrue\u001b[39;00m)\n\u001b[0;32m    139\u001b[0m     \u001b[38;5;28;01mif\u001b[39;00m \u001b[38;5;28mself\u001b[39m\u001b[38;5;241m.\u001b[39margs\u001b[38;5;241m.\u001b[39mvisualize \u001b[38;5;129;01mand\u001b[39;00m (\u001b[38;5;129;01mnot\u001b[39;00m \u001b[38;5;28mself\u001b[39m\u001b[38;5;241m.\u001b[39msource_type\u001b[38;5;241m.\u001b[39mtensor)\n\u001b[0;32m    140\u001b[0m     \u001b[38;5;28;01melse\u001b[39;00m \u001b[38;5;28;01mFalse\u001b[39;00m\n\u001b[0;32m    141\u001b[0m )\n\u001b[1;32m--> 142\u001b[0m \u001b[38;5;28;01mreturn\u001b[39;00m \u001b[38;5;28;43mself\u001b[39;49m\u001b[38;5;241;43m.\u001b[39;49m\u001b[43mmodel\u001b[49m\u001b[43m(\u001b[49m\u001b[43mim\u001b[49m\u001b[43m,\u001b[49m\u001b[43m \u001b[49m\u001b[43maugment\u001b[49m\u001b[38;5;241;43m=\u001b[39;49m\u001b[38;5;28;43mself\u001b[39;49m\u001b[38;5;241;43m.\u001b[39;49m\u001b[43margs\u001b[49m\u001b[38;5;241;43m.\u001b[39;49m\u001b[43maugment\u001b[49m\u001b[43m,\u001b[49m\u001b[43m \u001b[49m\u001b[43mvisualize\u001b[49m\u001b[38;5;241;43m=\u001b[39;49m\u001b[43mvisualize\u001b[49m\u001b[43m,\u001b[49m\u001b[43m \u001b[49m\u001b[43membed\u001b[49m\u001b[38;5;241;43m=\u001b[39;49m\u001b[38;5;28;43mself\u001b[39;49m\u001b[38;5;241;43m.\u001b[39;49m\u001b[43margs\u001b[49m\u001b[38;5;241;43m.\u001b[39;49m\u001b[43membed\u001b[49m\u001b[43m,\u001b[49m\u001b[43m \u001b[49m\u001b[38;5;241;43m*\u001b[39;49m\u001b[43margs\u001b[49m\u001b[43m,\u001b[49m\u001b[43m \u001b[49m\u001b[38;5;241;43m*\u001b[39;49m\u001b[38;5;241;43m*\u001b[39;49m\u001b[43mkwargs\u001b[49m\u001b[43m)\u001b[49m\n",
      "File \u001b[1;32mc:\\Users\\77019\\Desktop\\kbtu\\5 sem\\tic_tac_toe_cv\\env\\Lib\\site-packages\\torch\\nn\\modules\\module.py:1736\u001b[0m, in \u001b[0;36mModule._wrapped_call_impl\u001b[1;34m(self, *args, **kwargs)\u001b[0m\n\u001b[0;32m   1734\u001b[0m     \u001b[38;5;28;01mreturn\u001b[39;00m \u001b[38;5;28mself\u001b[39m\u001b[38;5;241m.\u001b[39m_compiled_call_impl(\u001b[38;5;241m*\u001b[39margs, \u001b[38;5;241m*\u001b[39m\u001b[38;5;241m*\u001b[39mkwargs)  \u001b[38;5;66;03m# type: ignore[misc]\u001b[39;00m\n\u001b[0;32m   1735\u001b[0m \u001b[38;5;28;01melse\u001b[39;00m:\n\u001b[1;32m-> 1736\u001b[0m     \u001b[38;5;28;01mreturn\u001b[39;00m \u001b[38;5;28;43mself\u001b[39;49m\u001b[38;5;241;43m.\u001b[39;49m\u001b[43m_call_impl\u001b[49m\u001b[43m(\u001b[49m\u001b[38;5;241;43m*\u001b[39;49m\u001b[43margs\u001b[49m\u001b[43m,\u001b[49m\u001b[43m \u001b[49m\u001b[38;5;241;43m*\u001b[39;49m\u001b[38;5;241;43m*\u001b[39;49m\u001b[43mkwargs\u001b[49m\u001b[43m)\u001b[49m\n",
      "File \u001b[1;32mc:\\Users\\77019\\Desktop\\kbtu\\5 sem\\tic_tac_toe_cv\\env\\Lib\\site-packages\\torch\\nn\\modules\\module.py:1747\u001b[0m, in \u001b[0;36mModule._call_impl\u001b[1;34m(self, *args, **kwargs)\u001b[0m\n\u001b[0;32m   1742\u001b[0m \u001b[38;5;66;03m# If we don't have any hooks, we want to skip the rest of the logic in\u001b[39;00m\n\u001b[0;32m   1743\u001b[0m \u001b[38;5;66;03m# this function, and just call forward.\u001b[39;00m\n\u001b[0;32m   1744\u001b[0m \u001b[38;5;28;01mif\u001b[39;00m \u001b[38;5;129;01mnot\u001b[39;00m (\u001b[38;5;28mself\u001b[39m\u001b[38;5;241m.\u001b[39m_backward_hooks \u001b[38;5;129;01mor\u001b[39;00m \u001b[38;5;28mself\u001b[39m\u001b[38;5;241m.\u001b[39m_backward_pre_hooks \u001b[38;5;129;01mor\u001b[39;00m \u001b[38;5;28mself\u001b[39m\u001b[38;5;241m.\u001b[39m_forward_hooks \u001b[38;5;129;01mor\u001b[39;00m \u001b[38;5;28mself\u001b[39m\u001b[38;5;241m.\u001b[39m_forward_pre_hooks\n\u001b[0;32m   1745\u001b[0m         \u001b[38;5;129;01mor\u001b[39;00m _global_backward_pre_hooks \u001b[38;5;129;01mor\u001b[39;00m _global_backward_hooks\n\u001b[0;32m   1746\u001b[0m         \u001b[38;5;129;01mor\u001b[39;00m _global_forward_hooks \u001b[38;5;129;01mor\u001b[39;00m _global_forward_pre_hooks):\n\u001b[1;32m-> 1747\u001b[0m     \u001b[38;5;28;01mreturn\u001b[39;00m \u001b[43mforward_call\u001b[49m\u001b[43m(\u001b[49m\u001b[38;5;241;43m*\u001b[39;49m\u001b[43margs\u001b[49m\u001b[43m,\u001b[49m\u001b[43m \u001b[49m\u001b[38;5;241;43m*\u001b[39;49m\u001b[38;5;241;43m*\u001b[39;49m\u001b[43mkwargs\u001b[49m\u001b[43m)\u001b[49m\n\u001b[0;32m   1749\u001b[0m result \u001b[38;5;241m=\u001b[39m \u001b[38;5;28;01mNone\u001b[39;00m\n\u001b[0;32m   1750\u001b[0m called_always_called_hooks \u001b[38;5;241m=\u001b[39m \u001b[38;5;28mset\u001b[39m()\n",
      "File \u001b[1;32mc:\\Users\\77019\\Desktop\\kbtu\\5 sem\\tic_tac_toe_cv\\env\\Lib\\site-packages\\ultralytics\\nn\\autobackend.py:465\u001b[0m, in \u001b[0;36mAutoBackend.forward\u001b[1;34m(self, im, augment, visualize, embed)\u001b[0m\n\u001b[0;32m    463\u001b[0m \u001b[38;5;66;03m# PyTorch\u001b[39;00m\n\u001b[0;32m    464\u001b[0m \u001b[38;5;28;01mif\u001b[39;00m \u001b[38;5;28mself\u001b[39m\u001b[38;5;241m.\u001b[39mpt \u001b[38;5;129;01mor\u001b[39;00m \u001b[38;5;28mself\u001b[39m\u001b[38;5;241m.\u001b[39mnn_module:\n\u001b[1;32m--> 465\u001b[0m     y \u001b[38;5;241m=\u001b[39m \u001b[38;5;28;43mself\u001b[39;49m\u001b[38;5;241;43m.\u001b[39;49m\u001b[43mmodel\u001b[49m\u001b[43m(\u001b[49m\u001b[43mim\u001b[49m\u001b[43m,\u001b[49m\u001b[43m \u001b[49m\u001b[43maugment\u001b[49m\u001b[38;5;241;43m=\u001b[39;49m\u001b[43maugment\u001b[49m\u001b[43m,\u001b[49m\u001b[43m \u001b[49m\u001b[43mvisualize\u001b[49m\u001b[38;5;241;43m=\u001b[39;49m\u001b[43mvisualize\u001b[49m\u001b[43m,\u001b[49m\u001b[43m \u001b[49m\u001b[43membed\u001b[49m\u001b[38;5;241;43m=\u001b[39;49m\u001b[43membed\u001b[49m\u001b[43m)\u001b[49m\n\u001b[0;32m    467\u001b[0m \u001b[38;5;66;03m# TorchScript\u001b[39;00m\n\u001b[0;32m    468\u001b[0m \u001b[38;5;28;01melif\u001b[39;00m \u001b[38;5;28mself\u001b[39m\u001b[38;5;241m.\u001b[39mjit:\n",
      "File \u001b[1;32mc:\\Users\\77019\\Desktop\\kbtu\\5 sem\\tic_tac_toe_cv\\env\\Lib\\site-packages\\torch\\nn\\modules\\module.py:1736\u001b[0m, in \u001b[0;36mModule._wrapped_call_impl\u001b[1;34m(self, *args, **kwargs)\u001b[0m\n\u001b[0;32m   1734\u001b[0m     \u001b[38;5;28;01mreturn\u001b[39;00m \u001b[38;5;28mself\u001b[39m\u001b[38;5;241m.\u001b[39m_compiled_call_impl(\u001b[38;5;241m*\u001b[39margs, \u001b[38;5;241m*\u001b[39m\u001b[38;5;241m*\u001b[39mkwargs)  \u001b[38;5;66;03m# type: ignore[misc]\u001b[39;00m\n\u001b[0;32m   1735\u001b[0m \u001b[38;5;28;01melse\u001b[39;00m:\n\u001b[1;32m-> 1736\u001b[0m     \u001b[38;5;28;01mreturn\u001b[39;00m \u001b[38;5;28;43mself\u001b[39;49m\u001b[38;5;241;43m.\u001b[39;49m\u001b[43m_call_impl\u001b[49m\u001b[43m(\u001b[49m\u001b[38;5;241;43m*\u001b[39;49m\u001b[43margs\u001b[49m\u001b[43m,\u001b[49m\u001b[43m \u001b[49m\u001b[38;5;241;43m*\u001b[39;49m\u001b[38;5;241;43m*\u001b[39;49m\u001b[43mkwargs\u001b[49m\u001b[43m)\u001b[49m\n",
      "File \u001b[1;32mc:\\Users\\77019\\Desktop\\kbtu\\5 sem\\tic_tac_toe_cv\\env\\Lib\\site-packages\\torch\\nn\\modules\\module.py:1747\u001b[0m, in \u001b[0;36mModule._call_impl\u001b[1;34m(self, *args, **kwargs)\u001b[0m\n\u001b[0;32m   1742\u001b[0m \u001b[38;5;66;03m# If we don't have any hooks, we want to skip the rest of the logic in\u001b[39;00m\n\u001b[0;32m   1743\u001b[0m \u001b[38;5;66;03m# this function, and just call forward.\u001b[39;00m\n\u001b[0;32m   1744\u001b[0m \u001b[38;5;28;01mif\u001b[39;00m \u001b[38;5;129;01mnot\u001b[39;00m (\u001b[38;5;28mself\u001b[39m\u001b[38;5;241m.\u001b[39m_backward_hooks \u001b[38;5;129;01mor\u001b[39;00m \u001b[38;5;28mself\u001b[39m\u001b[38;5;241m.\u001b[39m_backward_pre_hooks \u001b[38;5;129;01mor\u001b[39;00m \u001b[38;5;28mself\u001b[39m\u001b[38;5;241m.\u001b[39m_forward_hooks \u001b[38;5;129;01mor\u001b[39;00m \u001b[38;5;28mself\u001b[39m\u001b[38;5;241m.\u001b[39m_forward_pre_hooks\n\u001b[0;32m   1745\u001b[0m         \u001b[38;5;129;01mor\u001b[39;00m _global_backward_pre_hooks \u001b[38;5;129;01mor\u001b[39;00m _global_backward_hooks\n\u001b[0;32m   1746\u001b[0m         \u001b[38;5;129;01mor\u001b[39;00m _global_forward_hooks \u001b[38;5;129;01mor\u001b[39;00m _global_forward_pre_hooks):\n\u001b[1;32m-> 1747\u001b[0m     \u001b[38;5;28;01mreturn\u001b[39;00m \u001b[43mforward_call\u001b[49m\u001b[43m(\u001b[49m\u001b[38;5;241;43m*\u001b[39;49m\u001b[43margs\u001b[49m\u001b[43m,\u001b[49m\u001b[43m \u001b[49m\u001b[38;5;241;43m*\u001b[39;49m\u001b[38;5;241;43m*\u001b[39;49m\u001b[43mkwargs\u001b[49m\u001b[43m)\u001b[49m\n\u001b[0;32m   1749\u001b[0m result \u001b[38;5;241m=\u001b[39m \u001b[38;5;28;01mNone\u001b[39;00m\n\u001b[0;32m   1750\u001b[0m called_always_called_hooks \u001b[38;5;241m=\u001b[39m \u001b[38;5;28mset\u001b[39m()\n",
      "File \u001b[1;32mc:\\Users\\77019\\Desktop\\kbtu\\5 sem\\tic_tac_toe_cv\\env\\Lib\\site-packages\\ultralytics\\nn\\tasks.py:112\u001b[0m, in \u001b[0;36mBaseModel.forward\u001b[1;34m(self, x, *args, **kwargs)\u001b[0m\n\u001b[0;32m    110\u001b[0m \u001b[38;5;28;01mif\u001b[39;00m \u001b[38;5;28misinstance\u001b[39m(x, \u001b[38;5;28mdict\u001b[39m):  \u001b[38;5;66;03m# for cases of training and validating while training.\u001b[39;00m\n\u001b[0;32m    111\u001b[0m     \u001b[38;5;28;01mreturn\u001b[39;00m \u001b[38;5;28mself\u001b[39m\u001b[38;5;241m.\u001b[39mloss(x, \u001b[38;5;241m*\u001b[39margs, \u001b[38;5;241m*\u001b[39m\u001b[38;5;241m*\u001b[39mkwargs)\n\u001b[1;32m--> 112\u001b[0m \u001b[38;5;28;01mreturn\u001b[39;00m \u001b[38;5;28;43mself\u001b[39;49m\u001b[38;5;241;43m.\u001b[39;49m\u001b[43mpredict\u001b[49m\u001b[43m(\u001b[49m\u001b[43mx\u001b[49m\u001b[43m,\u001b[49m\u001b[43m \u001b[49m\u001b[38;5;241;43m*\u001b[39;49m\u001b[43margs\u001b[49m\u001b[43m,\u001b[49m\u001b[43m \u001b[49m\u001b[38;5;241;43m*\u001b[39;49m\u001b[38;5;241;43m*\u001b[39;49m\u001b[43mkwargs\u001b[49m\u001b[43m)\u001b[49m\n",
      "File \u001b[1;32mc:\\Users\\77019\\Desktop\\kbtu\\5 sem\\tic_tac_toe_cv\\env\\Lib\\site-packages\\ultralytics\\nn\\tasks.py:130\u001b[0m, in \u001b[0;36mBaseModel.predict\u001b[1;34m(self, x, profile, visualize, augment, embed)\u001b[0m\n\u001b[0;32m    128\u001b[0m \u001b[38;5;28;01mif\u001b[39;00m augment:\n\u001b[0;32m    129\u001b[0m     \u001b[38;5;28;01mreturn\u001b[39;00m \u001b[38;5;28mself\u001b[39m\u001b[38;5;241m.\u001b[39m_predict_augment(x)\n\u001b[1;32m--> 130\u001b[0m \u001b[38;5;28;01mreturn\u001b[39;00m \u001b[38;5;28;43mself\u001b[39;49m\u001b[38;5;241;43m.\u001b[39;49m\u001b[43m_predict_once\u001b[49m\u001b[43m(\u001b[49m\u001b[43mx\u001b[49m\u001b[43m,\u001b[49m\u001b[43m \u001b[49m\u001b[43mprofile\u001b[49m\u001b[43m,\u001b[49m\u001b[43m \u001b[49m\u001b[43mvisualize\u001b[49m\u001b[43m,\u001b[49m\u001b[43m \u001b[49m\u001b[43membed\u001b[49m\u001b[43m)\u001b[49m\n",
      "File \u001b[1;32mc:\\Users\\77019\\Desktop\\kbtu\\5 sem\\tic_tac_toe_cv\\env\\Lib\\site-packages\\ultralytics\\nn\\tasks.py:151\u001b[0m, in \u001b[0;36mBaseModel._predict_once\u001b[1;34m(self, x, profile, visualize, embed)\u001b[0m\n\u001b[0;32m    149\u001b[0m \u001b[38;5;28;01mif\u001b[39;00m profile:\n\u001b[0;32m    150\u001b[0m     \u001b[38;5;28mself\u001b[39m\u001b[38;5;241m.\u001b[39m_profile_one_layer(m, x, dt)\n\u001b[1;32m--> 151\u001b[0m x \u001b[38;5;241m=\u001b[39m \u001b[43mm\u001b[49m\u001b[43m(\u001b[49m\u001b[43mx\u001b[49m\u001b[43m)\u001b[49m  \u001b[38;5;66;03m# run\u001b[39;00m\n\u001b[0;32m    152\u001b[0m y\u001b[38;5;241m.\u001b[39mappend(x \u001b[38;5;28;01mif\u001b[39;00m m\u001b[38;5;241m.\u001b[39mi \u001b[38;5;129;01min\u001b[39;00m \u001b[38;5;28mself\u001b[39m\u001b[38;5;241m.\u001b[39msave \u001b[38;5;28;01melse\u001b[39;00m \u001b[38;5;28;01mNone\u001b[39;00m)  \u001b[38;5;66;03m# save output\u001b[39;00m\n\u001b[0;32m    153\u001b[0m \u001b[38;5;28;01mif\u001b[39;00m visualize:\n",
      "File \u001b[1;32mc:\\Users\\77019\\Desktop\\kbtu\\5 sem\\tic_tac_toe_cv\\env\\Lib\\site-packages\\torch\\nn\\modules\\module.py:1736\u001b[0m, in \u001b[0;36mModule._wrapped_call_impl\u001b[1;34m(self, *args, **kwargs)\u001b[0m\n\u001b[0;32m   1734\u001b[0m     \u001b[38;5;28;01mreturn\u001b[39;00m \u001b[38;5;28mself\u001b[39m\u001b[38;5;241m.\u001b[39m_compiled_call_impl(\u001b[38;5;241m*\u001b[39margs, \u001b[38;5;241m*\u001b[39m\u001b[38;5;241m*\u001b[39mkwargs)  \u001b[38;5;66;03m# type: ignore[misc]\u001b[39;00m\n\u001b[0;32m   1735\u001b[0m \u001b[38;5;28;01melse\u001b[39;00m:\n\u001b[1;32m-> 1736\u001b[0m     \u001b[38;5;28;01mreturn\u001b[39;00m \u001b[38;5;28;43mself\u001b[39;49m\u001b[38;5;241;43m.\u001b[39;49m\u001b[43m_call_impl\u001b[49m\u001b[43m(\u001b[49m\u001b[38;5;241;43m*\u001b[39;49m\u001b[43margs\u001b[49m\u001b[43m,\u001b[49m\u001b[43m \u001b[49m\u001b[38;5;241;43m*\u001b[39;49m\u001b[38;5;241;43m*\u001b[39;49m\u001b[43mkwargs\u001b[49m\u001b[43m)\u001b[49m\n",
      "File \u001b[1;32mc:\\Users\\77019\\Desktop\\kbtu\\5 sem\\tic_tac_toe_cv\\env\\Lib\\site-packages\\torch\\nn\\modules\\module.py:1747\u001b[0m, in \u001b[0;36mModule._call_impl\u001b[1;34m(self, *args, **kwargs)\u001b[0m\n\u001b[0;32m   1742\u001b[0m \u001b[38;5;66;03m# If we don't have any hooks, we want to skip the rest of the logic in\u001b[39;00m\n\u001b[0;32m   1743\u001b[0m \u001b[38;5;66;03m# this function, and just call forward.\u001b[39;00m\n\u001b[0;32m   1744\u001b[0m \u001b[38;5;28;01mif\u001b[39;00m \u001b[38;5;129;01mnot\u001b[39;00m (\u001b[38;5;28mself\u001b[39m\u001b[38;5;241m.\u001b[39m_backward_hooks \u001b[38;5;129;01mor\u001b[39;00m \u001b[38;5;28mself\u001b[39m\u001b[38;5;241m.\u001b[39m_backward_pre_hooks \u001b[38;5;129;01mor\u001b[39;00m \u001b[38;5;28mself\u001b[39m\u001b[38;5;241m.\u001b[39m_forward_hooks \u001b[38;5;129;01mor\u001b[39;00m \u001b[38;5;28mself\u001b[39m\u001b[38;5;241m.\u001b[39m_forward_pre_hooks\n\u001b[0;32m   1745\u001b[0m         \u001b[38;5;129;01mor\u001b[39;00m _global_backward_pre_hooks \u001b[38;5;129;01mor\u001b[39;00m _global_backward_hooks\n\u001b[0;32m   1746\u001b[0m         \u001b[38;5;129;01mor\u001b[39;00m _global_forward_hooks \u001b[38;5;129;01mor\u001b[39;00m _global_forward_pre_hooks):\n\u001b[1;32m-> 1747\u001b[0m     \u001b[38;5;28;01mreturn\u001b[39;00m \u001b[43mforward_call\u001b[49m\u001b[43m(\u001b[49m\u001b[38;5;241;43m*\u001b[39;49m\u001b[43margs\u001b[49m\u001b[43m,\u001b[49m\u001b[43m \u001b[49m\u001b[38;5;241;43m*\u001b[39;49m\u001b[38;5;241;43m*\u001b[39;49m\u001b[43mkwargs\u001b[49m\u001b[43m)\u001b[49m\n\u001b[0;32m   1749\u001b[0m result \u001b[38;5;241m=\u001b[39m \u001b[38;5;28;01mNone\u001b[39;00m\n\u001b[0;32m   1750\u001b[0m called_always_called_hooks \u001b[38;5;241m=\u001b[39m \u001b[38;5;28mset\u001b[39m()\n",
      "File \u001b[1;32mc:\\Users\\77019\\Desktop\\kbtu\\5 sem\\tic_tac_toe_cv\\env\\Lib\\site-packages\\ultralytics\\nn\\modules\\head.py:69\u001b[0m, in \u001b[0;36mDetect.forward\u001b[1;34m(self, x)\u001b[0m\n\u001b[0;32m     66\u001b[0m     \u001b[38;5;28;01mreturn\u001b[39;00m \u001b[38;5;28mself\u001b[39m\u001b[38;5;241m.\u001b[39mforward_end2end(x)\n\u001b[0;32m     68\u001b[0m \u001b[38;5;28;01mfor\u001b[39;00m i \u001b[38;5;129;01min\u001b[39;00m \u001b[38;5;28mrange\u001b[39m(\u001b[38;5;28mself\u001b[39m\u001b[38;5;241m.\u001b[39mnl):\n\u001b[1;32m---> 69\u001b[0m     x[i] \u001b[38;5;241m=\u001b[39m torch\u001b[38;5;241m.\u001b[39mcat((\u001b[38;5;28mself\u001b[39m\u001b[38;5;241m.\u001b[39mcv2[i](x[i]), \u001b[38;5;28;43mself\u001b[39;49m\u001b[38;5;241;43m.\u001b[39;49m\u001b[43mcv3\u001b[49m\u001b[43m[\u001b[49m\u001b[43mi\u001b[49m\u001b[43m]\u001b[49m\u001b[43m(\u001b[49m\u001b[43mx\u001b[49m\u001b[43m[\u001b[49m\u001b[43mi\u001b[49m\u001b[43m]\u001b[49m\u001b[43m)\u001b[49m), \u001b[38;5;241m1\u001b[39m)\n\u001b[0;32m     70\u001b[0m \u001b[38;5;28;01mif\u001b[39;00m \u001b[38;5;28mself\u001b[39m\u001b[38;5;241m.\u001b[39mtraining:  \u001b[38;5;66;03m# Training path\u001b[39;00m\n\u001b[0;32m     71\u001b[0m     \u001b[38;5;28;01mreturn\u001b[39;00m x\n",
      "File \u001b[1;32mc:\\Users\\77019\\Desktop\\kbtu\\5 sem\\tic_tac_toe_cv\\env\\Lib\\site-packages\\torch\\nn\\modules\\module.py:1736\u001b[0m, in \u001b[0;36mModule._wrapped_call_impl\u001b[1;34m(self, *args, **kwargs)\u001b[0m\n\u001b[0;32m   1734\u001b[0m     \u001b[38;5;28;01mreturn\u001b[39;00m \u001b[38;5;28mself\u001b[39m\u001b[38;5;241m.\u001b[39m_compiled_call_impl(\u001b[38;5;241m*\u001b[39margs, \u001b[38;5;241m*\u001b[39m\u001b[38;5;241m*\u001b[39mkwargs)  \u001b[38;5;66;03m# type: ignore[misc]\u001b[39;00m\n\u001b[0;32m   1735\u001b[0m \u001b[38;5;28;01melse\u001b[39;00m:\n\u001b[1;32m-> 1736\u001b[0m     \u001b[38;5;28;01mreturn\u001b[39;00m \u001b[38;5;28;43mself\u001b[39;49m\u001b[38;5;241;43m.\u001b[39;49m\u001b[43m_call_impl\u001b[49m\u001b[43m(\u001b[49m\u001b[38;5;241;43m*\u001b[39;49m\u001b[43margs\u001b[49m\u001b[43m,\u001b[49m\u001b[43m \u001b[49m\u001b[38;5;241;43m*\u001b[39;49m\u001b[38;5;241;43m*\u001b[39;49m\u001b[43mkwargs\u001b[49m\u001b[43m)\u001b[49m\n",
      "File \u001b[1;32mc:\\Users\\77019\\Desktop\\kbtu\\5 sem\\tic_tac_toe_cv\\env\\Lib\\site-packages\\torch\\nn\\modules\\module.py:1747\u001b[0m, in \u001b[0;36mModule._call_impl\u001b[1;34m(self, *args, **kwargs)\u001b[0m\n\u001b[0;32m   1742\u001b[0m \u001b[38;5;66;03m# If we don't have any hooks, we want to skip the rest of the logic in\u001b[39;00m\n\u001b[0;32m   1743\u001b[0m \u001b[38;5;66;03m# this function, and just call forward.\u001b[39;00m\n\u001b[0;32m   1744\u001b[0m \u001b[38;5;28;01mif\u001b[39;00m \u001b[38;5;129;01mnot\u001b[39;00m (\u001b[38;5;28mself\u001b[39m\u001b[38;5;241m.\u001b[39m_backward_hooks \u001b[38;5;129;01mor\u001b[39;00m \u001b[38;5;28mself\u001b[39m\u001b[38;5;241m.\u001b[39m_backward_pre_hooks \u001b[38;5;129;01mor\u001b[39;00m \u001b[38;5;28mself\u001b[39m\u001b[38;5;241m.\u001b[39m_forward_hooks \u001b[38;5;129;01mor\u001b[39;00m \u001b[38;5;28mself\u001b[39m\u001b[38;5;241m.\u001b[39m_forward_pre_hooks\n\u001b[0;32m   1745\u001b[0m         \u001b[38;5;129;01mor\u001b[39;00m _global_backward_pre_hooks \u001b[38;5;129;01mor\u001b[39;00m _global_backward_hooks\n\u001b[0;32m   1746\u001b[0m         \u001b[38;5;129;01mor\u001b[39;00m _global_forward_hooks \u001b[38;5;129;01mor\u001b[39;00m _global_forward_pre_hooks):\n\u001b[1;32m-> 1747\u001b[0m     \u001b[38;5;28;01mreturn\u001b[39;00m \u001b[43mforward_call\u001b[49m\u001b[43m(\u001b[49m\u001b[38;5;241;43m*\u001b[39;49m\u001b[43margs\u001b[49m\u001b[43m,\u001b[49m\u001b[43m \u001b[49m\u001b[38;5;241;43m*\u001b[39;49m\u001b[38;5;241;43m*\u001b[39;49m\u001b[43mkwargs\u001b[49m\u001b[43m)\u001b[49m\n\u001b[0;32m   1749\u001b[0m result \u001b[38;5;241m=\u001b[39m \u001b[38;5;28;01mNone\u001b[39;00m\n\u001b[0;32m   1750\u001b[0m called_always_called_hooks \u001b[38;5;241m=\u001b[39m \u001b[38;5;28mset\u001b[39m()\n",
      "File \u001b[1;32mc:\\Users\\77019\\Desktop\\kbtu\\5 sem\\tic_tac_toe_cv\\env\\Lib\\site-packages\\torch\\nn\\modules\\container.py:250\u001b[0m, in \u001b[0;36mSequential.forward\u001b[1;34m(self, input)\u001b[0m\n\u001b[0;32m    248\u001b[0m \u001b[38;5;28;01mdef\u001b[39;00m \u001b[38;5;21mforward\u001b[39m(\u001b[38;5;28mself\u001b[39m, \u001b[38;5;28minput\u001b[39m):\n\u001b[0;32m    249\u001b[0m     \u001b[38;5;28;01mfor\u001b[39;00m module \u001b[38;5;129;01min\u001b[39;00m \u001b[38;5;28mself\u001b[39m:\n\u001b[1;32m--> 250\u001b[0m         \u001b[38;5;28minput\u001b[39m \u001b[38;5;241m=\u001b[39m \u001b[43mmodule\u001b[49m\u001b[43m(\u001b[49m\u001b[38;5;28;43minput\u001b[39;49m\u001b[43m)\u001b[49m\n\u001b[0;32m    251\u001b[0m     \u001b[38;5;28;01mreturn\u001b[39;00m \u001b[38;5;28minput\u001b[39m\n",
      "File \u001b[1;32mc:\\Users\\77019\\Desktop\\kbtu\\5 sem\\tic_tac_toe_cv\\env\\Lib\\site-packages\\torch\\nn\\modules\\module.py:1736\u001b[0m, in \u001b[0;36mModule._wrapped_call_impl\u001b[1;34m(self, *args, **kwargs)\u001b[0m\n\u001b[0;32m   1734\u001b[0m     \u001b[38;5;28;01mreturn\u001b[39;00m \u001b[38;5;28mself\u001b[39m\u001b[38;5;241m.\u001b[39m_compiled_call_impl(\u001b[38;5;241m*\u001b[39margs, \u001b[38;5;241m*\u001b[39m\u001b[38;5;241m*\u001b[39mkwargs)  \u001b[38;5;66;03m# type: ignore[misc]\u001b[39;00m\n\u001b[0;32m   1735\u001b[0m \u001b[38;5;28;01melse\u001b[39;00m:\n\u001b[1;32m-> 1736\u001b[0m     \u001b[38;5;28;01mreturn\u001b[39;00m \u001b[38;5;28;43mself\u001b[39;49m\u001b[38;5;241;43m.\u001b[39;49m\u001b[43m_call_impl\u001b[49m\u001b[43m(\u001b[49m\u001b[38;5;241;43m*\u001b[39;49m\u001b[43margs\u001b[49m\u001b[43m,\u001b[49m\u001b[43m \u001b[49m\u001b[38;5;241;43m*\u001b[39;49m\u001b[38;5;241;43m*\u001b[39;49m\u001b[43mkwargs\u001b[49m\u001b[43m)\u001b[49m\n",
      "File \u001b[1;32mc:\\Users\\77019\\Desktop\\kbtu\\5 sem\\tic_tac_toe_cv\\env\\Lib\\site-packages\\torch\\nn\\modules\\module.py:1747\u001b[0m, in \u001b[0;36mModule._call_impl\u001b[1;34m(self, *args, **kwargs)\u001b[0m\n\u001b[0;32m   1742\u001b[0m \u001b[38;5;66;03m# If we don't have any hooks, we want to skip the rest of the logic in\u001b[39;00m\n\u001b[0;32m   1743\u001b[0m \u001b[38;5;66;03m# this function, and just call forward.\u001b[39;00m\n\u001b[0;32m   1744\u001b[0m \u001b[38;5;28;01mif\u001b[39;00m \u001b[38;5;129;01mnot\u001b[39;00m (\u001b[38;5;28mself\u001b[39m\u001b[38;5;241m.\u001b[39m_backward_hooks \u001b[38;5;129;01mor\u001b[39;00m \u001b[38;5;28mself\u001b[39m\u001b[38;5;241m.\u001b[39m_backward_pre_hooks \u001b[38;5;129;01mor\u001b[39;00m \u001b[38;5;28mself\u001b[39m\u001b[38;5;241m.\u001b[39m_forward_hooks \u001b[38;5;129;01mor\u001b[39;00m \u001b[38;5;28mself\u001b[39m\u001b[38;5;241m.\u001b[39m_forward_pre_hooks\n\u001b[0;32m   1745\u001b[0m         \u001b[38;5;129;01mor\u001b[39;00m _global_backward_pre_hooks \u001b[38;5;129;01mor\u001b[39;00m _global_backward_hooks\n\u001b[0;32m   1746\u001b[0m         \u001b[38;5;129;01mor\u001b[39;00m _global_forward_hooks \u001b[38;5;129;01mor\u001b[39;00m _global_forward_pre_hooks):\n\u001b[1;32m-> 1747\u001b[0m     \u001b[38;5;28;01mreturn\u001b[39;00m \u001b[43mforward_call\u001b[49m\u001b[43m(\u001b[49m\u001b[38;5;241;43m*\u001b[39;49m\u001b[43margs\u001b[49m\u001b[43m,\u001b[49m\u001b[43m \u001b[49m\u001b[38;5;241;43m*\u001b[39;49m\u001b[38;5;241;43m*\u001b[39;49m\u001b[43mkwargs\u001b[49m\u001b[43m)\u001b[49m\n\u001b[0;32m   1749\u001b[0m result \u001b[38;5;241m=\u001b[39m \u001b[38;5;28;01mNone\u001b[39;00m\n\u001b[0;32m   1750\u001b[0m called_always_called_hooks \u001b[38;5;241m=\u001b[39m \u001b[38;5;28mset\u001b[39m()\n",
      "File \u001b[1;32mc:\\Users\\77019\\Desktop\\kbtu\\5 sem\\tic_tac_toe_cv\\env\\Lib\\site-packages\\ultralytics\\nn\\modules\\conv.py:54\u001b[0m, in \u001b[0;36mConv.forward_fuse\u001b[1;34m(self, x)\u001b[0m\n\u001b[0;32m     52\u001b[0m \u001b[38;5;28;01mdef\u001b[39;00m \u001b[38;5;21mforward_fuse\u001b[39m(\u001b[38;5;28mself\u001b[39m, x):\n\u001b[0;32m     53\u001b[0m \u001b[38;5;250m    \u001b[39m\u001b[38;5;124;03m\"\"\"Perform transposed convolution of 2D data.\"\"\"\u001b[39;00m\n\u001b[1;32m---> 54\u001b[0m     \u001b[38;5;28;01mreturn\u001b[39;00m \u001b[38;5;28mself\u001b[39m\u001b[38;5;241m.\u001b[39mact(\u001b[38;5;28;43mself\u001b[39;49m\u001b[38;5;241;43m.\u001b[39;49m\u001b[43mconv\u001b[49m\u001b[43m(\u001b[49m\u001b[43mx\u001b[49m\u001b[43m)\u001b[49m)\n",
      "File \u001b[1;32mc:\\Users\\77019\\Desktop\\kbtu\\5 sem\\tic_tac_toe_cv\\env\\Lib\\site-packages\\torch\\nn\\modules\\module.py:1736\u001b[0m, in \u001b[0;36mModule._wrapped_call_impl\u001b[1;34m(self, *args, **kwargs)\u001b[0m\n\u001b[0;32m   1734\u001b[0m     \u001b[38;5;28;01mreturn\u001b[39;00m \u001b[38;5;28mself\u001b[39m\u001b[38;5;241m.\u001b[39m_compiled_call_impl(\u001b[38;5;241m*\u001b[39margs, \u001b[38;5;241m*\u001b[39m\u001b[38;5;241m*\u001b[39mkwargs)  \u001b[38;5;66;03m# type: ignore[misc]\u001b[39;00m\n\u001b[0;32m   1735\u001b[0m \u001b[38;5;28;01melse\u001b[39;00m:\n\u001b[1;32m-> 1736\u001b[0m     \u001b[38;5;28;01mreturn\u001b[39;00m \u001b[38;5;28;43mself\u001b[39;49m\u001b[38;5;241;43m.\u001b[39;49m\u001b[43m_call_impl\u001b[49m\u001b[43m(\u001b[49m\u001b[38;5;241;43m*\u001b[39;49m\u001b[43margs\u001b[49m\u001b[43m,\u001b[49m\u001b[43m \u001b[49m\u001b[38;5;241;43m*\u001b[39;49m\u001b[38;5;241;43m*\u001b[39;49m\u001b[43mkwargs\u001b[49m\u001b[43m)\u001b[49m\n",
      "File \u001b[1;32mc:\\Users\\77019\\Desktop\\kbtu\\5 sem\\tic_tac_toe_cv\\env\\Lib\\site-packages\\torch\\nn\\modules\\module.py:1747\u001b[0m, in \u001b[0;36mModule._call_impl\u001b[1;34m(self, *args, **kwargs)\u001b[0m\n\u001b[0;32m   1742\u001b[0m \u001b[38;5;66;03m# If we don't have any hooks, we want to skip the rest of the logic in\u001b[39;00m\n\u001b[0;32m   1743\u001b[0m \u001b[38;5;66;03m# this function, and just call forward.\u001b[39;00m\n\u001b[0;32m   1744\u001b[0m \u001b[38;5;28;01mif\u001b[39;00m \u001b[38;5;129;01mnot\u001b[39;00m (\u001b[38;5;28mself\u001b[39m\u001b[38;5;241m.\u001b[39m_backward_hooks \u001b[38;5;129;01mor\u001b[39;00m \u001b[38;5;28mself\u001b[39m\u001b[38;5;241m.\u001b[39m_backward_pre_hooks \u001b[38;5;129;01mor\u001b[39;00m \u001b[38;5;28mself\u001b[39m\u001b[38;5;241m.\u001b[39m_forward_hooks \u001b[38;5;129;01mor\u001b[39;00m \u001b[38;5;28mself\u001b[39m\u001b[38;5;241m.\u001b[39m_forward_pre_hooks\n\u001b[0;32m   1745\u001b[0m         \u001b[38;5;129;01mor\u001b[39;00m _global_backward_pre_hooks \u001b[38;5;129;01mor\u001b[39;00m _global_backward_hooks\n\u001b[0;32m   1746\u001b[0m         \u001b[38;5;129;01mor\u001b[39;00m _global_forward_hooks \u001b[38;5;129;01mor\u001b[39;00m _global_forward_pre_hooks):\n\u001b[1;32m-> 1747\u001b[0m     \u001b[38;5;28;01mreturn\u001b[39;00m \u001b[43mforward_call\u001b[49m\u001b[43m(\u001b[49m\u001b[38;5;241;43m*\u001b[39;49m\u001b[43margs\u001b[49m\u001b[43m,\u001b[49m\u001b[43m \u001b[49m\u001b[38;5;241;43m*\u001b[39;49m\u001b[38;5;241;43m*\u001b[39;49m\u001b[43mkwargs\u001b[49m\u001b[43m)\u001b[49m\n\u001b[0;32m   1749\u001b[0m result \u001b[38;5;241m=\u001b[39m \u001b[38;5;28;01mNone\u001b[39;00m\n\u001b[0;32m   1750\u001b[0m called_always_called_hooks \u001b[38;5;241m=\u001b[39m \u001b[38;5;28mset\u001b[39m()\n",
      "File \u001b[1;32mc:\\Users\\77019\\Desktop\\kbtu\\5 sem\\tic_tac_toe_cv\\env\\Lib\\site-packages\\torch\\nn\\modules\\conv.py:554\u001b[0m, in \u001b[0;36mConv2d.forward\u001b[1;34m(self, input)\u001b[0m\n\u001b[0;32m    553\u001b[0m \u001b[38;5;28;01mdef\u001b[39;00m \u001b[38;5;21mforward\u001b[39m(\u001b[38;5;28mself\u001b[39m, \u001b[38;5;28minput\u001b[39m: Tensor) \u001b[38;5;241m-\u001b[39m\u001b[38;5;241m>\u001b[39m Tensor:\n\u001b[1;32m--> 554\u001b[0m     \u001b[38;5;28;01mreturn\u001b[39;00m \u001b[38;5;28;43mself\u001b[39;49m\u001b[38;5;241;43m.\u001b[39;49m\u001b[43m_conv_forward\u001b[49m\u001b[43m(\u001b[49m\u001b[38;5;28;43minput\u001b[39;49m\u001b[43m,\u001b[49m\u001b[43m \u001b[49m\u001b[38;5;28;43mself\u001b[39;49m\u001b[38;5;241;43m.\u001b[39;49m\u001b[43mweight\u001b[49m\u001b[43m,\u001b[49m\u001b[43m \u001b[49m\u001b[38;5;28;43mself\u001b[39;49m\u001b[38;5;241;43m.\u001b[39;49m\u001b[43mbias\u001b[49m\u001b[43m)\u001b[49m\n",
      "File \u001b[1;32mc:\\Users\\77019\\Desktop\\kbtu\\5 sem\\tic_tac_toe_cv\\env\\Lib\\site-packages\\torch\\nn\\modules\\conv.py:549\u001b[0m, in \u001b[0;36mConv2d._conv_forward\u001b[1;34m(self, input, weight, bias)\u001b[0m\n\u001b[0;32m    537\u001b[0m \u001b[38;5;28;01mif\u001b[39;00m \u001b[38;5;28mself\u001b[39m\u001b[38;5;241m.\u001b[39mpadding_mode \u001b[38;5;241m!=\u001b[39m \u001b[38;5;124m\"\u001b[39m\u001b[38;5;124mzeros\u001b[39m\u001b[38;5;124m\"\u001b[39m:\n\u001b[0;32m    538\u001b[0m     \u001b[38;5;28;01mreturn\u001b[39;00m F\u001b[38;5;241m.\u001b[39mconv2d(\n\u001b[0;32m    539\u001b[0m         F\u001b[38;5;241m.\u001b[39mpad(\n\u001b[0;32m    540\u001b[0m             \u001b[38;5;28minput\u001b[39m, \u001b[38;5;28mself\u001b[39m\u001b[38;5;241m.\u001b[39m_reversed_padding_repeated_twice, mode\u001b[38;5;241m=\u001b[39m\u001b[38;5;28mself\u001b[39m\u001b[38;5;241m.\u001b[39mpadding_mode\n\u001b[1;32m   (...)\u001b[0m\n\u001b[0;32m    547\u001b[0m         \u001b[38;5;28mself\u001b[39m\u001b[38;5;241m.\u001b[39mgroups,\n\u001b[0;32m    548\u001b[0m     )\n\u001b[1;32m--> 549\u001b[0m \u001b[38;5;28;01mreturn\u001b[39;00m \u001b[43mF\u001b[49m\u001b[38;5;241;43m.\u001b[39;49m\u001b[43mconv2d\u001b[49m\u001b[43m(\u001b[49m\n\u001b[0;32m    550\u001b[0m \u001b[43m    \u001b[49m\u001b[38;5;28;43minput\u001b[39;49m\u001b[43m,\u001b[49m\u001b[43m \u001b[49m\u001b[43mweight\u001b[49m\u001b[43m,\u001b[49m\u001b[43m \u001b[49m\u001b[43mbias\u001b[49m\u001b[43m,\u001b[49m\u001b[43m \u001b[49m\u001b[38;5;28;43mself\u001b[39;49m\u001b[38;5;241;43m.\u001b[39;49m\u001b[43mstride\u001b[49m\u001b[43m,\u001b[49m\u001b[43m \u001b[49m\u001b[38;5;28;43mself\u001b[39;49m\u001b[38;5;241;43m.\u001b[39;49m\u001b[43mpadding\u001b[49m\u001b[43m,\u001b[49m\u001b[43m \u001b[49m\u001b[38;5;28;43mself\u001b[39;49m\u001b[38;5;241;43m.\u001b[39;49m\u001b[43mdilation\u001b[49m\u001b[43m,\u001b[49m\u001b[43m \u001b[49m\u001b[38;5;28;43mself\u001b[39;49m\u001b[38;5;241;43m.\u001b[39;49m\u001b[43mgroups\u001b[49m\n\u001b[0;32m    551\u001b[0m \u001b[43m\u001b[49m\u001b[43m)\u001b[49m\n",
      "\u001b[1;31mKeyboardInterrupt\u001b[0m: "
     ]
    }
   ],
   "source": [
    "results = model.predict(source=0, show=True)"
   ]
  }
 ],
 "metadata": {
  "kernelspec": {
   "display_name": "env",
   "language": "python",
   "name": "python3"
  },
  "language_info": {
   "codemirror_mode": {
    "name": "ipython",
    "version": 3
   },
   "file_extension": ".py",
   "mimetype": "text/x-python",
   "name": "python",
   "nbconvert_exporter": "python",
   "pygments_lexer": "ipython3",
   "version": "3.12.1"
  }
 },
 "nbformat": 4,
 "nbformat_minor": 2
}
